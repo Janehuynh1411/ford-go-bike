{
 "cells": [
  {
   "cell_type": "markdown",
   "metadata": {
    "slideshow": {
     "slide_type": "slide"
    }
   },
   "source": [
    "# Analyzing Ford Go Bike's data - Feb 2019"
   ]
  },
  {
   "cell_type": "markdown",
   "metadata": {
    "slideshow": {
     "slide_type": "subslide"
    }
   },
   "source": [
    "Definitions:\n",
    "\n",
    "Trip Duration (seconds)\n",
    "\n",
    "Start Time and Date\n",
    "\n",
    "End Time and Date\n",
    "\n",
    "Start Station ID\n",
    "\n",
    "Start Station Name\n",
    "\n",
    "Start Station Latitude\n",
    "\n",
    "Start Station Longitude\n",
    "\n",
    "End Station ID\n",
    "\n",
    "End Station Name\n",
    "\n",
    "End Station Latitude\n",
    "\n",
    "End Station Longitude\n",
    "\n",
    "Bike ID\n",
    "\n",
    "User Type (Subscriber or Customer)"
   ]
  },
  {
   "cell_type": "markdown",
   "metadata": {
    "slideshow": {
     "slide_type": "skip"
    }
   },
   "source": [
    "                "
   ]
  },
  {
   "cell_type": "markdown",
   "metadata": {
    "slideshow": {
     "slide_type": "skip"
    }
   },
   "source": [
    "                 "
   ]
  },
  {
   "cell_type": "markdown",
   "metadata": {
    "slideshow": {
     "slide_type": "skip"
    }
   },
   "source": [
    "## Gathering"
   ]
  },
  {
   "cell_type": "code",
   "execution_count": 1,
   "metadata": {
    "slideshow": {
     "slide_type": "skip"
    }
   },
   "outputs": [],
   "source": [
    "import pandas as pd\n",
    "import numpy as np\n",
    "import seaborn as sb\n",
    "import matplotlib.pyplot as plt"
   ]
  },
  {
   "cell_type": "code",
   "execution_count": 2,
   "metadata": {
    "slideshow": {
     "slide_type": "skip"
    }
   },
   "outputs": [],
   "source": [
    "df = pd.read_csv((\"full-201902-fordgobike.csv\"), dtype={'start_station_id':str,'end_station_id':str})"
   ]
  },
  {
   "cell_type": "markdown",
   "metadata": {
    "slideshow": {
     "slide_type": "skip"
    }
   },
   "source": [
    "                    "
   ]
  },
  {
   "cell_type": "markdown",
   "metadata": {
    "slideshow": {
     "slide_type": "skip"
    }
   },
   "source": [
    "## Assessing"
   ]
  },
  {
   "cell_type": "code",
   "execution_count": 3,
   "metadata": {
    "slideshow": {
     "slide_type": "slide"
    }
   },
   "outputs": [
    {
     "data": {
      "text/html": [
       "<div>\n",
       "<style scoped>\n",
       "    .dataframe tbody tr th:only-of-type {\n",
       "        vertical-align: middle;\n",
       "    }\n",
       "\n",
       "    .dataframe tbody tr th {\n",
       "        vertical-align: top;\n",
       "    }\n",
       "\n",
       "    .dataframe thead th {\n",
       "        text-align: right;\n",
       "    }\n",
       "</style>\n",
       "<table border=\"1\" class=\"dataframe\">\n",
       "  <thead>\n",
       "    <tr style=\"text-align: right;\">\n",
       "      <th></th>\n",
       "      <th>duration_sec</th>\n",
       "      <th>start_time</th>\n",
       "      <th>end_time</th>\n",
       "      <th>start_station_id</th>\n",
       "      <th>start_station_name</th>\n",
       "      <th>start_station_latitude</th>\n",
       "      <th>start_station_longitude</th>\n",
       "      <th>end_station_id</th>\n",
       "      <th>end_station_name</th>\n",
       "      <th>end_station_latitude</th>\n",
       "      <th>end_station_longitude</th>\n",
       "      <th>bike_id</th>\n",
       "      <th>user_type</th>\n",
       "      <th>member_birth_year</th>\n",
       "      <th>member_gender</th>\n",
       "      <th>bike_share_for_all_trip</th>\n",
       "    </tr>\n",
       "  </thead>\n",
       "  <tbody>\n",
       "    <tr>\n",
       "      <th>0</th>\n",
       "      <td>52185</td>\n",
       "      <td>2019-02-28 17:32:10.1450</td>\n",
       "      <td>2019-03-01 08:01:55.9750</td>\n",
       "      <td>21</td>\n",
       "      <td>Montgomery St BART Station (Market St at 2nd St)</td>\n",
       "      <td>37.789625</td>\n",
       "      <td>-122.400811</td>\n",
       "      <td>13</td>\n",
       "      <td>Commercial St at Montgomery St</td>\n",
       "      <td>37.794231</td>\n",
       "      <td>-122.402923</td>\n",
       "      <td>4902</td>\n",
       "      <td>Customer</td>\n",
       "      <td>1984.0</td>\n",
       "      <td>Male</td>\n",
       "      <td>No</td>\n",
       "    </tr>\n",
       "    <tr>\n",
       "      <th>1</th>\n",
       "      <td>42521</td>\n",
       "      <td>2019-02-28 18:53:21.7890</td>\n",
       "      <td>2019-03-01 06:42:03.0560</td>\n",
       "      <td>23</td>\n",
       "      <td>The Embarcadero at Steuart St</td>\n",
       "      <td>37.791464</td>\n",
       "      <td>-122.391034</td>\n",
       "      <td>81</td>\n",
       "      <td>Berry St at 4th St</td>\n",
       "      <td>37.775880</td>\n",
       "      <td>-122.393170</td>\n",
       "      <td>2535</td>\n",
       "      <td>Customer</td>\n",
       "      <td>NaN</td>\n",
       "      <td>NaN</td>\n",
       "      <td>No</td>\n",
       "    </tr>\n",
       "    <tr>\n",
       "      <th>2</th>\n",
       "      <td>61854</td>\n",
       "      <td>2019-02-28 12:13:13.2180</td>\n",
       "      <td>2019-03-01 05:24:08.1460</td>\n",
       "      <td>86</td>\n",
       "      <td>Market St at Dolores St</td>\n",
       "      <td>37.769305</td>\n",
       "      <td>-122.426826</td>\n",
       "      <td>3</td>\n",
       "      <td>Powell St BART Station (Market St at 4th St)</td>\n",
       "      <td>37.786375</td>\n",
       "      <td>-122.404904</td>\n",
       "      <td>5905</td>\n",
       "      <td>Customer</td>\n",
       "      <td>1972.0</td>\n",
       "      <td>Male</td>\n",
       "      <td>No</td>\n",
       "    </tr>\n",
       "    <tr>\n",
       "      <th>3</th>\n",
       "      <td>36490</td>\n",
       "      <td>2019-02-28 17:54:26.0100</td>\n",
       "      <td>2019-03-01 04:02:36.8420</td>\n",
       "      <td>375</td>\n",
       "      <td>Grove St at Masonic Ave</td>\n",
       "      <td>37.774836</td>\n",
       "      <td>-122.446546</td>\n",
       "      <td>70</td>\n",
       "      <td>Central Ave at Fell St</td>\n",
       "      <td>37.773311</td>\n",
       "      <td>-122.444293</td>\n",
       "      <td>6638</td>\n",
       "      <td>Subscriber</td>\n",
       "      <td>1989.0</td>\n",
       "      <td>Other</td>\n",
       "      <td>No</td>\n",
       "    </tr>\n",
       "    <tr>\n",
       "      <th>4</th>\n",
       "      <td>1585</td>\n",
       "      <td>2019-02-28 23:54:18.5490</td>\n",
       "      <td>2019-03-01 00:20:44.0740</td>\n",
       "      <td>7</td>\n",
       "      <td>Frank H Ogawa Plaza</td>\n",
       "      <td>37.804562</td>\n",
       "      <td>-122.271738</td>\n",
       "      <td>222</td>\n",
       "      <td>10th Ave at E 15th St</td>\n",
       "      <td>37.792714</td>\n",
       "      <td>-122.248780</td>\n",
       "      <td>4898</td>\n",
       "      <td>Subscriber</td>\n",
       "      <td>1974.0</td>\n",
       "      <td>Male</td>\n",
       "      <td>Yes</td>\n",
       "    </tr>\n",
       "  </tbody>\n",
       "</table>\n",
       "</div>"
      ],
      "text/plain": [
       "   duration_sec                start_time                  end_time  \\\n",
       "0         52185  2019-02-28 17:32:10.1450  2019-03-01 08:01:55.9750   \n",
       "1         42521  2019-02-28 18:53:21.7890  2019-03-01 06:42:03.0560   \n",
       "2         61854  2019-02-28 12:13:13.2180  2019-03-01 05:24:08.1460   \n",
       "3         36490  2019-02-28 17:54:26.0100  2019-03-01 04:02:36.8420   \n",
       "4          1585  2019-02-28 23:54:18.5490  2019-03-01 00:20:44.0740   \n",
       "\n",
       "  start_station_id                                start_station_name  \\\n",
       "0               21  Montgomery St BART Station (Market St at 2nd St)   \n",
       "1               23                     The Embarcadero at Steuart St   \n",
       "2               86                           Market St at Dolores St   \n",
       "3              375                           Grove St at Masonic Ave   \n",
       "4                7                               Frank H Ogawa Plaza   \n",
       "\n",
       "   start_station_latitude  start_station_longitude end_station_id  \\\n",
       "0               37.789625              -122.400811             13   \n",
       "1               37.791464              -122.391034             81   \n",
       "2               37.769305              -122.426826              3   \n",
       "3               37.774836              -122.446546             70   \n",
       "4               37.804562              -122.271738            222   \n",
       "\n",
       "                               end_station_name  end_station_latitude  \\\n",
       "0                Commercial St at Montgomery St             37.794231   \n",
       "1                            Berry St at 4th St             37.775880   \n",
       "2  Powell St BART Station (Market St at 4th St)             37.786375   \n",
       "3                        Central Ave at Fell St             37.773311   \n",
       "4                         10th Ave at E 15th St             37.792714   \n",
       "\n",
       "   end_station_longitude  bike_id   user_type  member_birth_year  \\\n",
       "0            -122.402923     4902    Customer             1984.0   \n",
       "1            -122.393170     2535    Customer                NaN   \n",
       "2            -122.404904     5905    Customer             1972.0   \n",
       "3            -122.444293     6638  Subscriber             1989.0   \n",
       "4            -122.248780     4898  Subscriber             1974.0   \n",
       "\n",
       "  member_gender bike_share_for_all_trip  \n",
       "0          Male                      No  \n",
       "1           NaN                      No  \n",
       "2          Male                      No  \n",
       "3         Other                      No  \n",
       "4          Male                     Yes  "
      ]
     },
     "execution_count": 3,
     "metadata": {},
     "output_type": "execute_result"
    }
   ],
   "source": [
    "df.head()"
   ]
  },
  {
   "cell_type": "code",
   "execution_count": 4,
   "metadata": {
    "slideshow": {
     "slide_type": "slide"
    }
   },
   "outputs": [
    {
     "name": "stdout",
     "output_type": "stream",
     "text": [
      "<class 'pandas.core.frame.DataFrame'>\n",
      "RangeIndex: 183412 entries, 0 to 183411\n",
      "Data columns (total 16 columns):\n",
      " #   Column                   Non-Null Count   Dtype  \n",
      "---  ------                   --------------   -----  \n",
      " 0   duration_sec             183412 non-null  int64  \n",
      " 1   start_time               183412 non-null  object \n",
      " 2   end_time                 183412 non-null  object \n",
      " 3   start_station_id         183215 non-null  object \n",
      " 4   start_station_name       183215 non-null  object \n",
      " 5   start_station_latitude   183412 non-null  float64\n",
      " 6   start_station_longitude  183412 non-null  float64\n",
      " 7   end_station_id           183215 non-null  object \n",
      " 8   end_station_name         183215 non-null  object \n",
      " 9   end_station_latitude     183412 non-null  float64\n",
      " 10  end_station_longitude    183412 non-null  float64\n",
      " 11  bike_id                  183412 non-null  int64  \n",
      " 12  user_type                183412 non-null  object \n",
      " 13  member_birth_year        175147 non-null  float64\n",
      " 14  member_gender            175147 non-null  object \n",
      " 15  bike_share_for_all_trip  183412 non-null  object \n",
      "dtypes: float64(5), int64(2), object(9)\n",
      "memory usage: 16.1+ MB\n"
     ]
    }
   ],
   "source": [
    "df.info()"
   ]
  },
  {
   "cell_type": "code",
   "execution_count": 5,
   "metadata": {
    "slideshow": {
     "slide_type": "skip"
    }
   },
   "outputs": [
    {
     "data": {
      "text/plain": [
       "329"
      ]
     },
     "execution_count": 5,
     "metadata": {},
     "output_type": "execute_result"
    }
   ],
   "source": [
    "df['start_station_name'].nunique()"
   ]
  },
  {
   "cell_type": "code",
   "execution_count": 6,
   "metadata": {
    "slideshow": {
     "slide_type": "skip"
    }
   },
   "outputs": [
    {
     "data": {
      "text/plain": [
       "4646"
      ]
     },
     "execution_count": 6,
     "metadata": {},
     "output_type": "execute_result"
    }
   ],
   "source": [
    "df['bike_id'].nunique()"
   ]
  },
  {
   "cell_type": "markdown",
   "metadata": {
    "slideshow": {
     "slide_type": "slide"
    }
   },
   "source": [
    "### What is the structure of your dataset?"
   ]
  },
  {
   "cell_type": "markdown",
   "metadata": {
    "slideshow": {
     "slide_type": "subslide"
    }
   },
   "source": [
    "There are 183,412 trips in this dataset in Feb 2019 in San Francisco with information of each trip's starting station (station name, id, longtitude, latitude), end station (station name, id, longtitude, latitude), start time (date & hour), end time (date & hour), duration, who the rider was (their gender, age, user type), and which bike it was (shared bike or not, and bike id).\n",
    "\n",
    "There are 329 stations in San Francisco, and a total of 4646 bikes."
   ]
  },
  {
   "cell_type": "markdown",
   "metadata": {
    "slideshow": {
     "slide_type": "slide"
    }
   },
   "source": [
    "### What is/are the main feature(s) of interest in your dataset?"
   ]
  },
  {
   "cell_type": "markdown",
   "metadata": {
    "slideshow": {
     "slide_type": "subslide"
    }
   },
   "source": [
    "1) I'm interested in investigating which stations are operating at their max capacity, and which stations are operating at a lost.\n",
    "\n",
    "2) Besides that, I want to know which days and hours are the busiest and least busy, and some strategies to maximize the \"dead hours\" (least busy)."
   ]
  },
  {
   "cell_type": "markdown",
   "metadata": {
    "slideshow": {
     "slide_type": "slide"
    }
   },
   "source": [
    "### What features in the dataset do you think will help support your investigation into your feature(s) of interest?"
   ]
  },
  {
   "cell_type": "markdown",
   "metadata": {
    "slideshow": {
     "slide_type": "subslide"
    }
   },
   "source": [
    "1) I think that other features like duration span and number of bikes are parked at each stations would be good indicators to determine which stations are operating at their fullest capacity or at a loss.\n",
    "\n",
    "2) I think other demographic data such as member's birth year, gender, and user type can help me understand the peak days and hours better."
   ]
  },
  {
   "cell_type": "markdown",
   "metadata": {
    "slideshow": {
     "slide_type": "skip"
    }
   },
   "source": [
    "### Data needs to be cleaned"
   ]
  },
  {
   "cell_type": "markdown",
   "metadata": {
    "slideshow": {
     "slide_type": "skip"
    }
   },
   "source": [
    "#### Quality issues"
   ]
  },
  {
   "cell_type": "markdown",
   "metadata": {
    "slideshow": {
     "slide_type": "skip"
    }
   },
   "source": [
    "Fill empty values"
   ]
  },
  {
   "cell_type": "markdown",
   "metadata": {
    "slideshow": {
     "slide_type": "skip"
    }
   },
   "source": [
    "Change bike_id from int64 to object"
   ]
  },
  {
   "cell_type": "markdown",
   "metadata": {
    "slideshow": {
     "slide_type": "skip"
    }
   },
   "source": [
    "#### Tidiness issues"
   ]
  },
  {
   "cell_type": "markdown",
   "metadata": {
    "slideshow": {
     "slide_type": "skip"
    }
   },
   "source": [
    "Seperate date and time"
   ]
  },
  {
   "cell_type": "markdown",
   "metadata": {
    "slideshow": {
     "slide_type": "skip"
    }
   },
   "source": [
    "     "
   ]
  },
  {
   "cell_type": "markdown",
   "metadata": {
    "slideshow": {
     "slide_type": "skip"
    }
   },
   "source": [
    "          "
   ]
  },
  {
   "cell_type": "markdown",
   "metadata": {
    "slideshow": {
     "slide_type": "skip"
    }
   },
   "source": [
    "## Cleaning"
   ]
  },
  {
   "cell_type": "code",
   "execution_count": 7,
   "metadata": {
    "slideshow": {
     "slide_type": "skip"
    }
   },
   "outputs": [],
   "source": [
    "# Make a new dataset df1\n",
    "df1 = df"
   ]
  },
  {
   "cell_type": "markdown",
   "metadata": {
    "slideshow": {
     "slide_type": "skip"
    }
   },
   "source": [
    "#### Fill empty values"
   ]
  },
  {
   "cell_type": "markdown",
   "metadata": {
    "slideshow": {
     "slide_type": "skip"
    }
   },
   "source": [
    "Code"
   ]
  },
  {
   "cell_type": "code",
   "execution_count": 8,
   "metadata": {
    "slideshow": {
     "slide_type": "skip"
    }
   },
   "outputs": [],
   "source": [
    "df1 = df1.fillna(0)"
   ]
  },
  {
   "cell_type": "markdown",
   "metadata": {
    "slideshow": {
     "slide_type": "skip"
    }
   },
   "source": [
    "Test"
   ]
  },
  {
   "cell_type": "code",
   "execution_count": 9,
   "metadata": {
    "slideshow": {
     "slide_type": "skip"
    }
   },
   "outputs": [
    {
     "name": "stdout",
     "output_type": "stream",
     "text": [
      "<class 'pandas.core.frame.DataFrame'>\n",
      "RangeIndex: 183412 entries, 0 to 183411\n",
      "Data columns (total 16 columns):\n",
      " #   Column                   Non-Null Count   Dtype  \n",
      "---  ------                   --------------   -----  \n",
      " 0   duration_sec             183412 non-null  int64  \n",
      " 1   start_time               183412 non-null  object \n",
      " 2   end_time                 183412 non-null  object \n",
      " 3   start_station_id         183412 non-null  object \n",
      " 4   start_station_name       183412 non-null  object \n",
      " 5   start_station_latitude   183412 non-null  float64\n",
      " 6   start_station_longitude  183412 non-null  float64\n",
      " 7   end_station_id           183412 non-null  object \n",
      " 8   end_station_name         183412 non-null  object \n",
      " 9   end_station_latitude     183412 non-null  float64\n",
      " 10  end_station_longitude    183412 non-null  float64\n",
      " 11  bike_id                  183412 non-null  int64  \n",
      " 12  user_type                183412 non-null  object \n",
      " 13  member_birth_year        183412 non-null  float64\n",
      " 14  member_gender            183412 non-null  object \n",
      " 15  bike_share_for_all_trip  183412 non-null  object \n",
      "dtypes: float64(5), int64(2), object(9)\n",
      "memory usage: 16.1+ MB\n"
     ]
    }
   ],
   "source": [
    "df1.info()"
   ]
  },
  {
   "cell_type": "markdown",
   "metadata": {
    "slideshow": {
     "slide_type": "skip"
    }
   },
   "source": [
    "#### Change bike_id from int64 to object"
   ]
  },
  {
   "cell_type": "markdown",
   "metadata": {
    "slideshow": {
     "slide_type": "skip"
    }
   },
   "source": [
    "Code"
   ]
  },
  {
   "cell_type": "code",
   "execution_count": 10,
   "metadata": {
    "slideshow": {
     "slide_type": "skip"
    }
   },
   "outputs": [],
   "source": [
    "df1['bike_id'] = df1['bike_id'].astype(str)"
   ]
  },
  {
   "cell_type": "markdown",
   "metadata": {
    "slideshow": {
     "slide_type": "skip"
    }
   },
   "source": [
    "Test"
   ]
  },
  {
   "cell_type": "code",
   "execution_count": 11,
   "metadata": {
    "slideshow": {
     "slide_type": "skip"
    }
   },
   "outputs": [
    {
     "name": "stdout",
     "output_type": "stream",
     "text": [
      "object\n"
     ]
    }
   ],
   "source": [
    "print(df1['bike_id'].dtypes)"
   ]
  },
  {
   "cell_type": "markdown",
   "metadata": {
    "slideshow": {
     "slide_type": "skip"
    }
   },
   "source": [
    "#### Change member birth year to int"
   ]
  },
  {
   "cell_type": "markdown",
   "metadata": {
    "slideshow": {
     "slide_type": "skip"
    }
   },
   "source": [
    "Code"
   ]
  },
  {
   "cell_type": "code",
   "execution_count": 12,
   "metadata": {
    "slideshow": {
     "slide_type": "skip"
    }
   },
   "outputs": [],
   "source": [
    "df1['member_birth_year'] = df1['member_birth_year'].astype(int)"
   ]
  },
  {
   "cell_type": "markdown",
   "metadata": {
    "slideshow": {
     "slide_type": "skip"
    }
   },
   "source": [
    "Check"
   ]
  },
  {
   "cell_type": "code",
   "execution_count": 13,
   "metadata": {
    "slideshow": {
     "slide_type": "skip"
    }
   },
   "outputs": [
    {
     "name": "stdout",
     "output_type": "stream",
     "text": [
      "int32\n"
     ]
    }
   ],
   "source": [
    "print(df1['member_birth_year'].dtypes)"
   ]
  },
  {
   "cell_type": "markdown",
   "metadata": {
    "slideshow": {
     "slide_type": "skip"
    }
   },
   "source": [
    "#### Change start_time and end_time to date and time"
   ]
  },
  {
   "cell_type": "markdown",
   "metadata": {
    "slideshow": {
     "slide_type": "skip"
    }
   },
   "source": [
    "Code"
   ]
  },
  {
   "cell_type": "code",
   "execution_count": 14,
   "metadata": {
    "slideshow": {
     "slide_type": "skip"
    }
   },
   "outputs": [],
   "source": [
    "df1['start_time'] = pd.to_datetime(df.start_time)"
   ]
  },
  {
   "cell_type": "code",
   "execution_count": 15,
   "metadata": {
    "slideshow": {
     "slide_type": "skip"
    }
   },
   "outputs": [],
   "source": [
    "df1['end_time'] = pd.to_datetime(df.end_time)"
   ]
  },
  {
   "cell_type": "markdown",
   "metadata": {
    "slideshow": {
     "slide_type": "skip"
    }
   },
   "source": [
    "Test"
   ]
  },
  {
   "cell_type": "code",
   "execution_count": 16,
   "metadata": {
    "slideshow": {
     "slide_type": "skip"
    }
   },
   "outputs": [
    {
     "name": "stdout",
     "output_type": "stream",
     "text": [
      "datetime64[ns]\n"
     ]
    }
   ],
   "source": [
    "print(df1['start_time'].dtypes)"
   ]
  },
  {
   "cell_type": "code",
   "execution_count": 17,
   "metadata": {
    "slideshow": {
     "slide_type": "skip"
    }
   },
   "outputs": [
    {
     "name": "stdout",
     "output_type": "stream",
     "text": [
      "datetime64[ns]\n"
     ]
    }
   ],
   "source": [
    "print(df1['end_time'].dtypes)"
   ]
  },
  {
   "cell_type": "markdown",
   "metadata": {
    "slideshow": {
     "slide_type": "skip"
    }
   },
   "source": [
    "#### Seperate start_time and end_timeto hour, date, day, month and year"
   ]
  },
  {
   "cell_type": "markdown",
   "metadata": {
    "slideshow": {
     "slide_type": "skip"
    }
   },
   "source": [
    "Code"
   ]
  },
  {
   "cell_type": "code",
   "execution_count": 18,
   "metadata": {
    "slideshow": {
     "slide_type": "skip"
    }
   },
   "outputs": [],
   "source": [
    "df1['start_hour'] = df1.start_time.dt.strftime('%H')\n",
    "df1['start_date'] = df1.start_time.dt.strftime('%Y-%m-%d')\n",
    "df1['start_day'] = df1.start_time.dt.strftime('%A')"
   ]
  },
  {
   "cell_type": "code",
   "execution_count": 19,
   "metadata": {
    "slideshow": {
     "slide_type": "skip"
    }
   },
   "outputs": [],
   "source": [
    "df1['end_hour'] = df1.end_time.dt.strftime('%H')\n",
    "df1['end_date'] = df1.end_time.dt.strftime('%Y-%m-%d')\n",
    "df1['end_day'] = df1.end_time.dt.strftime('%A')"
   ]
  },
  {
   "cell_type": "markdown",
   "metadata": {
    "slideshow": {
     "slide_type": "skip"
    }
   },
   "source": [
    "Test"
   ]
  },
  {
   "cell_type": "code",
   "execution_count": 20,
   "metadata": {
    "slideshow": {
     "slide_type": "skip"
    }
   },
   "outputs": [
    {
     "data": {
      "text/html": [
       "<div>\n",
       "<style scoped>\n",
       "    .dataframe tbody tr th:only-of-type {\n",
       "        vertical-align: middle;\n",
       "    }\n",
       "\n",
       "    .dataframe tbody tr th {\n",
       "        vertical-align: top;\n",
       "    }\n",
       "\n",
       "    .dataframe thead th {\n",
       "        text-align: right;\n",
       "    }\n",
       "</style>\n",
       "<table border=\"1\" class=\"dataframe\">\n",
       "  <thead>\n",
       "    <tr style=\"text-align: right;\">\n",
       "      <th></th>\n",
       "      <th>duration_sec</th>\n",
       "      <th>start_time</th>\n",
       "      <th>end_time</th>\n",
       "      <th>start_station_id</th>\n",
       "      <th>start_station_name</th>\n",
       "      <th>start_station_latitude</th>\n",
       "      <th>start_station_longitude</th>\n",
       "      <th>end_station_id</th>\n",
       "      <th>end_station_name</th>\n",
       "      <th>end_station_latitude</th>\n",
       "      <th>...</th>\n",
       "      <th>user_type</th>\n",
       "      <th>member_birth_year</th>\n",
       "      <th>member_gender</th>\n",
       "      <th>bike_share_for_all_trip</th>\n",
       "      <th>start_hour</th>\n",
       "      <th>start_date</th>\n",
       "      <th>start_day</th>\n",
       "      <th>end_hour</th>\n",
       "      <th>end_date</th>\n",
       "      <th>end_day</th>\n",
       "    </tr>\n",
       "  </thead>\n",
       "  <tbody>\n",
       "    <tr>\n",
       "      <th>0</th>\n",
       "      <td>52185</td>\n",
       "      <td>2019-02-28 17:32:10.145</td>\n",
       "      <td>2019-03-01 08:01:55.975</td>\n",
       "      <td>21</td>\n",
       "      <td>Montgomery St BART Station (Market St at 2nd St)</td>\n",
       "      <td>37.789625</td>\n",
       "      <td>-122.400811</td>\n",
       "      <td>13</td>\n",
       "      <td>Commercial St at Montgomery St</td>\n",
       "      <td>37.794231</td>\n",
       "      <td>...</td>\n",
       "      <td>Customer</td>\n",
       "      <td>1984</td>\n",
       "      <td>Male</td>\n",
       "      <td>No</td>\n",
       "      <td>17</td>\n",
       "      <td>2019-02-28</td>\n",
       "      <td>Thursday</td>\n",
       "      <td>08</td>\n",
       "      <td>2019-03-01</td>\n",
       "      <td>Friday</td>\n",
       "    </tr>\n",
       "    <tr>\n",
       "      <th>1</th>\n",
       "      <td>42521</td>\n",
       "      <td>2019-02-28 18:53:21.789</td>\n",
       "      <td>2019-03-01 06:42:03.056</td>\n",
       "      <td>23</td>\n",
       "      <td>The Embarcadero at Steuart St</td>\n",
       "      <td>37.791464</td>\n",
       "      <td>-122.391034</td>\n",
       "      <td>81</td>\n",
       "      <td>Berry St at 4th St</td>\n",
       "      <td>37.775880</td>\n",
       "      <td>...</td>\n",
       "      <td>Customer</td>\n",
       "      <td>0</td>\n",
       "      <td>0</td>\n",
       "      <td>No</td>\n",
       "      <td>18</td>\n",
       "      <td>2019-02-28</td>\n",
       "      <td>Thursday</td>\n",
       "      <td>06</td>\n",
       "      <td>2019-03-01</td>\n",
       "      <td>Friday</td>\n",
       "    </tr>\n",
       "    <tr>\n",
       "      <th>2</th>\n",
       "      <td>61854</td>\n",
       "      <td>2019-02-28 12:13:13.218</td>\n",
       "      <td>2019-03-01 05:24:08.146</td>\n",
       "      <td>86</td>\n",
       "      <td>Market St at Dolores St</td>\n",
       "      <td>37.769305</td>\n",
       "      <td>-122.426826</td>\n",
       "      <td>3</td>\n",
       "      <td>Powell St BART Station (Market St at 4th St)</td>\n",
       "      <td>37.786375</td>\n",
       "      <td>...</td>\n",
       "      <td>Customer</td>\n",
       "      <td>1972</td>\n",
       "      <td>Male</td>\n",
       "      <td>No</td>\n",
       "      <td>12</td>\n",
       "      <td>2019-02-28</td>\n",
       "      <td>Thursday</td>\n",
       "      <td>05</td>\n",
       "      <td>2019-03-01</td>\n",
       "      <td>Friday</td>\n",
       "    </tr>\n",
       "    <tr>\n",
       "      <th>3</th>\n",
       "      <td>36490</td>\n",
       "      <td>2019-02-28 17:54:26.010</td>\n",
       "      <td>2019-03-01 04:02:36.842</td>\n",
       "      <td>375</td>\n",
       "      <td>Grove St at Masonic Ave</td>\n",
       "      <td>37.774836</td>\n",
       "      <td>-122.446546</td>\n",
       "      <td>70</td>\n",
       "      <td>Central Ave at Fell St</td>\n",
       "      <td>37.773311</td>\n",
       "      <td>...</td>\n",
       "      <td>Subscriber</td>\n",
       "      <td>1989</td>\n",
       "      <td>Other</td>\n",
       "      <td>No</td>\n",
       "      <td>17</td>\n",
       "      <td>2019-02-28</td>\n",
       "      <td>Thursday</td>\n",
       "      <td>04</td>\n",
       "      <td>2019-03-01</td>\n",
       "      <td>Friday</td>\n",
       "    </tr>\n",
       "    <tr>\n",
       "      <th>4</th>\n",
       "      <td>1585</td>\n",
       "      <td>2019-02-28 23:54:18.549</td>\n",
       "      <td>2019-03-01 00:20:44.074</td>\n",
       "      <td>7</td>\n",
       "      <td>Frank H Ogawa Plaza</td>\n",
       "      <td>37.804562</td>\n",
       "      <td>-122.271738</td>\n",
       "      <td>222</td>\n",
       "      <td>10th Ave at E 15th St</td>\n",
       "      <td>37.792714</td>\n",
       "      <td>...</td>\n",
       "      <td>Subscriber</td>\n",
       "      <td>1974</td>\n",
       "      <td>Male</td>\n",
       "      <td>Yes</td>\n",
       "      <td>23</td>\n",
       "      <td>2019-02-28</td>\n",
       "      <td>Thursday</td>\n",
       "      <td>00</td>\n",
       "      <td>2019-03-01</td>\n",
       "      <td>Friday</td>\n",
       "    </tr>\n",
       "  </tbody>\n",
       "</table>\n",
       "<p>5 rows × 22 columns</p>\n",
       "</div>"
      ],
      "text/plain": [
       "   duration_sec              start_time                end_time  \\\n",
       "0         52185 2019-02-28 17:32:10.145 2019-03-01 08:01:55.975   \n",
       "1         42521 2019-02-28 18:53:21.789 2019-03-01 06:42:03.056   \n",
       "2         61854 2019-02-28 12:13:13.218 2019-03-01 05:24:08.146   \n",
       "3         36490 2019-02-28 17:54:26.010 2019-03-01 04:02:36.842   \n",
       "4          1585 2019-02-28 23:54:18.549 2019-03-01 00:20:44.074   \n",
       "\n",
       "  start_station_id                                start_station_name  \\\n",
       "0               21  Montgomery St BART Station (Market St at 2nd St)   \n",
       "1               23                     The Embarcadero at Steuart St   \n",
       "2               86                           Market St at Dolores St   \n",
       "3              375                           Grove St at Masonic Ave   \n",
       "4                7                               Frank H Ogawa Plaza   \n",
       "\n",
       "   start_station_latitude  start_station_longitude end_station_id  \\\n",
       "0               37.789625              -122.400811             13   \n",
       "1               37.791464              -122.391034             81   \n",
       "2               37.769305              -122.426826              3   \n",
       "3               37.774836              -122.446546             70   \n",
       "4               37.804562              -122.271738            222   \n",
       "\n",
       "                               end_station_name  end_station_latitude  ...  \\\n",
       "0                Commercial St at Montgomery St             37.794231  ...   \n",
       "1                            Berry St at 4th St             37.775880  ...   \n",
       "2  Powell St BART Station (Market St at 4th St)             37.786375  ...   \n",
       "3                        Central Ave at Fell St             37.773311  ...   \n",
       "4                         10th Ave at E 15th St             37.792714  ...   \n",
       "\n",
       "    user_type member_birth_year member_gender  bike_share_for_all_trip  \\\n",
       "0    Customer              1984          Male                       No   \n",
       "1    Customer                 0             0                       No   \n",
       "2    Customer              1972          Male                       No   \n",
       "3  Subscriber              1989         Other                       No   \n",
       "4  Subscriber              1974          Male                      Yes   \n",
       "\n",
       "  start_hour  start_date start_day end_hour    end_date end_day  \n",
       "0         17  2019-02-28  Thursday       08  2019-03-01  Friday  \n",
       "1         18  2019-02-28  Thursday       06  2019-03-01  Friday  \n",
       "2         12  2019-02-28  Thursday       05  2019-03-01  Friday  \n",
       "3         17  2019-02-28  Thursday       04  2019-03-01  Friday  \n",
       "4         23  2019-02-28  Thursday       00  2019-03-01  Friday  \n",
       "\n",
       "[5 rows x 22 columns]"
      ]
     },
     "execution_count": 20,
     "metadata": {},
     "output_type": "execute_result"
    }
   ],
   "source": [
    "df1.head()"
   ]
  },
  {
   "cell_type": "markdown",
   "metadata": {
    "slideshow": {
     "slide_type": "skip"
    }
   },
   "source": [
    "                           "
   ]
  },
  {
   "cell_type": "markdown",
   "metadata": {
    "slideshow": {
     "slide_type": "skip"
    }
   },
   "source": [
    "                         "
   ]
  },
  {
   "cell_type": "markdown",
   "metadata": {
    "slideshow": {
     "slide_type": "skip"
    }
   },
   "source": [
    "                           "
   ]
  },
  {
   "cell_type": "markdown",
   "metadata": {
    "slideshow": {
     "slide_type": "slide"
    }
   },
   "source": [
    "## Exploration"
   ]
  },
  {
   "cell_type": "markdown",
   "metadata": {
    "slideshow": {
     "slide_type": "skip"
    }
   },
   "source": [
    "### Univariate"
   ]
  },
  {
   "cell_type": "code",
   "execution_count": 21,
   "metadata": {
    "slideshow": {
     "slide_type": "skip"
    }
   },
   "outputs": [
    {
     "data": {
      "text/plain": [
       "Male      130651\n",
       "Female     40844\n",
       "0           8265\n",
       "Other       3652\n",
       "Name: member_gender, dtype: int64"
      ]
     },
     "execution_count": 21,
     "metadata": {},
     "output_type": "execute_result"
    }
   ],
   "source": [
    "df1_gender = df1['member_gender'].value_counts()\n",
    "df1_gender"
   ]
  },
  {
   "cell_type": "code",
   "execution_count": 22,
   "metadata": {
    "slideshow": {
     "slide_type": "slide"
    }
   },
   "outputs": [
    {
     "data": {
      "text/plain": [
       "<matplotlib.axes._subplots.AxesSubplot at 0x92709b8>"
      ]
     },
     "execution_count": 22,
     "metadata": {},
     "output_type": "execute_result"
    },
    {
     "data": {
      "image/png": "[encoded data removed]",
      "text/plain": [
       "<Figure size 432x288 with 1 Axes>"
      ]
     },
     "metadata": {
      "needs_background": "light"
     },
     "output_type": "display_data"
    }
   ],
   "source": [
    "df1_gender.plot(kind='bar')"
   ]
  },
  {
   "cell_type": "markdown",
   "metadata": {
    "slideshow": {
     "slide_type": "subslide"
    }
   },
   "source": [
    "Male users are dominant, is 3 times higher than female users, and is 10 times higher with users who identified their gender as other. "
   ]
  },
  {
   "cell_type": "code",
   "execution_count": 23,
   "metadata": {
    "slideshow": {
     "slide_type": "slide"
    }
   },
   "outputs": [
    {
     "data": {
      "image/png": "[encoded data removed]",
      "text/plain": [
       "<Figure size 720x360 with 1 Axes>"
      ]
     },
     "metadata": {
      "needs_background": "light"
     },
     "output_type": "display_data"
    }
   ],
   "source": [
    "df1_birth = df1[df1['member_birth_year'] != 0]\n",
    "df1_birth.hist(column='member_birth_year', figsize=(10,5));"
   ]
  },
  {
   "cell_type": "markdown",
   "metadata": {
    "slideshow": {
     "slide_type": "subslide"
    }
   },
   "source": [
    "The chart is highly left skewed with most members are from 1975 to 2002."
   ]
  },
  {
   "cell_type": "code",
   "execution_count": 24,
   "metadata": {
    "slideshow": {
     "slide_type": "slide"
    }
   },
   "outputs": [
    {
     "data": {
      "image/png": "[encoded data removed]",
      "text/plain": [
       "<Figure size 720x360 with 1 Axes>"
      ]
     },
     "metadata": {
      "needs_background": "light"
     },
     "output_type": "display_data"
    }
   ],
   "source": [
    "df1_duration = pd.DataFrame(df1['duration_sec'].value_counts())\n",
    "df1_duration = df1_duration.sort_values(by='duration_sec', ascending = True)\n",
    "df1_duration.hist(column='duration_sec', figsize=(10,5));"
   ]
  },
  {
   "cell_type": "markdown",
   "metadata": {
    "slideshow": {
     "slide_type": "subslide"
    }
   },
   "source": [
    "This chart is highly right skewed. We can see that most of the trips are less than 250 secons. Only around 30 trips have the duration span exceeds 3000s. Thus, most of people are using ford bike to commute at a short distance."
   ]
  },
  {
   "cell_type": "code",
   "execution_count": 25,
   "metadata": {
    "slideshow": {
     "slide_type": "skip"
    }
   },
   "outputs": [],
   "source": [
    "# create a new dataset from df1 for this \n",
    "# only keep rows where start_station_id & end_station_id != 0\n",
    "df2 = df1[(df1.start_station_id != '0') & (df1.end_station_id != '0')]"
   ]
  },
  {
   "cell_type": "code",
   "execution_count": 26,
   "metadata": {
    "slideshow": {
     "slide_type": "skip"
    }
   },
   "outputs": [],
   "source": [
    "start_station = pd.DataFrame(df2['start_station_name'].value_counts())\n",
    "end_station = pd.DataFrame(df2['end_station_name'].value_counts())"
   ]
  },
  {
   "cell_type": "code",
   "execution_count": 27,
   "metadata": {
    "slideshow": {
     "slide_type": "skip"
    }
   },
   "outputs": [],
   "source": [
    "station_array = df2['start_station_name'].unique()"
   ]
  },
  {
   "cell_type": "code",
   "execution_count": 28,
   "metadata": {
    "slideshow": {
     "slide_type": "skip"
    }
   },
   "outputs": [
    {
     "data": {
      "text/html": [
       "<div>\n",
       "<style scoped>\n",
       "    .dataframe tbody tr th:only-of-type {\n",
       "        vertical-align: middle;\n",
       "    }\n",
       "\n",
       "    .dataframe tbody tr th {\n",
       "        vertical-align: top;\n",
       "    }\n",
       "\n",
       "    .dataframe thead th {\n",
       "        text-align: right;\n",
       "    }\n",
       "</style>\n",
       "<table border=\"1\" class=\"dataframe\">\n",
       "  <thead>\n",
       "    <tr style=\"text-align: right;\">\n",
       "      <th></th>\n",
       "      <th>start</th>\n",
       "      <th>end</th>\n",
       "      <th>total</th>\n",
       "    </tr>\n",
       "  </thead>\n",
       "  <tbody>\n",
       "    <tr>\n",
       "      <th>San Francisco Caltrain Station 2  (Townsend St at 4th St)</th>\n",
       "      <td>3544</td>\n",
       "      <td>4857</td>\n",
       "      <td>8401</td>\n",
       "    </tr>\n",
       "    <tr>\n",
       "      <th>Market St at 10th St</th>\n",
       "      <td>3904</td>\n",
       "      <td>3973</td>\n",
       "      <td>7877</td>\n",
       "    </tr>\n",
       "    <tr>\n",
       "      <th>Montgomery St BART Station (Market St at 2nd St)</th>\n",
       "      <td>2895</td>\n",
       "      <td>3647</td>\n",
       "      <td>6542</td>\n",
       "    </tr>\n",
       "    <tr>\n",
       "      <th>San Francisco Ferry Building (Harry Bridges Plaza)</th>\n",
       "      <td>2710</td>\n",
       "      <td>3368</td>\n",
       "      <td>6078</td>\n",
       "    </tr>\n",
       "    <tr>\n",
       "      <th>Berry St at 4th St</th>\n",
       "      <td>3052</td>\n",
       "      <td>2872</td>\n",
       "      <td>5924</td>\n",
       "    </tr>\n",
       "    <tr>\n",
       "      <th>...</th>\n",
       "      <td>...</td>\n",
       "      <td>...</td>\n",
       "      <td>...</td>\n",
       "    </tr>\n",
       "    <tr>\n",
       "      <th>Parker Ave at McAllister St</th>\n",
       "      <td>7</td>\n",
       "      <td>9</td>\n",
       "      <td>16</td>\n",
       "    </tr>\n",
       "    <tr>\n",
       "      <th>Willow St at Vine St</th>\n",
       "      <td>9</td>\n",
       "      <td>5</td>\n",
       "      <td>14</td>\n",
       "    </tr>\n",
       "    <tr>\n",
       "      <th>Palm St at Willow St</th>\n",
       "      <td>4</td>\n",
       "      <td>7</td>\n",
       "      <td>11</td>\n",
       "    </tr>\n",
       "    <tr>\n",
       "      <th>21st Ave at International Blvd</th>\n",
       "      <td>4</td>\n",
       "      <td>6</td>\n",
       "      <td>10</td>\n",
       "    </tr>\n",
       "    <tr>\n",
       "      <th>16th St Depot</th>\n",
       "      <td>2</td>\n",
       "      <td>6</td>\n",
       "      <td>8</td>\n",
       "    </tr>\n",
       "  </tbody>\n",
       "</table>\n",
       "<p>330 rows × 3 columns</p>\n",
       "</div>"
      ],
      "text/plain": [
       "                                                    start   end  total\n",
       "San Francisco Caltrain Station 2  (Townsend St ...   3544  4857   8401\n",
       "Market St at 10th St                                 3904  3973   7877\n",
       "Montgomery St BART Station (Market St at 2nd St)     2895  3647   6542\n",
       "San Francisco Ferry Building (Harry Bridges Plaza)   2710  3368   6078\n",
       "Berry St at 4th St                                   3052  2872   5924\n",
       "...                                                   ...   ...    ...\n",
       "Parker Ave at McAllister St                             7     9     16\n",
       "Willow St at Vine St                                    9     5     14\n",
       "Palm St at Willow St                                    4     7     11\n",
       "21st Ave at International Blvd                          4     6     10\n",
       "16th St Depot                                           2     6      8\n",
       "\n",
       "[330 rows x 3 columns]"
      ]
     },
     "execution_count": 28,
     "metadata": {},
     "output_type": "execute_result"
    }
   ],
   "source": [
    "# combine thew two datasets start_station and end_station by index\n",
    "station = pd.concat([start_station, end_station], axis=1)\n",
    "# change column names to start and end\n",
    "station = station.rename(columns={'start_station_name':'start', 'end_station_name':'end'})\n",
    "# create column total calculating the sum of start and end\n",
    "station['total'] = station['start'] + station['end']\n",
    "# view the station with most visits to least by sprting total with ascending == False\n",
    "station = station.sort_values(by='total', ascending=False)\n",
    "\n",
    "station"
   ]
  },
  {
   "cell_type": "code",
   "execution_count": 29,
   "metadata": {
    "slideshow": {
     "slide_type": "slide"
    }
   },
   "outputs": [
    {
     "data": {
      "image/png": "[encoded data removed]",
      "text/plain": [
       "<Figure size 720x360 with 1 Axes>"
      ]
     },
     "metadata": {
      "needs_background": "light"
     },
     "output_type": "display_data"
    }
   ],
   "source": [
    "station.hist(column='total', figsize=(10,5));"
   ]
  },
  {
   "cell_type": "markdown",
   "metadata": {
    "slideshow": {
     "slide_type": "subslide"
    }
   },
   "source": [
    "Most of the stations have 1111 visits per day.\n",
    "\n",
    "There are 25% of the station have 319 or less visits per day.\n",
    "\n",
    "There are 50% of the stations have 320 to 1520 per day.\n",
    "\n",
    "And there are 25% that are doing extraordinarily well with 1521 to 8401 visits per day."
   ]
  },
  {
   "cell_type": "code",
   "execution_count": 30,
   "metadata": {
    "slideshow": {
     "slide_type": "subslide"
    }
   },
   "outputs": [
    {
     "data": {
      "text/html": [
       "<div>\n",
       "<style scoped>\n",
       "    .dataframe tbody tr th:only-of-type {\n",
       "        vertical-align: middle;\n",
       "    }\n",
       "\n",
       "    .dataframe tbody tr th {\n",
       "        vertical-align: top;\n",
       "    }\n",
       "\n",
       "    .dataframe thead th {\n",
       "        text-align: right;\n",
       "    }\n",
       "</style>\n",
       "<table border=\"1\" class=\"dataframe\">\n",
       "  <thead>\n",
       "    <tr style=\"text-align: right;\">\n",
       "      <th></th>\n",
       "      <th>start</th>\n",
       "      <th>end</th>\n",
       "      <th>total</th>\n",
       "    </tr>\n",
       "  </thead>\n",
       "  <tbody>\n",
       "    <tr>\n",
       "      <th>count</th>\n",
       "      <td>330.000000</td>\n",
       "      <td>330.000000</td>\n",
       "      <td>330.000000</td>\n",
       "    </tr>\n",
       "    <tr>\n",
       "      <th>mean</th>\n",
       "      <td>555.793939</td>\n",
       "      <td>555.793939</td>\n",
       "      <td>1111.587879</td>\n",
       "    </tr>\n",
       "    <tr>\n",
       "      <th>std</th>\n",
       "      <td>580.327064</td>\n",
       "      <td>629.439781</td>\n",
       "      <td>1204.842057</td>\n",
       "    </tr>\n",
       "    <tr>\n",
       "      <th>min</th>\n",
       "      <td>2.000000</td>\n",
       "      <td>5.000000</td>\n",
       "      <td>8.000000</td>\n",
       "    </tr>\n",
       "    <tr>\n",
       "      <th>25%</th>\n",
       "      <td>158.500000</td>\n",
       "      <td>163.500000</td>\n",
       "      <td>319.500000</td>\n",
       "    </tr>\n",
       "    <tr>\n",
       "      <th>50%</th>\n",
       "      <td>388.500000</td>\n",
       "      <td>370.500000</td>\n",
       "      <td>762.000000</td>\n",
       "    </tr>\n",
       "    <tr>\n",
       "      <th>75%</th>\n",
       "      <td>772.000000</td>\n",
       "      <td>764.750000</td>\n",
       "      <td>1520.500000</td>\n",
       "    </tr>\n",
       "    <tr>\n",
       "      <th>max</th>\n",
       "      <td>3904.000000</td>\n",
       "      <td>4857.000000</td>\n",
       "      <td>8401.000000</td>\n",
       "    </tr>\n",
       "  </tbody>\n",
       "</table>\n",
       "</div>"
      ],
      "text/plain": [
       "             start          end        total\n",
       "count   330.000000   330.000000   330.000000\n",
       "mean    555.793939   555.793939  1111.587879\n",
       "std     580.327064   629.439781  1204.842057\n",
       "min       2.000000     5.000000     8.000000\n",
       "25%     158.500000   163.500000   319.500000\n",
       "50%     388.500000   370.500000   762.000000\n",
       "75%     772.000000   764.750000  1520.500000\n",
       "max    3904.000000  4857.000000  8401.000000"
      ]
     },
     "execution_count": 30,
     "metadata": {},
     "output_type": "execute_result"
    }
   ],
   "source": [
    "station.describe()"
   ]
  },
  {
   "cell_type": "code",
   "execution_count": 31,
   "metadata": {
    "slideshow": {
     "slide_type": "skip"
    }
   },
   "outputs": [],
   "source": [
    "df1 = df1[df1['member_gender'] != 0]\n",
    "gender = df1.groupby(by='member_gender').mean()\n",
    "gender = gender[['duration_sec']]"
   ]
  },
  {
   "cell_type": "code",
   "execution_count": 32,
   "metadata": {
    "slideshow": {
     "slide_type": "slide"
    }
   },
   "outputs": [
    {
     "data": {
      "text/plain": [
       "<matplotlib.axes._subplots.AxesSubplot at 0xa07d4f0>"
      ]
     },
     "execution_count": 32,
     "metadata": {},
     "output_type": "execute_result"
    },
    {
     "data": {
      "image/png": "[encoded data removed]",
      "text/plain": [
       "<Figure size 432x288 with 1 Axes>"
      ]
     },
     "metadata": {
      "needs_background": "light"
     },
     "output_type": "display_data"
    }
   ],
   "source": [
    "gender.plot(kind='bar', title='Average trip duration span in second by gender')"
   ]
  },
  {
   "cell_type": "markdown",
   "metadata": {
    "slideshow": {
     "slide_type": "subslide"
    }
   },
   "source": [
    "Bikers who identified their genders as 'Other' has the highest average duration span of 997 seconds or around 16.5 minutes.\n",
    "\n",
    "Female bikers has the average trip span of 779 which is equivalent to 13 minutes.\n",
    "\n",
    "Male bikers has the shortest trip span of 672 seconds or 11 minutes.\n",
    "\n",
    "This could be Male bikers take shorter distance trips than Other and Female bikers, or it could be Male bikers have higher average speed. In order to investigate this indeth, we would need more data on trip distance and average speed."
   ]
  },
  {
   "cell_type": "code",
   "execution_count": 33,
   "metadata": {
    "slideshow": {
     "slide_type": "subslide"
    }
   },
   "outputs": [
    {
     "data": {
      "text/html": [
       "<div>\n",
       "<style scoped>\n",
       "    .dataframe tbody tr th:only-of-type {\n",
       "        vertical-align: middle;\n",
       "    }\n",
       "\n",
       "    .dataframe tbody tr th {\n",
       "        vertical-align: top;\n",
       "    }\n",
       "\n",
       "    .dataframe thead th {\n",
       "        text-align: right;\n",
       "    }\n",
       "</style>\n",
       "<table border=\"1\" class=\"dataframe\">\n",
       "  <thead>\n",
       "    <tr style=\"text-align: right;\">\n",
       "      <th></th>\n",
       "      <th>duration_sec</th>\n",
       "    </tr>\n",
       "    <tr>\n",
       "      <th>member_gender</th>\n",
       "      <th></th>\n",
       "    </tr>\n",
       "  </thead>\n",
       "  <tbody>\n",
       "    <tr>\n",
       "      <th>Female</th>\n",
       "      <td>779.070390</td>\n",
       "    </tr>\n",
       "    <tr>\n",
       "      <th>Male</th>\n",
       "      <td>672.639069</td>\n",
       "    </tr>\n",
       "    <tr>\n",
       "      <th>Other</th>\n",
       "      <td>996.515334</td>\n",
       "    </tr>\n",
       "  </tbody>\n",
       "</table>\n",
       "</div>"
      ],
      "text/plain": [
       "               duration_sec\n",
       "member_gender              \n",
       "Female           779.070390\n",
       "Male             672.639069\n",
       "Other            996.515334"
      ]
     },
     "execution_count": 33,
     "metadata": {},
     "output_type": "execute_result"
    }
   ],
   "source": [
    "gender"
   ]
  },
  {
   "cell_type": "markdown",
   "metadata": {
    "slideshow": {
     "slide_type": "skip"
    }
   },
   "source": [
    "### Bivariate"
   ]
  },
  {
   "cell_type": "code",
   "execution_count": 34,
   "metadata": {
    "slideshow": {
     "slide_type": "slide"
    }
   },
   "outputs": [
    {
     "data": {
      "text/plain": [
       "<matplotlib.axes._subplots.AxesSubplot at 0xdb60838>"
      ]
     },
     "execution_count": 34,
     "metadata": {},
     "output_type": "execute_result"
    },
    {
     "data": {
      "image/png": "[encoded data removed]",
      "text/plain": [
       "<Figure size 432x288 with 1 Axes>"
      ]
     },
     "metadata": {
      "needs_background": "light"
     },
     "output_type": "display_data"
    }
   ],
   "source": [
    "df1_start_day = pd.DataFrame(df1['start_day'].value_counts())\n",
    "df1_end_day = pd.DataFrame(df1['end_day'].value_counts())\n",
    "df1_day = df1_start_day.join(df1_end_day, how='outer')\n",
    "df1_day.plot(kind='bar', stacked=True)"
   ]
  },
  {
   "cell_type": "markdown",
   "metadata": {
    "slideshow": {
     "slide_type": "subslide"
    }
   },
   "source": [
    "Thursdays have highest number of trips with a total of 70382. Follwing by Tuesdays with 63,633 trips. On Mondays, Wednesdays and Fridays have somewhere from 53,000 to over 59,000 trips.\n",
    "\n",
    "Saturday and Sunday have significantly lower trips than weekdays with only 30,818 and 31,046 trips respectively which are half of the total trips on Tuesdays and less than half of total trips on Thursdays. \n",
    "\n",
    "One of the reason this happens could be the majority of users only come to San Francisco during weekdays to work or use Ford bikes to commute to work. One thing Ford can do to boost the bikes usage during weekend is targeting tourists who usually spend weekends in San Francisco."
   ]
  },
  {
   "cell_type": "code",
   "execution_count": 35,
   "metadata": {
    "slideshow": {
     "slide_type": "subslide"
    }
   },
   "outputs": [
    {
     "data": {
      "text/html": [
       "<div>\n",
       "<style scoped>\n",
       "    .dataframe tbody tr th:only-of-type {\n",
       "        vertical-align: middle;\n",
       "    }\n",
       "\n",
       "    .dataframe tbody tr th {\n",
       "        vertical-align: top;\n",
       "    }\n",
       "\n",
       "    .dataframe thead th {\n",
       "        text-align: right;\n",
       "    }\n",
       "</style>\n",
       "<table border=\"1\" class=\"dataframe\">\n",
       "  <thead>\n",
       "    <tr style=\"text-align: right;\">\n",
       "      <th></th>\n",
       "      <th>start_day</th>\n",
       "      <th>end_day</th>\n",
       "    </tr>\n",
       "  </thead>\n",
       "  <tbody>\n",
       "    <tr>\n",
       "      <th>Thursday</th>\n",
       "      <td>33733</td>\n",
       "      <td>33728</td>\n",
       "    </tr>\n",
       "    <tr>\n",
       "      <th>Tuesday</th>\n",
       "      <td>30616</td>\n",
       "      <td>30623</td>\n",
       "    </tr>\n",
       "    <tr>\n",
       "      <th>Wednesday</th>\n",
       "      <td>28456</td>\n",
       "      <td>28447</td>\n",
       "    </tr>\n",
       "    <tr>\n",
       "      <th>Friday</th>\n",
       "      <td>27682</td>\n",
       "      <td>27674</td>\n",
       "    </tr>\n",
       "    <tr>\n",
       "      <th>Monday</th>\n",
       "      <td>25686</td>\n",
       "      <td>25686</td>\n",
       "    </tr>\n",
       "    <tr>\n",
       "      <th>Sunday</th>\n",
       "      <td>14532</td>\n",
       "      <td>14539</td>\n",
       "    </tr>\n",
       "    <tr>\n",
       "      <th>Saturday</th>\n",
       "      <td>14442</td>\n",
       "      <td>14450</td>\n",
       "    </tr>\n",
       "  </tbody>\n",
       "</table>\n",
       "</div>"
      ],
      "text/plain": [
       "           start_day  end_day\n",
       "Thursday       33733    33728\n",
       "Tuesday        30616    30623\n",
       "Wednesday      28456    28447\n",
       "Friday         27682    27674\n",
       "Monday         25686    25686\n",
       "Sunday         14532    14539\n",
       "Saturday       14442    14450"
      ]
     },
     "execution_count": 35,
     "metadata": {},
     "output_type": "execute_result"
    }
   ],
   "source": [
    "df1_day"
   ]
  },
  {
   "cell_type": "code",
   "execution_count": 36,
   "metadata": {
    "slideshow": {
     "slide_type": "skip"
    }
   },
   "outputs": [
    {
     "data": {
      "text/plain": [
       "<matplotlib.axes._subplots.AxesSubplot at 0xdbc3aa8>"
      ]
     },
     "execution_count": 36,
     "metadata": {},
     "output_type": "execute_result"
    },
    {
     "data": {
      "image/png": "[encoded data removed]",
      "text/plain": [
       "<Figure size 1008x360 with 1 Axes>"
      ]
     },
     "metadata": {
      "needs_background": "light"
     },
     "output_type": "display_data"
    }
   ],
   "source": [
    "df1_start_hour = pd.DataFrame(df1['start_hour'].value_counts())\n",
    "df1_end_hour = pd.DataFrame(df1['end_hour'].value_counts())\n",
    "df1_hour = df1_start_hour.join(df1_end_hour, how='outer')\n",
    "df1_hour.plot(kind='bar', stacked=True, figsize=(14,5))"
   ]
  },
  {
   "cell_type": "markdown",
   "metadata": {
    "slideshow": {
     "slide_type": "subslide"
    }
   },
   "source": [
    "The most common start and end hours in the morning is from 8 to 9, and in the afternoon is from 17 to 18 also known as the rush hours. This again confirms the theory that most of the riders are professionals who use Ford bikes to commute to work. "
   ]
  },
  {
   "cell_type": "code",
   "execution_count": 37,
   "metadata": {
    "slideshow": {
     "slide_type": "subslide"
    }
   },
   "outputs": [
    {
     "data": {
      "text/html": [
       "<div>\n",
       "<style scoped>\n",
       "    .dataframe tbody tr th:only-of-type {\n",
       "        vertical-align: middle;\n",
       "    }\n",
       "\n",
       "    .dataframe tbody tr th {\n",
       "        vertical-align: top;\n",
       "    }\n",
       "\n",
       "    .dataframe thead th {\n",
       "        text-align: right;\n",
       "    }\n",
       "</style>\n",
       "<table border=\"1\" class=\"dataframe\">\n",
       "  <thead>\n",
       "    <tr style=\"text-align: right;\">\n",
       "      <th></th>\n",
       "      <th>start_hour</th>\n",
       "      <th>end_hour</th>\n",
       "    </tr>\n",
       "  </thead>\n",
       "  <tbody>\n",
       "    <tr>\n",
       "      <th>00</th>\n",
       "      <td>893</td>\n",
       "      <td>965</td>\n",
       "    </tr>\n",
       "    <tr>\n",
       "      <th>01</th>\n",
       "      <td>525</td>\n",
       "      <td>541</td>\n",
       "    </tr>\n",
       "    <tr>\n",
       "      <th>02</th>\n",
       "      <td>356</td>\n",
       "      <td>406</td>\n",
       "    </tr>\n",
       "    <tr>\n",
       "      <th>03</th>\n",
       "      <td>164</td>\n",
       "      <td>168</td>\n",
       "    </tr>\n",
       "    <tr>\n",
       "      <th>04</th>\n",
       "      <td>227</td>\n",
       "      <td>225</td>\n",
       "    </tr>\n",
       "    <tr>\n",
       "      <th>05</th>\n",
       "      <td>866</td>\n",
       "      <td>738</td>\n",
       "    </tr>\n",
       "    <tr>\n",
       "      <th>06</th>\n",
       "      <td>3294</td>\n",
       "      <td>2803</td>\n",
       "    </tr>\n",
       "    <tr>\n",
       "      <th>07</th>\n",
       "      <td>10235</td>\n",
       "      <td>8450</td>\n",
       "    </tr>\n",
       "    <tr>\n",
       "      <th>08</th>\n",
       "      <td>20242</td>\n",
       "      <td>19027</td>\n",
       "    </tr>\n",
       "    <tr>\n",
       "      <th>09</th>\n",
       "      <td>15221</td>\n",
       "      <td>16988</td>\n",
       "    </tr>\n",
       "    <tr>\n",
       "      <th>10</th>\n",
       "      <td>7980</td>\n",
       "      <td>8551</td>\n",
       "    </tr>\n",
       "    <tr>\n",
       "      <th>11</th>\n",
       "      <td>7473</td>\n",
       "      <td>7221</td>\n",
       "    </tr>\n",
       "    <tr>\n",
       "      <th>12</th>\n",
       "      <td>8237</td>\n",
       "      <td>8158</td>\n",
       "    </tr>\n",
       "    <tr>\n",
       "      <th>13</th>\n",
       "      <td>8118</td>\n",
       "      <td>8101</td>\n",
       "    </tr>\n",
       "    <tr>\n",
       "      <th>14</th>\n",
       "      <td>7694</td>\n",
       "      <td>7716</td>\n",
       "    </tr>\n",
       "    <tr>\n",
       "      <th>15</th>\n",
       "      <td>8657</td>\n",
       "      <td>8302</td>\n",
       "    </tr>\n",
       "    <tr>\n",
       "      <th>16</th>\n",
       "      <td>13492</td>\n",
       "      <td>12546</td>\n",
       "    </tr>\n",
       "    <tr>\n",
       "      <th>17</th>\n",
       "      <td>20921</td>\n",
       "      <td>20339</td>\n",
       "    </tr>\n",
       "    <tr>\n",
       "      <th>18</th>\n",
       "      <td>16133</td>\n",
       "      <td>17487</td>\n",
       "    </tr>\n",
       "    <tr>\n",
       "      <th>19</th>\n",
       "      <td>9432</td>\n",
       "      <td>10234</td>\n",
       "    </tr>\n",
       "    <tr>\n",
       "      <th>20</th>\n",
       "      <td>6220</td>\n",
       "      <td>6630</td>\n",
       "    </tr>\n",
       "    <tr>\n",
       "      <th>21</th>\n",
       "      <td>4401</td>\n",
       "      <td>4703</td>\n",
       "    </tr>\n",
       "    <tr>\n",
       "      <th>22</th>\n",
       "      <td>2793</td>\n",
       "      <td>3100</td>\n",
       "    </tr>\n",
       "    <tr>\n",
       "      <th>23</th>\n",
       "      <td>1573</td>\n",
       "      <td>1748</td>\n",
       "    </tr>\n",
       "  </tbody>\n",
       "</table>\n",
       "</div>"
      ],
      "text/plain": [
       "    start_hour  end_hour\n",
       "00         893       965\n",
       "01         525       541\n",
       "02         356       406\n",
       "03         164       168\n",
       "04         227       225\n",
       "05         866       738\n",
       "06        3294      2803\n",
       "07       10235      8450\n",
       "08       20242     19027\n",
       "09       15221     16988\n",
       "10        7980      8551\n",
       "11        7473      7221\n",
       "12        8237      8158\n",
       "13        8118      8101\n",
       "14        7694      7716\n",
       "15        8657      8302\n",
       "16       13492     12546\n",
       "17       20921     20339\n",
       "18       16133     17487\n",
       "19        9432     10234\n",
       "20        6220      6630\n",
       "21        4401      4703\n",
       "22        2793      3100\n",
       "23        1573      1748"
      ]
     },
     "execution_count": 37,
     "metadata": {},
     "output_type": "execute_result"
    }
   ],
   "source": [
    "df1_hour"
   ]
  },
  {
   "cell_type": "code",
   "execution_count": 38,
   "metadata": {
    "slideshow": {
     "slide_type": "skip"
    }
   },
   "outputs": [],
   "source": [
    "df_user = {'customer':[((df1['user_type'] == 'Customer') & (df1['member_gender'] == 'Other')).sum(), ((df1['user_type'] == 'Customer') & (df1['member_gender'] == 'Female')).sum(), ((df1['user_type'] == 'Customer') & (df1['member_gender'] == 'Male')).sum()],\n",
    "        'subscriber':[((df1['user_type'] == 'Subscriber') & (df1['member_gender'] == 'Other')).sum(), ((df1['user_type'] == 'Subscriber') & (df1['member_gender'] == 'Female')).sum(), ((df1['user_type'] == 'Subscriber') & (df1['member_gender'] == 'Male')).sum()]}\n",
    "gender_index = ['Other','Female', 'Male']\n",
    "df_user = pd.DataFrame(df_user, index=gender_index)"
   ]
  },
  {
   "cell_type": "code",
   "execution_count": 39,
   "metadata": {
    "slideshow": {
     "slide_type": "slide"
    }
   },
   "outputs": [
    {
     "data": {
      "text/plain": [
       "<matplotlib.axes._subplots.AxesSubplot at 0x11432268>"
      ]
     },
     "execution_count": 39,
     "metadata": {},
     "output_type": "execute_result"
    },
    {
     "data": {
      "image/png": "[encoded data removed]",
      "text/plain": [
       "<Figure size 360x360 with 1 Axes>"
      ]
     },
     "metadata": {
      "needs_background": "light"
     },
     "output_type": "display_data"
    }
   ],
   "source": [
    "df_user.plot(kind='bar', figsize=(5,5))"
   ]
  },
  {
   "cell_type": "markdown",
   "metadata": {
    "slideshow": {
     "slide_type": "subslide"
    }
   },
   "source": [
    "Compared to number of customers, number of subcribers are over 7 times higher in Other, over 8 times higher in Female, and over 10 times higher in Male. On average, number of subcribers is 8.5 higher than number of customers. This is a good metric to have as more subscribers mean higher user retention, user returns and life time values.\n",
    "\n",
    "However, the number of Male customers is 2.5 times higher than Female customers and is 25 times higher than Other customers; And the number of Male subscribers is 3 times higher than Female subscribers, and is 38 times higher than Other subscribers, despite Other and Female have higher trip duration on average.\n",
    "\n",
    "Ford Go Bike service clearly attracts more Male users than Female and Other users. Ford Go Bike team should do in-depth persona research and user interviews to find out why their product and service do not attract Female and Other users that well."
   ]
  },
  {
   "cell_type": "code",
   "execution_count": 40,
   "metadata": {
    "slideshow": {
     "slide_type": "subslide"
    }
   },
   "outputs": [
    {
     "data": {
      "text/html": [
       "<div>\n",
       "<style scoped>\n",
       "    .dataframe tbody tr th:only-of-type {\n",
       "        vertical-align: middle;\n",
       "    }\n",
       "\n",
       "    .dataframe tbody tr th {\n",
       "        vertical-align: top;\n",
       "    }\n",
       "\n",
       "    .dataframe thead th {\n",
       "        text-align: right;\n",
       "    }\n",
       "</style>\n",
       "<table border=\"1\" class=\"dataframe\">\n",
       "  <thead>\n",
       "    <tr style=\"text-align: right;\">\n",
       "      <th></th>\n",
       "      <th>customer</th>\n",
       "      <th>subscriber</th>\n",
       "    </tr>\n",
       "  </thead>\n",
       "  <tbody>\n",
       "    <tr>\n",
       "      <th>Other</th>\n",
       "      <td>455</td>\n",
       "      <td>3197</td>\n",
       "    </tr>\n",
       "    <tr>\n",
       "      <th>Female</th>\n",
       "      <td>4647</td>\n",
       "      <td>36197</td>\n",
       "    </tr>\n",
       "    <tr>\n",
       "      <th>Male</th>\n",
       "      <td>11529</td>\n",
       "      <td>119122</td>\n",
       "    </tr>\n",
       "  </tbody>\n",
       "</table>\n",
       "</div>"
      ],
      "text/plain": [
       "        customer  subscriber\n",
       "Other        455        3197\n",
       "Female      4647       36197\n",
       "Male       11529      119122"
      ]
     },
     "execution_count": 40,
     "metadata": {},
     "output_type": "execute_result"
    }
   ],
   "source": [
    "df_user"
   ]
  },
  {
   "cell_type": "markdown",
   "metadata": {
    "slideshow": {
     "slide_type": "skip"
    }
   },
   "source": [
    "### Multivariates"
   ]
  },
  {
   "cell_type": "code",
   "execution_count": 41,
   "metadata": {
    "slideshow": {
     "slide_type": "skip"
    }
   },
   "outputs": [],
   "source": [
    "start_day1 = pd.DataFrame(df1.groupby('start_day').mean()['duration_sec'])\n",
    "end_day1 = pd.DataFrame(df1.groupby('end_day').mean()['duration_sec'])\n",
    "start_day1 = start_day1.rename(columns={'duration_sec':'start_day'})\n",
    "end_day1 = end_day1.rename(columns={'duration_sec':'end_day'})                     \n",
    "df1_day1 = start_day1.join(end_day1, how='outer')"
   ]
  },
  {
   "cell_type": "code",
   "execution_count": 42,
   "metadata": {
    "slideshow": {
     "slide_type": "slide"
    }
   },
   "outputs": [
    {
     "data": {
      "text/plain": [
       "<matplotlib.axes._subplots.AxesSubplot at 0x11461550>"
      ]
     },
     "execution_count": 42,
     "metadata": {},
     "output_type": "execute_result"
    },
    {
     "data": {
      "image/png": "[encoded data removed]",
      "text/plain": [
       "<Figure size 432x288 with 1 Axes>"
      ]
     },
     "metadata": {
      "needs_background": "light"
     },
     "output_type": "display_data"
    }
   ],
   "source": [
    "df1_day1.plot(kind='bar', stacked=True)"
   ]
  },
  {
   "cell_type": "markdown",
   "metadata": {
    "slideshow": {
     "slide_type": "subslide"
    }
   },
   "source": [
    "Saturday and Sunday have the highest trip duration compare to other week days. People may have more spare time during weekend to take longer trips."
   ]
  },
  {
   "cell_type": "code",
   "execution_count": 43,
   "metadata": {
    "slideshow": {
     "slide_type": "subslide"
    }
   },
   "outputs": [
    {
     "data": {
      "text/html": [
       "<div>\n",
       "<style scoped>\n",
       "    .dataframe tbody tr th:only-of-type {\n",
       "        vertical-align: middle;\n",
       "    }\n",
       "\n",
       "    .dataframe tbody tr th {\n",
       "        vertical-align: top;\n",
       "    }\n",
       "\n",
       "    .dataframe thead th {\n",
       "        text-align: right;\n",
       "    }\n",
       "</style>\n",
       "<table border=\"1\" class=\"dataframe\">\n",
       "  <thead>\n",
       "    <tr style=\"text-align: right;\">\n",
       "      <th></th>\n",
       "      <th>start_day</th>\n",
       "      <th>end_day</th>\n",
       "    </tr>\n",
       "    <tr>\n",
       "      <th>start_day</th>\n",
       "      <th></th>\n",
       "      <th></th>\n",
       "    </tr>\n",
       "  </thead>\n",
       "  <tbody>\n",
       "    <tr>\n",
       "      <th>Friday</th>\n",
       "      <td>681.507189</td>\n",
       "      <td>676.563634</td>\n",
       "    </tr>\n",
       "    <tr>\n",
       "      <th>Monday</th>\n",
       "      <td>697.104064</td>\n",
       "      <td>691.823678</td>\n",
       "    </tr>\n",
       "    <tr>\n",
       "      <th>Saturday</th>\n",
       "      <td>850.583299</td>\n",
       "      <td>841.912872</td>\n",
       "    </tr>\n",
       "    <tr>\n",
       "      <th>Sunday</th>\n",
       "      <td>859.202243</td>\n",
       "      <td>875.019809</td>\n",
       "    </tr>\n",
       "    <tr>\n",
       "      <th>Thursday</th>\n",
       "      <td>678.421338</td>\n",
       "      <td>687.227526</td>\n",
       "    </tr>\n",
       "    <tr>\n",
       "      <th>Tuesday</th>\n",
       "      <td>652.897015</td>\n",
       "      <td>658.240734</td>\n",
       "    </tr>\n",
       "    <tr>\n",
       "      <th>Wednesday</th>\n",
       "      <td>665.060514</td>\n",
       "      <td>654.674201</td>\n",
       "    </tr>\n",
       "  </tbody>\n",
       "</table>\n",
       "</div>"
      ],
      "text/plain": [
       "            start_day     end_day\n",
       "start_day                        \n",
       "Friday     681.507189  676.563634\n",
       "Monday     697.104064  691.823678\n",
       "Saturday   850.583299  841.912872\n",
       "Sunday     859.202243  875.019809\n",
       "Thursday   678.421338  687.227526\n",
       "Tuesday    652.897015  658.240734\n",
       "Wednesday  665.060514  654.674201"
      ]
     },
     "execution_count": 43,
     "metadata": {},
     "output_type": "execute_result"
    }
   ],
   "source": [
    "df1_day1"
   ]
  },
  {
   "cell_type": "code",
   "execution_count": 44,
   "metadata": {
    "slideshow": {
     "slide_type": "skip"
    }
   },
   "outputs": [],
   "source": [
    "start_hour1 = pd.DataFrame(df1.groupby('start_hour').mean()['duration_sec'])\n",
    "end_hour1 = pd.DataFrame(df1.groupby('end_hour').mean()['duration_sec'])\n",
    "\n",
    "start_hour1 = start_hour1.rename(columns={'duration_sec':'start_hour'})\n",
    "end_hour1 = end_hour1.rename(columns={'duration_sec':'end_hour'})\n",
    "\n",
    "df1_hour1 = start_hour1.join(end_hour1, how='outer')"
   ]
  },
  {
   "cell_type": "code",
   "execution_count": 45,
   "metadata": {
    "slideshow": {
     "slide_type": "slide"
    }
   },
   "outputs": [
    {
     "data": {
      "text/plain": [
       "<matplotlib.axes._subplots.AxesSubplot at 0x11899808>"
      ]
     },
     "execution_count": 45,
     "metadata": {},
     "output_type": "execute_result"
    },
    {
     "data": {
      "image/png": "[encoded data removed]",
      "text/plain": [
       "<Figure size 1008x360 with 1 Axes>"
      ]
     },
     "metadata": {
      "needs_background": "light"
     },
     "output_type": "display_data"
    }
   ],
   "source": [
    "df1_hour1.plot(kind='bar', stacked=True, figsize=(14,5))"
   ]
  },
  {
   "cell_type": "markdown",
   "metadata": {
    "slideshow": {
     "slide_type": "subslide"
    }
   },
   "source": [
    "Interestingly the trips start and end early in the morning between 2 to 3 have the longest duration span qith 14 minutes on average versus the trips commute during rush hours 7 to 8 with 10 minutes on average and 17 to 18 with 11 minutes."
   ]
  },
  {
   "cell_type": "code",
   "execution_count": 46,
   "metadata": {
    "slideshow": {
     "slide_type": "subslide"
    }
   },
   "outputs": [
    {
     "data": {
      "text/html": [
       "<div>\n",
       "<style scoped>\n",
       "    .dataframe tbody tr th:only-of-type {\n",
       "        vertical-align: middle;\n",
       "    }\n",
       "\n",
       "    .dataframe tbody tr th {\n",
       "        vertical-align: top;\n",
       "    }\n",
       "\n",
       "    .dataframe thead th {\n",
       "        text-align: right;\n",
       "    }\n",
       "</style>\n",
       "<table border=\"1\" class=\"dataframe\">\n",
       "  <thead>\n",
       "    <tr style=\"text-align: right;\">\n",
       "      <th></th>\n",
       "      <th>start_hour</th>\n",
       "      <th>end_hour</th>\n",
       "    </tr>\n",
       "    <tr>\n",
       "      <th>start_hour</th>\n",
       "      <th></th>\n",
       "      <th></th>\n",
       "    </tr>\n",
       "  </thead>\n",
       "  <tbody>\n",
       "    <tr>\n",
       "      <th>00</th>\n",
       "      <td>808.895857</td>\n",
       "      <td>912.940933</td>\n",
       "    </tr>\n",
       "    <tr>\n",
       "      <th>01</th>\n",
       "      <td>652.451429</td>\n",
       "      <td>818.715342</td>\n",
       "    </tr>\n",
       "    <tr>\n",
       "      <th>02</th>\n",
       "      <td>1067.620787</td>\n",
       "      <td>1158.184729</td>\n",
       "    </tr>\n",
       "    <tr>\n",
       "      <th>03</th>\n",
       "      <td>1471.884146</td>\n",
       "      <td>1041.815476</td>\n",
       "    </tr>\n",
       "    <tr>\n",
       "      <th>04</th>\n",
       "      <td>685.189427</td>\n",
       "      <td>896.564444</td>\n",
       "    </tr>\n",
       "    <tr>\n",
       "      <th>05</th>\n",
       "      <td>601.254042</td>\n",
       "      <td>732.925474</td>\n",
       "    </tr>\n",
       "    <tr>\n",
       "      <th>06</th>\n",
       "      <td>534.712508</td>\n",
       "      <td>544.757046</td>\n",
       "    </tr>\n",
       "    <tr>\n",
       "      <th>07</th>\n",
       "      <td>613.838202</td>\n",
       "      <td>609.997278</td>\n",
       "    </tr>\n",
       "    <tr>\n",
       "      <th>08</th>\n",
       "      <td>656.268551</td>\n",
       "      <td>654.341567</td>\n",
       "    </tr>\n",
       "    <tr>\n",
       "      <th>09</th>\n",
       "      <td>651.777084</td>\n",
       "      <td>658.414351</td>\n",
       "    </tr>\n",
       "    <tr>\n",
       "      <th>10</th>\n",
       "      <td>698.862531</td>\n",
       "      <td>674.561572</td>\n",
       "    </tr>\n",
       "    <tr>\n",
       "      <th>11</th>\n",
       "      <td>803.581560</td>\n",
       "      <td>743.295942</td>\n",
       "    </tr>\n",
       "    <tr>\n",
       "      <th>12</th>\n",
       "      <td>777.225203</td>\n",
       "      <td>796.308532</td>\n",
       "    </tr>\n",
       "    <tr>\n",
       "      <th>13</th>\n",
       "      <td>829.518231</td>\n",
       "      <td>808.048142</td>\n",
       "    </tr>\n",
       "    <tr>\n",
       "      <th>14</th>\n",
       "      <td>828.410190</td>\n",
       "      <td>807.933515</td>\n",
       "    </tr>\n",
       "    <tr>\n",
       "      <th>15</th>\n",
       "      <td>813.089638</td>\n",
       "      <td>831.675018</td>\n",
       "    </tr>\n",
       "    <tr>\n",
       "      <th>16</th>\n",
       "      <td>722.316113</td>\n",
       "      <td>717.128487</td>\n",
       "    </tr>\n",
       "    <tr>\n",
       "      <th>17</th>\n",
       "      <td>704.853305</td>\n",
       "      <td>687.879247</td>\n",
       "    </tr>\n",
       "    <tr>\n",
       "      <th>18</th>\n",
       "      <td>641.890411</td>\n",
       "      <td>676.839709</td>\n",
       "    </tr>\n",
       "    <tr>\n",
       "      <th>19</th>\n",
       "      <td>684.927163</td>\n",
       "      <td>676.824897</td>\n",
       "    </tr>\n",
       "    <tr>\n",
       "      <th>20</th>\n",
       "      <td>674.456913</td>\n",
       "      <td>710.180543</td>\n",
       "    </tr>\n",
       "    <tr>\n",
       "      <th>21</th>\n",
       "      <td>712.743922</td>\n",
       "      <td>677.063576</td>\n",
       "    </tr>\n",
       "    <tr>\n",
       "      <th>22</th>\n",
       "      <td>612.354816</td>\n",
       "      <td>706.946129</td>\n",
       "    </tr>\n",
       "    <tr>\n",
       "      <th>23</th>\n",
       "      <td>793.734266</td>\n",
       "      <td>664.211670</td>\n",
       "    </tr>\n",
       "  </tbody>\n",
       "</table>\n",
       "</div>"
      ],
      "text/plain": [
       "             start_hour     end_hour\n",
       "start_hour                          \n",
       "00           808.895857   912.940933\n",
       "01           652.451429   818.715342\n",
       "02          1067.620787  1158.184729\n",
       "03          1471.884146  1041.815476\n",
       "04           685.189427   896.564444\n",
       "05           601.254042   732.925474\n",
       "06           534.712508   544.757046\n",
       "07           613.838202   609.997278\n",
       "08           656.268551   654.341567\n",
       "09           651.777084   658.414351\n",
       "10           698.862531   674.561572\n",
       "11           803.581560   743.295942\n",
       "12           777.225203   796.308532\n",
       "13           829.518231   808.048142\n",
       "14           828.410190   807.933515\n",
       "15           813.089638   831.675018\n",
       "16           722.316113   717.128487\n",
       "17           704.853305   687.879247\n",
       "18           641.890411   676.839709\n",
       "19           684.927163   676.824897\n",
       "20           674.456913   710.180543\n",
       "21           712.743922   677.063576\n",
       "22           612.354816   706.946129\n",
       "23           793.734266   664.211670"
      ]
     },
     "execution_count": 46,
     "metadata": {},
     "output_type": "execute_result"
    }
   ],
   "source": [
    "df1_hour1"
   ]
  },
  {
   "cell_type": "code",
   "execution_count": 47,
   "metadata": {
    "slideshow": {
     "slide_type": "skip"
    }
   },
   "outputs": [
    {
     "data": {
      "text/plain": [
       "4635"
      ]
     },
     "execution_count": 47,
     "metadata": {},
     "output_type": "execute_result"
    }
   ],
   "source": [
    "df1['bike_id'].nunique()"
   ]
  },
  {
   "cell_type": "code",
   "execution_count": 48,
   "metadata": {
    "slideshow": {
     "slide_type": "skip"
    }
   },
   "outputs": [],
   "source": [
    "start_bike = pd.DataFrame(df1.groupby('start_station_name')['bike_id'].nunique())\n",
    "end_bike = pd.DataFrame(df1.groupby('end_station_name')['bike_id'].nunique())\n",
    "\n",
    "start_bike = start_bike.rename(columns={'bike_id':'start'})\n",
    "end_bike = end_bike.rename(columns={'bike_id':'end'})\n",
    "\n",
    "station_bike = start_bike.join(end_bike, how='outer')\n",
    "station_bike['total'] = (station_bike['start'] + station_bike['end'])\n",
    "station_bike['average'] = (station_bike['total'] / 28)\n",
    "\n",
    "station_bike = station_bike[station_bike.index !=0]\n",
    "station_bike = station_bike.sort_values(by='total', ascending=False)"
   ]
  },
  {
   "cell_type": "code",
   "execution_count": 49,
   "metadata": {
    "slideshow": {
     "slide_type": "skip"
    }
   },
   "outputs": [],
   "source": [
    "most_bikes = station_bike[station_bike['average'] >= 90]"
   ]
  },
  {
   "cell_type": "code",
   "execution_count": 50,
   "metadata": {
    "slideshow": {
     "slide_type": "slide"
    }
   },
   "outputs": [
    {
     "data": {
      "text/plain": [
       "<matplotlib.axes._subplots.AxesSubplot at 0x9435568>"
      ]
     },
     "execution_count": 50,
     "metadata": {},
     "output_type": "execute_result"
    },
    {
     "data": {
      "image/png": "[encoded data removed]",
      "text/plain": [
       "<Figure size 504x360 with 1 Axes>"
      ]
     },
     "metadata": {
      "needs_background": "light"
     },
     "output_type": "display_data"
    }
   ],
   "source": [
    "most_bikes[['average']].plot(kind='bar', figsize=(7,5))"
   ]
  },
  {
   "cell_type": "code",
   "execution_count": 51,
   "metadata": {
    "slideshow": {
     "slide_type": "subslide"
    }
   },
   "outputs": [
    {
     "data": {
      "text/html": [
       "<div>\n",
       "<style scoped>\n",
       "    .dataframe tbody tr th:only-of-type {\n",
       "        vertical-align: middle;\n",
       "    }\n",
       "\n",
       "    .dataframe tbody tr th {\n",
       "        vertical-align: top;\n",
       "    }\n",
       "\n",
       "    .dataframe thead th {\n",
       "        text-align: right;\n",
       "    }\n",
       "</style>\n",
       "<table border=\"1\" class=\"dataframe\">\n",
       "  <thead>\n",
       "    <tr style=\"text-align: right;\">\n",
       "      <th></th>\n",
       "      <th>start</th>\n",
       "      <th>end</th>\n",
       "      <th>total</th>\n",
       "      <th>average</th>\n",
       "    </tr>\n",
       "  </thead>\n",
       "  <tbody>\n",
       "    <tr>\n",
       "      <th>San Francisco Caltrain Station 2  (Townsend St at 4th St)</th>\n",
       "      <td>1571</td>\n",
       "      <td>1783</td>\n",
       "      <td>3354</td>\n",
       "      <td>119.785714</td>\n",
       "    </tr>\n",
       "    <tr>\n",
       "      <th>Market St at 10th St</th>\n",
       "      <td>1543</td>\n",
       "      <td>1569</td>\n",
       "      <td>3112</td>\n",
       "      <td>111.142857</td>\n",
       "    </tr>\n",
       "    <tr>\n",
       "      <th>Montgomery St BART Station (Market St at 2nd St)</th>\n",
       "      <td>1295</td>\n",
       "      <td>1561</td>\n",
       "      <td>2856</td>\n",
       "      <td>102.000000</td>\n",
       "    </tr>\n",
       "    <tr>\n",
       "      <th>San Francisco Ferry Building (Harry Bridges Plaza)</th>\n",
       "      <td>1298</td>\n",
       "      <td>1485</td>\n",
       "      <td>2783</td>\n",
       "      <td>99.392857</td>\n",
       "    </tr>\n",
       "    <tr>\n",
       "      <th>Berry St at 4th St</th>\n",
       "      <td>1410</td>\n",
       "      <td>1355</td>\n",
       "      <td>2765</td>\n",
       "      <td>98.750000</td>\n",
       "    </tr>\n",
       "    <tr>\n",
       "      <th>Powell St BART Station (Market St at 4th St)</th>\n",
       "      <td>1326</td>\n",
       "      <td>1428</td>\n",
       "      <td>2754</td>\n",
       "      <td>98.357143</td>\n",
       "    </tr>\n",
       "    <tr>\n",
       "      <th>San Francisco Caltrain (Townsend St at 4th St)</th>\n",
       "      <td>1322</td>\n",
       "      <td>1400</td>\n",
       "      <td>2722</td>\n",
       "      <td>97.214286</td>\n",
       "    </tr>\n",
       "  </tbody>\n",
       "</table>\n",
       "</div>"
      ],
      "text/plain": [
       "                                                    start   end  total  \\\n",
       "San Francisco Caltrain Station 2  (Townsend St ...   1571  1783   3354   \n",
       "Market St at 10th St                                 1543  1569   3112   \n",
       "Montgomery St BART Station (Market St at 2nd St)     1295  1561   2856   \n",
       "San Francisco Ferry Building (Harry Bridges Plaza)   1298  1485   2783   \n",
       "Berry St at 4th St                                   1410  1355   2765   \n",
       "Powell St BART Station (Market St at 4th St)         1326  1428   2754   \n",
       "San Francisco Caltrain (Townsend St at 4th St)       1322  1400   2722   \n",
       "\n",
       "                                                       average  \n",
       "San Francisco Caltrain Station 2  (Townsend St ...  119.785714  \n",
       "Market St at 10th St                                111.142857  \n",
       "Montgomery St BART Station (Market St at 2nd St)    102.000000  \n",
       "San Francisco Ferry Building (Harry Bridges Plaza)   99.392857  \n",
       "Berry St at 4th St                                   98.750000  \n",
       "Powell St BART Station (Market St at 4th St)         98.357143  \n",
       "San Francisco Caltrain (Townsend St at 4th St)       97.214286  "
      ]
     },
     "execution_count": 51,
     "metadata": {},
     "output_type": "execute_result"
    }
   ],
   "source": [
    "most_bikes"
   ]
  },
  {
   "cell_type": "code",
   "execution_count": 52,
   "metadata": {
    "slideshow": {
     "slide_type": "skip"
    }
   },
   "outputs": [],
   "source": [
    "least_bikes = station_bike[station_bike['average'] < 1]"
   ]
  },
  {
   "cell_type": "code",
   "execution_count": 53,
   "metadata": {
    "slideshow": {
     "slide_type": "slide"
    }
   },
   "outputs": [
    {
     "data": {
      "text/plain": [
       "<matplotlib.axes._subplots.AxesSubplot at 0x9460898>"
      ]
     },
     "execution_count": 53,
     "metadata": {},
     "output_type": "execute_result"
    },
    {
     "data": {
      "image/png": "[encoded data removed]",
      "text/plain": [
       "<Figure size 648x360 with 1 Axes>"
      ]
     },
     "metadata": {
      "needs_background": "light"
     },
     "output_type": "display_data"
    }
   ],
   "source": [
    "least_bikes[['average']].plot(kind='bar', figsize=(9,5))"
   ]
  },
  {
   "cell_type": "code",
   "execution_count": 54,
   "metadata": {
    "slideshow": {
     "slide_type": "subslide"
    }
   },
   "outputs": [
    {
     "data": {
      "text/html": [
       "<div>\n",
       "<style scoped>\n",
       "    .dataframe tbody tr th:only-of-type {\n",
       "        vertical-align: middle;\n",
       "    }\n",
       "\n",
       "    .dataframe tbody tr th {\n",
       "        vertical-align: top;\n",
       "    }\n",
       "\n",
       "    .dataframe thead th {\n",
       "        text-align: right;\n",
       "    }\n",
       "</style>\n",
       "<table border=\"1\" class=\"dataframe\">\n",
       "  <thead>\n",
       "    <tr style=\"text-align: right;\">\n",
       "      <th></th>\n",
       "      <th>start</th>\n",
       "      <th>end</th>\n",
       "      <th>total</th>\n",
       "      <th>average</th>\n",
       "    </tr>\n",
       "  </thead>\n",
       "  <tbody>\n",
       "    <tr>\n",
       "      <th>Leavenworth St at Broadway</th>\n",
       "      <td>13</td>\n",
       "      <td>12</td>\n",
       "      <td>25</td>\n",
       "      <td>0.892857</td>\n",
       "    </tr>\n",
       "    <tr>\n",
       "      <th>Taylor St at 9th St</th>\n",
       "      <td>13</td>\n",
       "      <td>10</td>\n",
       "      <td>23</td>\n",
       "      <td>0.821429</td>\n",
       "    </tr>\n",
       "    <tr>\n",
       "      <th>Farnam St at Fruitvale Ave</th>\n",
       "      <td>8</td>\n",
       "      <td>10</td>\n",
       "      <td>18</td>\n",
       "      <td>0.642857</td>\n",
       "    </tr>\n",
       "    <tr>\n",
       "      <th>Parker Ave at McAllister St</th>\n",
       "      <td>7</td>\n",
       "      <td>8</td>\n",
       "      <td>15</td>\n",
       "      <td>0.535714</td>\n",
       "    </tr>\n",
       "    <tr>\n",
       "      <th>Willow St at Vine St</th>\n",
       "      <td>8</td>\n",
       "      <td>5</td>\n",
       "      <td>13</td>\n",
       "      <td>0.464286</td>\n",
       "    </tr>\n",
       "    <tr>\n",
       "      <th>Palm St at Willow St</th>\n",
       "      <td>3</td>\n",
       "      <td>7</td>\n",
       "      <td>10</td>\n",
       "      <td>0.357143</td>\n",
       "    </tr>\n",
       "    <tr>\n",
       "      <th>21st Ave at International Blvd</th>\n",
       "      <td>4</td>\n",
       "      <td>5</td>\n",
       "      <td>9</td>\n",
       "      <td>0.321429</td>\n",
       "    </tr>\n",
       "    <tr>\n",
       "      <th>16th St Depot</th>\n",
       "      <td>2</td>\n",
       "      <td>6</td>\n",
       "      <td>8</td>\n",
       "      <td>0.285714</td>\n",
       "    </tr>\n",
       "  </tbody>\n",
       "</table>\n",
       "</div>"
      ],
      "text/plain": [
       "                                start  end  total   average\n",
       "Leavenworth St at Broadway         13   12     25  0.892857\n",
       "Taylor St at 9th St                13   10     23  0.821429\n",
       "Farnam St at Fruitvale Ave          8   10     18  0.642857\n",
       "Parker Ave at McAllister St         7    8     15  0.535714\n",
       "Willow St at Vine St                8    5     13  0.464286\n",
       "Palm St at Willow St                3    7     10  0.357143\n",
       "21st Ave at International Blvd      4    5      9  0.321429\n",
       "16th St Depot                       2    6      8  0.285714"
      ]
     },
     "execution_count": 54,
     "metadata": {},
     "output_type": "execute_result"
    }
   ],
   "source": [
    "least_bikes"
   ]
  },
  {
   "cell_type": "markdown",
   "metadata": {
    "slideshow": {
     "slide_type": "subslide"
    }
   },
   "source": [
    "These 8 stations usually does not have any bike available. This could be a factor that drove riders away at these stations since riders could be worried that they won't be likely to find an available bike at these stations."
   ]
  },
  {
   "cell_type": "markdown",
   "metadata": {
    "slideshow": {
     "slide_type": "skip"
    }
   },
   "source": [
    "       "
   ]
  },
  {
   "cell_type": "markdown",
   "metadata": {
    "slideshow": {
     "slide_type": "skip"
    }
   },
   "source": [
    "                       "
   ]
  },
  {
   "cell_type": "markdown",
   "metadata": {
    "slideshow": {
     "slide_type": "slide"
    }
   },
   "source": [
    "## Explaination"
   ]
  },
  {
   "cell_type": "markdown",
   "metadata": {
    "slideshow": {
     "slide_type": "slide"
    }
   },
   "source": [
    "### Time"
   ]
  },
  {
   "cell_type": "code",
   "execution_count": 55,
   "metadata": {
    "slideshow": {
     "slide_type": "skip"
    }
   },
   "outputs": [
    {
     "data": {
      "text/html": [
       "<div>\n",
       "<style scoped>\n",
       "    .dataframe tbody tr th:only-of-type {\n",
       "        vertical-align: middle;\n",
       "    }\n",
       "\n",
       "    .dataframe tbody tr th {\n",
       "        vertical-align: top;\n",
       "    }\n",
       "\n",
       "    .dataframe thead th {\n",
       "        text-align: right;\n",
       "    }\n",
       "</style>\n",
       "<table border=\"1\" class=\"dataframe\">\n",
       "  <thead>\n",
       "    <tr style=\"text-align: right;\">\n",
       "      <th></th>\n",
       "      <th>start_date</th>\n",
       "      <th>end_date</th>\n",
       "      <th>duration_sec</th>\n",
       "      <th>start_hour</th>\n",
       "      <th>end_hour</th>\n",
       "      <th>start_day</th>\n",
       "      <th>end_day</th>\n",
       "    </tr>\n",
       "  </thead>\n",
       "  <tbody>\n",
       "    <tr>\n",
       "      <th>0</th>\n",
       "      <td>2019-02-28</td>\n",
       "      <td>2019-03-01</td>\n",
       "      <td>52185</td>\n",
       "      <td>17</td>\n",
       "      <td>08</td>\n",
       "      <td>Thursday</td>\n",
       "      <td>Friday</td>\n",
       "    </tr>\n",
       "    <tr>\n",
       "      <th>2</th>\n",
       "      <td>2019-02-28</td>\n",
       "      <td>2019-03-01</td>\n",
       "      <td>61854</td>\n",
       "      <td>12</td>\n",
       "      <td>05</td>\n",
       "      <td>Thursday</td>\n",
       "      <td>Friday</td>\n",
       "    </tr>\n",
       "    <tr>\n",
       "      <th>3</th>\n",
       "      <td>2019-02-28</td>\n",
       "      <td>2019-03-01</td>\n",
       "      <td>36490</td>\n",
       "      <td>17</td>\n",
       "      <td>04</td>\n",
       "      <td>Thursday</td>\n",
       "      <td>Friday</td>\n",
       "    </tr>\n",
       "    <tr>\n",
       "      <th>4</th>\n",
       "      <td>2019-02-28</td>\n",
       "      <td>2019-03-01</td>\n",
       "      <td>1585</td>\n",
       "      <td>23</td>\n",
       "      <td>00</td>\n",
       "      <td>Thursday</td>\n",
       "      <td>Friday</td>\n",
       "    </tr>\n",
       "    <tr>\n",
       "      <th>5</th>\n",
       "      <td>2019-02-28</td>\n",
       "      <td>2019-03-01</td>\n",
       "      <td>1793</td>\n",
       "      <td>23</td>\n",
       "      <td>00</td>\n",
       "      <td>Thursday</td>\n",
       "      <td>Friday</td>\n",
       "    </tr>\n",
       "  </tbody>\n",
       "</table>\n",
       "</div>"
      ],
      "text/plain": [
       "   start_date    end_date  duration_sec start_hour end_hour start_day end_day\n",
       "0  2019-02-28  2019-03-01         52185         17       08  Thursday  Friday\n",
       "2  2019-02-28  2019-03-01         61854         12       05  Thursday  Friday\n",
       "3  2019-02-28  2019-03-01         36490         17       04  Thursday  Friday\n",
       "4  2019-02-28  2019-03-01          1585         23       00  Thursday  Friday\n",
       "5  2019-02-28  2019-03-01          1793         23       00  Thursday  Friday"
      ]
     },
     "execution_count": 55,
     "metadata": {},
     "output_type": "execute_result"
    }
   ],
   "source": [
    "time = df1[['start_date','end_date','duration_sec','start_hour','end_hour','start_day','end_day']]\n",
    "time.head()"
   ]
  },
  {
   "cell_type": "markdown",
   "metadata": {
    "slideshow": {
     "slide_type": "skip"
    }
   },
   "source": [
    "#### Total trips by week days"
   ]
  },
  {
   "cell_type": "code",
   "execution_count": 56,
   "metadata": {
    "slideshow": {
     "slide_type": "skip"
    }
   },
   "outputs": [],
   "source": [
    "day = ['Monday', 'Tuesday', 'Wednesday', 'Thursday', 'Friday', 'Saturday', 'Sunday']"
   ]
  },
  {
   "cell_type": "code",
   "execution_count": 57,
   "metadata": {
    "slideshow": {
     "slide_type": "skip"
    }
   },
   "outputs": [],
   "source": [
    "start_day = pd.DataFrame(time['start_day'].value_counts(), index=day)\n",
    "end_day = pd.DataFrame(time['end_day'].value_counts(), index=day)\n",
    "trip_per_day = pd.concat([start_day, end_day], axis=1)\n",
    "trip_per_day['total'] = (trip_per_day['start_day'] + trip_per_day['end_day'])"
   ]
  },
  {
   "cell_type": "code",
   "execution_count": 146,
   "metadata": {
    "slideshow": {
     "slide_type": "slide"
    }
   },
   "outputs": [
    {
     "data": {
      "text/plain": [
       "<matplotlib.axes._subplots.AxesSubplot at 0x1c4e4760>"
      ]
     },
     "execution_count": 146,
     "metadata": {},
     "output_type": "execute_result"
    },
    {
     "data": {
      "image/png": "[encoded data removed]",
      "text/plain": [
       "<Figure size 720x360 with 1 Axes>"
      ]
     },
     "metadata": {
      "needs_background": "light"
     },
     "output_type": "display_data"
    }
   ],
   "source": [
    "trip_per_day[['start_day','end_day']].plot(kind='bar', stacked=True, figsize=(10,5), color=['#652a6b','#e46e5e'], title=' Total trips by week days')"
   ]
  },
  {
   "cell_type": "markdown",
   "metadata": {
    "slideshow": {
     "slide_type": "subslide"
    }
   },
   "source": [
    "Thursdays have highest number of trips with a total of 67,461. Follwing by Tuesdays with 61,239 trips. On Mondays, Wednesdays and Fridays have somewhere from 51,000 to over 55,000 trips.\n",
    "\n",
    "Saturday and Sunday have significantly lower trips than weekdays with only 30,818 and 31,046 trips respectively which are half of the total trips on Tuesdays and less than half of total trips on Thursdays. \n",
    "\n",
    "One of the reason this happens could be the majority of users only come to San Francisco during weekdays to work or use Ford bikes to commute to work. One thing Ford can do to boost the bikes usage during weekend is targeting tourists who usually spend weekends in San Francisco."
   ]
  },
  {
   "cell_type": "code",
   "execution_count": 59,
   "metadata": {
    "slideshow": {
     "slide_type": "subslide"
    }
   },
   "outputs": [
    {
     "data": {
      "text/html": [
       "<div>\n",
       "<style scoped>\n",
       "    .dataframe tbody tr th:only-of-type {\n",
       "        vertical-align: middle;\n",
       "    }\n",
       "\n",
       "    .dataframe tbody tr th {\n",
       "        vertical-align: top;\n",
       "    }\n",
       "\n",
       "    .dataframe thead th {\n",
       "        text-align: right;\n",
       "    }\n",
       "</style>\n",
       "<table border=\"1\" class=\"dataframe\">\n",
       "  <thead>\n",
       "    <tr style=\"text-align: right;\">\n",
       "      <th></th>\n",
       "      <th>start_day</th>\n",
       "      <th>end_day</th>\n",
       "      <th>total</th>\n",
       "    </tr>\n",
       "  </thead>\n",
       "  <tbody>\n",
       "    <tr>\n",
       "      <th>Monday</th>\n",
       "      <td>25686</td>\n",
       "      <td>25686</td>\n",
       "      <td>51372</td>\n",
       "    </tr>\n",
       "    <tr>\n",
       "      <th>Tuesday</th>\n",
       "      <td>30616</td>\n",
       "      <td>30623</td>\n",
       "      <td>61239</td>\n",
       "    </tr>\n",
       "    <tr>\n",
       "      <th>Wednesday</th>\n",
       "      <td>28456</td>\n",
       "      <td>28447</td>\n",
       "      <td>56903</td>\n",
       "    </tr>\n",
       "    <tr>\n",
       "      <th>Thursday</th>\n",
       "      <td>33733</td>\n",
       "      <td>33728</td>\n",
       "      <td>67461</td>\n",
       "    </tr>\n",
       "    <tr>\n",
       "      <th>Friday</th>\n",
       "      <td>27682</td>\n",
       "      <td>27674</td>\n",
       "      <td>55356</td>\n",
       "    </tr>\n",
       "    <tr>\n",
       "      <th>Saturday</th>\n",
       "      <td>14442</td>\n",
       "      <td>14450</td>\n",
       "      <td>28892</td>\n",
       "    </tr>\n",
       "    <tr>\n",
       "      <th>Sunday</th>\n",
       "      <td>14532</td>\n",
       "      <td>14539</td>\n",
       "      <td>29071</td>\n",
       "    </tr>\n",
       "  </tbody>\n",
       "</table>\n",
       "</div>"
      ],
      "text/plain": [
       "           start_day  end_day  total\n",
       "Monday         25686    25686  51372\n",
       "Tuesday        30616    30623  61239\n",
       "Wednesday      28456    28447  56903\n",
       "Thursday       33733    33728  67461\n",
       "Friday         27682    27674  55356\n",
       "Saturday       14442    14450  28892\n",
       "Sunday         14532    14539  29071"
      ]
     },
     "execution_count": 59,
     "metadata": {},
     "output_type": "execute_result"
    }
   ],
   "source": [
    "trip_per_day"
   ]
  },
  {
   "cell_type": "markdown",
   "metadata": {
    "slideshow": {
     "slide_type": "skip"
    }
   },
   "source": [
    "#### Total trips by hours"
   ]
  },
  {
   "cell_type": "code",
   "execution_count": 145,
   "metadata": {
    "slideshow": {
     "slide_type": "slide"
    }
   },
   "outputs": [
    {
     "data": {
      "text/plain": [
       "<matplotlib.axes._subplots.AxesSubplot at 0x1c1ae7f0>"
      ]
     },
     "execution_count": 145,
     "metadata": {},
     "output_type": "execute_result"
    },
    {
     "data": {
      "image/png": "[encoded data removed]",
      "text/plain": [
       "<Figure size 1008x360 with 1 Axes>"
      ]
     },
     "metadata": {
      "needs_background": "light"
     },
     "output_type": "display_data"
    }
   ],
   "source": [
    "start_hour = pd.DataFrame(time['start_hour'].value_counts())\n",
    "end_hour = pd.DataFrame(time['end_hour'].value_counts())\n",
    "hour = start_hour.join(df1_end_hour, how='outer')\n",
    "hour.plot(kind='bar', stacked=True, figsize=(14,5), color=['#652a6b','#e46e5e'], title=' Total trips by hours')"
   ]
  },
  {
   "cell_type": "markdown",
   "metadata": {
    "slideshow": {
     "slide_type": "subslide"
    }
   },
   "source": [
    "The most common start and end hours in the morning is from 8 to 9, and in the afternoon is from 17 to 18 also known as the rush hours. This again confirms the theory that most of the riders are professionals who use Ford bikes to commute to work. "
   ]
  },
  {
   "cell_type": "code",
   "execution_count": 61,
   "metadata": {
    "slideshow": {
     "slide_type": "subslide"
    }
   },
   "outputs": [
    {
     "data": {
      "text/html": [
       "<div>\n",
       "<style scoped>\n",
       "    .dataframe tbody tr th:only-of-type {\n",
       "        vertical-align: middle;\n",
       "    }\n",
       "\n",
       "    .dataframe tbody tr th {\n",
       "        vertical-align: top;\n",
       "    }\n",
       "\n",
       "    .dataframe thead th {\n",
       "        text-align: right;\n",
       "    }\n",
       "</style>\n",
       "<table border=\"1\" class=\"dataframe\">\n",
       "  <thead>\n",
       "    <tr style=\"text-align: right;\">\n",
       "      <th></th>\n",
       "      <th>start_hour</th>\n",
       "      <th>end_hour</th>\n",
       "    </tr>\n",
       "  </thead>\n",
       "  <tbody>\n",
       "    <tr>\n",
       "      <th>00</th>\n",
       "      <td>893</td>\n",
       "      <td>965</td>\n",
       "    </tr>\n",
       "    <tr>\n",
       "      <th>01</th>\n",
       "      <td>525</td>\n",
       "      <td>541</td>\n",
       "    </tr>\n",
       "    <tr>\n",
       "      <th>02</th>\n",
       "      <td>356</td>\n",
       "      <td>406</td>\n",
       "    </tr>\n",
       "    <tr>\n",
       "      <th>03</th>\n",
       "      <td>164</td>\n",
       "      <td>168</td>\n",
       "    </tr>\n",
       "    <tr>\n",
       "      <th>04</th>\n",
       "      <td>227</td>\n",
       "      <td>225</td>\n",
       "    </tr>\n",
       "    <tr>\n",
       "      <th>05</th>\n",
       "      <td>866</td>\n",
       "      <td>738</td>\n",
       "    </tr>\n",
       "    <tr>\n",
       "      <th>06</th>\n",
       "      <td>3294</td>\n",
       "      <td>2803</td>\n",
       "    </tr>\n",
       "    <tr>\n",
       "      <th>07</th>\n",
       "      <td>10235</td>\n",
       "      <td>8450</td>\n",
       "    </tr>\n",
       "    <tr>\n",
       "      <th>08</th>\n",
       "      <td>20242</td>\n",
       "      <td>19027</td>\n",
       "    </tr>\n",
       "    <tr>\n",
       "      <th>09</th>\n",
       "      <td>15221</td>\n",
       "      <td>16988</td>\n",
       "    </tr>\n",
       "    <tr>\n",
       "      <th>10</th>\n",
       "      <td>7980</td>\n",
       "      <td>8551</td>\n",
       "    </tr>\n",
       "    <tr>\n",
       "      <th>11</th>\n",
       "      <td>7473</td>\n",
       "      <td>7221</td>\n",
       "    </tr>\n",
       "    <tr>\n",
       "      <th>12</th>\n",
       "      <td>8237</td>\n",
       "      <td>8158</td>\n",
       "    </tr>\n",
       "    <tr>\n",
       "      <th>13</th>\n",
       "      <td>8118</td>\n",
       "      <td>8101</td>\n",
       "    </tr>\n",
       "    <tr>\n",
       "      <th>14</th>\n",
       "      <td>7694</td>\n",
       "      <td>7716</td>\n",
       "    </tr>\n",
       "    <tr>\n",
       "      <th>15</th>\n",
       "      <td>8657</td>\n",
       "      <td>8302</td>\n",
       "    </tr>\n",
       "    <tr>\n",
       "      <th>16</th>\n",
       "      <td>13492</td>\n",
       "      <td>12546</td>\n",
       "    </tr>\n",
       "    <tr>\n",
       "      <th>17</th>\n",
       "      <td>20921</td>\n",
       "      <td>20339</td>\n",
       "    </tr>\n",
       "    <tr>\n",
       "      <th>18</th>\n",
       "      <td>16133</td>\n",
       "      <td>17487</td>\n",
       "    </tr>\n",
       "    <tr>\n",
       "      <th>19</th>\n",
       "      <td>9432</td>\n",
       "      <td>10234</td>\n",
       "    </tr>\n",
       "    <tr>\n",
       "      <th>20</th>\n",
       "      <td>6220</td>\n",
       "      <td>6630</td>\n",
       "    </tr>\n",
       "    <tr>\n",
       "      <th>21</th>\n",
       "      <td>4401</td>\n",
       "      <td>4703</td>\n",
       "    </tr>\n",
       "    <tr>\n",
       "      <th>22</th>\n",
       "      <td>2793</td>\n",
       "      <td>3100</td>\n",
       "    </tr>\n",
       "    <tr>\n",
       "      <th>23</th>\n",
       "      <td>1573</td>\n",
       "      <td>1748</td>\n",
       "    </tr>\n",
       "  </tbody>\n",
       "</table>\n",
       "</div>"
      ],
      "text/plain": [
       "    start_hour  end_hour\n",
       "00         893       965\n",
       "01         525       541\n",
       "02         356       406\n",
       "03         164       168\n",
       "04         227       225\n",
       "05         866       738\n",
       "06        3294      2803\n",
       "07       10235      8450\n",
       "08       20242     19027\n",
       "09       15221     16988\n",
       "10        7980      8551\n",
       "11        7473      7221\n",
       "12        8237      8158\n",
       "13        8118      8101\n",
       "14        7694      7716\n",
       "15        8657      8302\n",
       "16       13492     12546\n",
       "17       20921     20339\n",
       "18       16133     17487\n",
       "19        9432     10234\n",
       "20        6220      6630\n",
       "21        4401      4703\n",
       "22        2793      3100\n",
       "23        1573      1748"
      ]
     },
     "execution_count": 61,
     "metadata": {},
     "output_type": "execute_result"
    }
   ],
   "source": [
    "hour"
   ]
  },
  {
   "cell_type": "code",
   "execution_count": 62,
   "metadata": {
    "slideshow": {
     "slide_type": "skip"
    }
   },
   "outputs": [],
   "source": [
    "start_hour_day = {'7 AM':[((time['start_day']=='Monday') & (time['start_hour']=='07')).sum(),\n",
    "                  ((time['start_day']=='Tuesday') & (time['start_hour']=='07')).sum(),\n",
    "                  ((time['start_day']=='Wednesday') & (time['start_hour']=='07')).sum(),\n",
    "                  ((time['start_day']=='Thursday') & (time['start_hour']=='07')).sum(),\n",
    "                  ((time['start_day']=='Friday') & (time['start_hour']=='07')).sum(),\n",
    "                  ((time['start_day']=='Saturday') & (time['start_hour']=='07')).sum(),\n",
    "                  ((time['start_day']=='Sunday') & (time['start_hour']=='07')).sum()],\n",
    "            '8 AM':[((time['start_day']=='Monday') & (time['start_hour']=='08')).sum(),\n",
    "                  ((time['start_day']=='Tuesday') & (time['start_hour']=='08')).sum(),\n",
    "                  ((time['start_day']=='Wednesday') & (time['start_hour']=='08')).sum(),\n",
    "                  ((time['start_day']=='Thursday') & (time['start_hour']=='08')).sum(),\n",
    "                  ((time['start_day']=='Friday') & (time['start_hour']=='08')).sum(),\n",
    "                  ((time['start_day']=='Saturday') & (time['start_hour']=='08')).sum(),\n",
    "                  ((time['start_day']=='Sunday') & (time['start_hour']=='08')).sum()],\n",
    "            '9 AM':[((time['start_day']=='Monday') & (time['start_hour']=='09')).sum(),\n",
    "                  ((time['start_day']=='Tuesday') & (time['start_hour']=='09')).sum(),\n",
    "                  ((time['start_day']=='Wednesday') & (time['start_hour']=='09')).sum(),\n",
    "                  ((time['start_day']=='Thursday') & (time['start_hour']=='09')).sum(),\n",
    "                  ((time['start_day']=='Friday') & (time['start_hour']=='09')).sum(),\n",
    "                  ((time['start_day']=='Saturday') & (time['start_hour']=='09')).sum(),\n",
    "                  ((time['start_day']=='Sunday') & (time['start_hour']=='09')).sum()],\n",
    "            '10 AM':[((time['start_day']=='Monday') & (time['start_hour']=='10')).sum(),\n",
    "                  ((time['start_day']=='Tuesday') & (time['start_hour']=='10')).sum(),\n",
    "                  ((time['start_day']=='Wednesday') & (time['start_hour']=='10')).sum(),\n",
    "                  ((time['start_day']=='Thursday') & (time['start_hour']=='10')).sum(),\n",
    "                  ((time['start_day']=='Friday') & (time['start_hour']=='10')).sum(),\n",
    "                  ((time['start_day']=='Saturday') & (time['start_hour']=='10')).sum(),\n",
    "                  ((time['start_day']=='Sunday') & (time['start_hour']=='10')).sum()],\n",
    "            '11 AM':[((time['start_day']=='Monday') & (time['start_hour']=='11')).sum(),\n",
    "                  ((time['start_day']=='Tuesday') & (time['start_hour']=='11')).sum(),\n",
    "                  ((time['start_day']=='Wednesday') & (time['start_hour']=='11')).sum(),\n",
    "                  ((time['start_day']=='Thursday') & (time['start_hour']=='11')).sum(),\n",
    "                  ((time['start_day']=='Friday') & (time['start_hour']=='11')).sum(),\n",
    "                  ((time['start_day']=='Saturday') & (time['start_hour']=='11')).sum(),\n",
    "                  ((time['start_day']=='Sunday') & (time['start_hour']=='11')).sum()],\n",
    "            '12 PM':[((time['start_day']=='Monday') & (time['start_hour']=='12')).sum(),\n",
    "                  ((time['start_day']=='Tuesday') & (time['start_hour']=='12')).sum(),\n",
    "                  ((time['start_day']=='Wednesday') & (time['start_hour']=='12')).sum(),\n",
    "                  ((time['start_day']=='Thursday') & (time['start_hour']=='12')).sum(),\n",
    "                  ((time['start_day']=='Friday') & (time['start_hour']=='12')).sum(),\n",
    "                  ((time['start_day']=='Saturday') & (time['start_hour']=='12')).sum(),\n",
    "                  ((time['start_day']=='Sunday') & (time['start_hour']=='12')).sum()],\n",
    "            '1 PM':[((time['start_day']=='Monday') & (time['start_hour']=='13')).sum(),\n",
    "                  ((time['start_day']=='Tuesday') & (time['start_hour']=='13')).sum(),\n",
    "                  ((time['start_day']=='Wednesday') & (time['start_hour']=='13')).sum(),\n",
    "                  ((time['start_day']=='Thursday') & (time['start_hour']=='13')).sum(),\n",
    "                  ((time['start_day']=='Friday') & (time['start_hour']=='13')).sum(),\n",
    "                  ((time['start_day']=='Saturday') & (time['start_hour']=='13')).sum(),\n",
    "                  ((time['start_day']=='Sunday') & (time['start_hour']=='00')).sum()],\n",
    "            '2 PM':[((time['start_day']=='Monday') & (time['start_hour']=='14')).sum(),\n",
    "                  ((time['start_day']=='Tuesday') & (time['start_hour']=='14')).sum(),\n",
    "                  ((time['start_day']=='Wednesday') & (time['start_hour']=='14')).sum(),\n",
    "                  ((time['start_day']=='Thursday') & (time['start_hour']=='14')).sum(),\n",
    "                  ((time['start_day']=='Friday') & (time['start_hour']=='14')).sum(),\n",
    "                  ((time['start_day']=='Saturday') & (time['start_hour']=='14')).sum(),\n",
    "                  ((time['start_day']=='Sunday') & (time['start_hour']=='14')).sum()],\n",
    "            '3 PM':[((time['start_day']=='Monday') & (time['start_hour']=='15')).sum(),\n",
    "                  ((time['start_day']=='Tuesday') & (time['start_hour']=='15')).sum(),\n",
    "                  ((time['start_day']=='Wednesday') & (time['start_hour']=='15')).sum(),\n",
    "                  ((time['start_day']=='Thursday') & (time['start_hour']=='15')).sum(),\n",
    "                  ((time['start_day']=='Friday') & (time['start_hour']=='15')).sum(),\n",
    "                  ((time['start_day']=='Saturday') & (time['start_hour']=='15')).sum(),\n",
    "                  ((time['start_day']=='Sunday') & (time['start_hour']=='15')).sum()],\n",
    "            '4 PM':[((time['start_day']=='Monday') & (time['start_hour']=='16')).sum(),\n",
    "                  ((time['start_day']=='Tuesday') & (time['start_hour']=='16')).sum(),\n",
    "                  ((time['start_day']=='Wednesday') & (time['start_hour']=='16')).sum(),\n",
    "                  ((time['start_day']=='Thursday') & (time['start_hour']=='16')).sum(),\n",
    "                  ((time['start_day']=='Friday') & (time['start_hour']=='16')).sum(),\n",
    "                  ((time['start_day']=='Saturday') & (time['start_hour']=='16')).sum(),\n",
    "                  ((time['start_day']=='Sunday') & (time['start_hour']=='16')).sum()],\n",
    "            '5 PM':[((time['start_day']=='Monday') & (time['start_hour']=='17')).sum(),\n",
    "                  ((time['start_day']=='Tuesday') & (time['start_hour']=='17')).sum(),\n",
    "                  ((time['start_day']=='Wednesday') & (time['start_hour']=='17')).sum(),\n",
    "                  ((time['start_day']=='Thursday') & (time['start_hour']=='17')).sum(),\n",
    "                  ((time['start_day']=='Friday') & (time['start_hour']=='17')).sum(),\n",
    "                  ((time['start_day']=='Saturday') & (time['start_hour']=='17')).sum(),\n",
    "                  ((time['start_day']=='Sunday') & (time['start_hour']=='17')).sum()],\n",
    "            '6 PM':[((time['start_day']=='Monday') & (time['start_hour']=='18')).sum(),\n",
    "                  ((time['start_day']=='Tuesday') & (time['start_hour']=='18')).sum(),\n",
    "                  ((time['start_day']=='Wednesday') & (time['start_hour']=='18')).sum(),\n",
    "                  ((time['start_day']=='Thursday') & (time['start_hour']=='18')).sum(),\n",
    "                  ((time['start_day']=='Friday') & (time['start_hour']=='18')).sum(),\n",
    "                  ((time['start_day']=='Saturday') & (time['start_hour']=='18')).sum(),\n",
    "                  ((time['start_day']=='Sunday') & (time['start_hour']=='18')).sum()],\n",
    "            '7 PM':[((time['start_day']=='Monday') & (time['start_hour']=='19')).sum(),\n",
    "                  ((time['start_day']=='Tuesday') & (time['start_hour']=='19')).sum(),\n",
    "                  ((time['start_day']=='Wednesday') & (time['start_hour']=='19')).sum(),\n",
    "                  ((time['start_day']=='Thursday') & (time['start_hour']=='19')).sum(),\n",
    "                  ((time['start_day']=='Friday') & (time['start_hour']=='19')).sum(),\n",
    "                  ((time['start_day']=='Saturday') & (time['start_hour']=='19')).sum(),\n",
    "                  ((time['start_day']=='Sunday') & (time['start_hour']=='19')).sum()]}\n",
    " \n",
    "start_hour_day = pd.DataFrame(data=start_hour_day, index=day)           "
   ]
  },
  {
   "cell_type": "code",
   "execution_count": 121,
   "metadata": {
    "slideshow": {
     "slide_type": "slide"
    }
   },
   "outputs": [
    {
     "data": {
      "text/plain": [
       "<matplotlib.axes._subplots.AxesSubplot at 0x1062f430>"
      ]
     },
     "execution_count": 121,
     "metadata": {},
     "output_type": "execute_result"
    },
    {
     "data": {
      "image/png": "[encoded data removed]",
      "text/plain": [
       "<Figure size 1152x504 with 2 Axes>"
      ]
     },
     "metadata": {
      "needs_background": "light"
     },
     "output_type": "display_data"
    }
   ],
   "source": [
    "plt.figure(figsize=(16,7))\n",
    "plt.title(\"Start trip time by weekday\", fontsize=20)\n",
    "sb.heatmap(start_hour_day, vmin=0, vmax=4500, cmap='flare', annot=True, annot_kws={'size':10}, cbar_kws={'label': 'trip'})"
   ]
  },
  {
   "cell_type": "markdown",
   "metadata": {
    "slideshow": {
     "slide_type": "subslide"
    }
   },
   "source": [
    "Most trip starts at 08 in the morning and again at 17 in the afternoon, following by trips start at 09 and 18. Tuesday and Thursday have the highest number of trips. Saturday and Sunday have the lowest number of trips."
   ]
  },
  {
   "cell_type": "code",
   "execution_count": 64,
   "metadata": {
    "slideshow": {
     "slide_type": "subslide"
    }
   },
   "outputs": [
    {
     "data": {
      "text/html": [
       "<div>\n",
       "<style scoped>\n",
       "    .dataframe tbody tr th:only-of-type {\n",
       "        vertical-align: middle;\n",
       "    }\n",
       "\n",
       "    .dataframe tbody tr th {\n",
       "        vertical-align: top;\n",
       "    }\n",
       "\n",
       "    .dataframe thead th {\n",
       "        text-align: right;\n",
       "    }\n",
       "</style>\n",
       "<table border=\"1\" class=\"dataframe\">\n",
       "  <thead>\n",
       "    <tr style=\"text-align: right;\">\n",
       "      <th></th>\n",
       "      <th>7 AM</th>\n",
       "      <th>8 AM</th>\n",
       "      <th>9 AM</th>\n",
       "      <th>10 AM</th>\n",
       "      <th>11 AM</th>\n",
       "      <th>12 PM</th>\n",
       "      <th>1 PM</th>\n",
       "      <th>2 PM</th>\n",
       "      <th>3 PM</th>\n",
       "      <th>4 PM</th>\n",
       "      <th>5 PM</th>\n",
       "      <th>6 PM</th>\n",
       "      <th>7 PM</th>\n",
       "    </tr>\n",
       "  </thead>\n",
       "  <tbody>\n",
       "    <tr>\n",
       "      <th>Monday</th>\n",
       "      <td>1653</td>\n",
       "      <td>3195</td>\n",
       "      <td>2231</td>\n",
       "      <td>1055</td>\n",
       "      <td>1044</td>\n",
       "      <td>1200</td>\n",
       "      <td>1044</td>\n",
       "      <td>915</td>\n",
       "      <td>1190</td>\n",
       "      <td>2006</td>\n",
       "      <td>3309</td>\n",
       "      <td>2366</td>\n",
       "      <td>1425</td>\n",
       "    </tr>\n",
       "    <tr>\n",
       "      <th>Tuesday</th>\n",
       "      <td>2185</td>\n",
       "      <td>4239</td>\n",
       "      <td>3239</td>\n",
       "      <td>1154</td>\n",
       "      <td>988</td>\n",
       "      <td>1094</td>\n",
       "      <td>1088</td>\n",
       "      <td>1081</td>\n",
       "      <td>1196</td>\n",
       "      <td>2190</td>\n",
       "      <td>3973</td>\n",
       "      <td>3150</td>\n",
       "      <td>1659</td>\n",
       "    </tr>\n",
       "    <tr>\n",
       "      <th>Wednesday</th>\n",
       "      <td>1803</td>\n",
       "      <td>3584</td>\n",
       "      <td>2576</td>\n",
       "      <td>1049</td>\n",
       "      <td>902</td>\n",
       "      <td>1066</td>\n",
       "      <td>958</td>\n",
       "      <td>952</td>\n",
       "      <td>1099</td>\n",
       "      <td>2128</td>\n",
       "      <td>3818</td>\n",
       "      <td>3054</td>\n",
       "      <td>1785</td>\n",
       "    </tr>\n",
       "    <tr>\n",
       "      <th>Thursday</th>\n",
       "      <td>2269</td>\n",
       "      <td>4475</td>\n",
       "      <td>2809</td>\n",
       "      <td>1283</td>\n",
       "      <td>1010</td>\n",
       "      <td>1247</td>\n",
       "      <td>1180</td>\n",
       "      <td>1133</td>\n",
       "      <td>1386</td>\n",
       "      <td>2595</td>\n",
       "      <td>4519</td>\n",
       "      <td>3624</td>\n",
       "      <td>1967</td>\n",
       "    </tr>\n",
       "    <tr>\n",
       "      <th>Friday</th>\n",
       "      <td>1958</td>\n",
       "      <td>3926</td>\n",
       "      <td>2991</td>\n",
       "      <td>1406</td>\n",
       "      <td>1284</td>\n",
       "      <td>1262</td>\n",
       "      <td>1083</td>\n",
       "      <td>909</td>\n",
       "      <td>1256</td>\n",
       "      <td>2090</td>\n",
       "      <td>3053</td>\n",
       "      <td>2217</td>\n",
       "      <td>1178</td>\n",
       "    </tr>\n",
       "    <tr>\n",
       "      <th>Saturday</th>\n",
       "      <td>205</td>\n",
       "      <td>497</td>\n",
       "      <td>781</td>\n",
       "      <td>1105</td>\n",
       "      <td>1167</td>\n",
       "      <td>1182</td>\n",
       "      <td>1361</td>\n",
       "      <td>1335</td>\n",
       "      <td>1204</td>\n",
       "      <td>1105</td>\n",
       "      <td>1079</td>\n",
       "      <td>792</td>\n",
       "      <td>662</td>\n",
       "    </tr>\n",
       "    <tr>\n",
       "      <th>Sunday</th>\n",
       "      <td>162</td>\n",
       "      <td>326</td>\n",
       "      <td>594</td>\n",
       "      <td>928</td>\n",
       "      <td>1078</td>\n",
       "      <td>1186</td>\n",
       "      <td>154</td>\n",
       "      <td>1369</td>\n",
       "      <td>1326</td>\n",
       "      <td>1378</td>\n",
       "      <td>1170</td>\n",
       "      <td>930</td>\n",
       "      <td>756</td>\n",
       "    </tr>\n",
       "  </tbody>\n",
       "</table>\n",
       "</div>"
      ],
      "text/plain": [
       "           7 AM  8 AM  9 AM  10 AM  11 AM  12 PM  1 PM  2 PM  3 PM  4 PM  \\\n",
       "Monday     1653  3195  2231   1055   1044   1200  1044   915  1190  2006   \n",
       "Tuesday    2185  4239  3239   1154    988   1094  1088  1081  1196  2190   \n",
       "Wednesday  1803  3584  2576   1049    902   1066   958   952  1099  2128   \n",
       "Thursday   2269  4475  2809   1283   1010   1247  1180  1133  1386  2595   \n",
       "Friday     1958  3926  2991   1406   1284   1262  1083   909  1256  2090   \n",
       "Saturday    205   497   781   1105   1167   1182  1361  1335  1204  1105   \n",
       "Sunday      162   326   594    928   1078   1186   154  1369  1326  1378   \n",
       "\n",
       "           5 PM  6 PM  7 PM  \n",
       "Monday     3309  2366  1425  \n",
       "Tuesday    3973  3150  1659  \n",
       "Wednesday  3818  3054  1785  \n",
       "Thursday   4519  3624  1967  \n",
       "Friday     3053  2217  1178  \n",
       "Saturday   1079   792   662  \n",
       "Sunday     1170   930   756  "
      ]
     },
     "execution_count": 64,
     "metadata": {},
     "output_type": "execute_result"
    }
   ],
   "source": [
    "start_hour_day"
   ]
  },
  {
   "cell_type": "code",
   "execution_count": 65,
   "metadata": {
    "slideshow": {
     "slide_type": "skip"
    }
   },
   "outputs": [],
   "source": [
    "end_hour_day = {'7 AM':[((time['end_day']=='Monday') & (time['end_hour']=='07')).sum(),\n",
    "                  ((time['end_day']=='Tuesday') & (time['end_hour']=='07')).sum(),\n",
    "                  ((time['end_day']=='Wednesday') & (time['end_hour']=='07')).sum(),\n",
    "                  ((time['end_day']=='Thursday') & (time['end_hour']=='07')).sum(),\n",
    "                  ((time['end_day']=='Friday') & (time['end_hour']=='07')).sum(),\n",
    "                  ((time['end_day']=='Saturday') & (time['end_hour']=='07')).sum(),\n",
    "                  ((time['end_day']=='Sunday') & (time['end_hour']=='07')).sum()],\n",
    "            '8 AM':[((time['end_day']=='Monday') & (time['end_hour']=='08')).sum(),\n",
    "                  ((time['end_day']=='Tuesday') & (time['end_hour']=='08')).sum(),\n",
    "                  ((time['end_day']=='Wednesday') & (time['end_hour']=='08')).sum(),\n",
    "                  ((time['end_day']=='Thursday') & (time['end_hour']=='08')).sum(),\n",
    "                  ((time['end_day']=='Friday') & (time['end_hour']=='08')).sum(),\n",
    "                  ((time['end_day']=='Saturday') & (time['end_hour']=='08')).sum(),\n",
    "                  ((time['end_day']=='Sunday') & (time['end_hour']=='08')).sum()],\n",
    "            '9 AM':[((time['end_day']=='Monday') & (time['end_hour']=='09')).sum(),\n",
    "                  ((time['end_day']=='Tuesday') & (time['end_hour']=='09')).sum(),\n",
    "                  ((time['end_day']=='Wednesday') & (time['end_hour']=='09')).sum(),\n",
    "                  ((time['end_day']=='Thursday') & (time['end_hour']=='09')).sum(),\n",
    "                  ((time['end_day']=='Friday') & (time['end_hour']=='09')).sum(),\n",
    "                  ((time['end_day']=='Saturday') & (time['end_hour']=='09')).sum(),\n",
    "                  ((time['end_day']=='Sunday') & (time['end_hour']=='09')).sum()],\n",
    "            '10 AM':[((time['end_day']=='Monday') & (time['end_hour']=='10')).sum(),\n",
    "                  ((time['end_day']=='Tuesday') & (time['end_hour']=='10')).sum(),\n",
    "                  ((time['end_day']=='Wednesday') & (time['end_hour']=='10')).sum(),\n",
    "                  ((time['end_day']=='Thursday') & (time['end_hour']=='10')).sum(),\n",
    "                  ((time['end_day']=='Friday') & (time['end_hour']=='10')).sum(),\n",
    "                  ((time['end_day']=='Saturday') & (time['end_hour']=='10')).sum(),\n",
    "                  ((time['end_day']=='Sunday') & (time['end_hour']=='10')).sum()],\n",
    "            '11 AM':[((time['end_day']=='Monday') & (time['end_hour']=='11')).sum(),\n",
    "                  ((time['end_day']=='Tuesday') & (time['end_hour']=='11')).sum(),\n",
    "                  ((time['end_day']=='Wednesday') & (time['end_hour']=='11')).sum(),\n",
    "                  ((time['end_day']=='Thursday') & (time['end_hour']=='11')).sum(),\n",
    "                  ((time['end_day']=='Friday') & (time['end_hour']=='11')).sum(),\n",
    "                  ((time['end_day']=='Saturday') & (time['end_hour']=='11')).sum(),\n",
    "                  ((time['end_day']=='Sunday') & (time['end_hour']=='11')).sum()],\n",
    "            '12 PM':[((time['end_day']=='Monday') & (time['end_hour']=='12')).sum(),\n",
    "                  ((time['end_day']=='Tuesday') & (time['end_hour']=='12')).sum(),\n",
    "                  ((time['end_day']=='Wednesday') & (time['end_hour']=='12')).sum(),\n",
    "                  ((time['end_day']=='Thursday') & (time['end_hour']=='12')).sum(),\n",
    "                  ((time['end_day']=='Friday') & (time['end_hour']=='12')).sum(),\n",
    "                  ((time['end_day']=='Saturday') & (time['end_hour']=='12')).sum(),\n",
    "                  ((time['end_day']=='Sunday') & (time['end_hour']=='12')).sum()],\n",
    "            '1 PM':[((time['end_day']=='Monday') & (time['end_hour']=='13')).sum(),\n",
    "                  ((time['end_day']=='Tuesday') & (time['end_hour']=='13')).sum(),\n",
    "                  ((time['end_day']=='Wednesday') & (time['end_hour']=='13')).sum(),\n",
    "                  ((time['end_day']=='Thursday') & (time['end_hour']=='13')).sum(),\n",
    "                  ((time['end_day']=='Friday') & (time['end_hour']=='13')).sum(),\n",
    "                  ((time['end_day']=='Saturday') & (time['end_hour']=='13')).sum(),\n",
    "                  ((time['end_day']=='Sunday') & (time['end_hour']=='00')).sum()],\n",
    "            '2 PM':[((time['end_day']=='Monday') & (time['end_hour']=='14')).sum(),\n",
    "                  ((time['end_day']=='Tuesday') & (time['end_hour']=='14')).sum(),\n",
    "                  ((time['end_day']=='Wednesday') & (time['end_hour']=='14')).sum(),\n",
    "                  ((time['end_day']=='Thursday') & (time['end_hour']=='14')).sum(),\n",
    "                  ((time['end_day']=='Friday') & (time['end_hour']=='14')).sum(),\n",
    "                  ((time['end_day']=='Saturday') & (time['end_hour']=='14')).sum(),\n",
    "                  ((time['end_day']=='Sunday') & (time['end_hour']=='14')).sum()],\n",
    "            '3 PM':[((time['end_day']=='Monday') & (time['end_hour']=='15')).sum(),\n",
    "                  ((time['end_day']=='Tuesday') & (time['end_hour']=='15')).sum(),\n",
    "                  ((time['end_day']=='Wednesday') & (time['end_hour']=='15')).sum(),\n",
    "                  ((time['end_day']=='Thursday') & (time['end_hour']=='15')).sum(),\n",
    "                  ((time['end_day']=='Friday') & (time['end_hour']=='15')).sum(),\n",
    "                  ((time['end_day']=='Saturday') & (time['end_hour']=='15')).sum(),\n",
    "                  ((time['end_day']=='Sunday') & (time['end_hour']=='15')).sum()],\n",
    "            '4 PM':[((time['end_day']=='Monday') & (time['end_hour']=='16')).sum(),\n",
    "                  ((time['end_day']=='Tuesday') & (time['end_hour']=='16')).sum(),\n",
    "                  ((time['end_day']=='Wednesday') & (time['end_hour']=='16')).sum(),\n",
    "                  ((time['end_day']=='Thursday') & (time['end_hour']=='16')).sum(),\n",
    "                  ((time['end_day']=='Friday') & (time['end_hour']=='16')).sum(),\n",
    "                  ((time['end_day']=='Saturday') & (time['end_hour']=='16')).sum(),\n",
    "                  ((time['end_day']=='Sunday') & (time['end_hour']=='16')).sum()],\n",
    "            '5 PM':[((time['end_day']=='Monday') & (time['end_hour']=='17')).sum(),\n",
    "                  ((time['end_day']=='Tuesday') & (time['end_hour']=='17')).sum(),\n",
    "                  ((time['end_day']=='Wednesday') & (time['end_hour']=='17')).sum(),\n",
    "                  ((time['end_day']=='Thursday') & (time['end_hour']=='17')).sum(),\n",
    "                  ((time['end_day']=='Friday') & (time['end_hour']=='17')).sum(),\n",
    "                  ((time['end_day']=='Saturday') & (time['end_hour']=='17')).sum(),\n",
    "                  ((time['end_day']=='Sunday') & (time['end_hour']=='17')).sum()],\n",
    "            '6 PM':[((time['end_day']=='Monday') & (time['end_hour']=='18')).sum(),\n",
    "                  ((time['end_day']=='Tuesday') & (time['end_hour']=='18')).sum(),\n",
    "                  ((time['end_day']=='Wednesday') & (time['end_hour']=='18')).sum(),\n",
    "                  ((time['end_day']=='Thursday') & (time['end_hour']=='18')).sum(),\n",
    "                  ((time['end_day']=='Friday') & (time['end_hour']=='18')).sum(),\n",
    "                  ((time['end_day']=='Saturday') & (time['end_hour']=='18')).sum(),\n",
    "                  ((time['end_day']=='Sunday') & (time['end_hour']=='18')).sum()],\n",
    "            '7 PM':[((time['end_day']=='Monday') & (time['end_hour']=='19')).sum(),\n",
    "                  ((time['end_day']=='Tuesday') & (time['end_hour']=='19')).sum(),\n",
    "                  ((time['end_day']=='Wednesday') & (time['end_hour']=='19')).sum(),\n",
    "                  ((time['end_day']=='Thursday') & (time['end_hour']=='19')).sum(),\n",
    "                  ((time['end_day']=='Friday') & (time['end_hour']=='19')).sum(),\n",
    "                  ((time['end_day']=='Saturday') & (time['end_hour']=='19')).sum(),\n",
    "                  ((time['end_day']=='Sunday') & (time['end_hour']=='19')).sum()]}\n",
    " \n",
    "end_hour_day = pd.DataFrame(data=end_hour_day, index=day)           "
   ]
  },
  {
   "cell_type": "code",
   "execution_count": 122,
   "metadata": {
    "slideshow": {
     "slide_type": "slide"
    }
   },
   "outputs": [
    {
     "data": {
      "text/plain": [
       "<matplotlib.axes._subplots.AxesSubplot at 0x1032b808>"
      ]
     },
     "execution_count": 122,
     "metadata": {},
     "output_type": "execute_result"
    },
    {
     "data": {
      "image/png": "[encoded data removed]",
      "text/plain": [
       "<Figure size 1152x504 with 2 Axes>"
      ]
     },
     "metadata": {
      "needs_background": "light"
     },
     "output_type": "display_data"
    }
   ],
   "source": [
    "plt.figure(figsize=(16,7))\n",
    "plt.title(\"End trip time by weekday\", fontsize=20)\n",
    "sb.heatmap(end_hour_day, vmin=0, vmax=4500, cmap='flare', annot=True, annot_kws={'size':10}, cbar_kws={'label': 'trip'})"
   ]
  },
  {
   "cell_type": "markdown",
   "metadata": {
    "slideshow": {
     "slide_type": "subslide"
    }
   },
   "source": [
    "Most trip starts at 08 in the morning and again at 17 in the afternoon, following by trips start at 09 and 18. Tuesday and Thursday have the highest number of trips. Saturday and Sunday have the lowest number of trips."
   ]
  },
  {
   "cell_type": "code",
   "execution_count": 67,
   "metadata": {
    "slideshow": {
     "slide_type": "subslide"
    }
   },
   "outputs": [
    {
     "data": {
      "text/html": [
       "<div>\n",
       "<style scoped>\n",
       "    .dataframe tbody tr th:only-of-type {\n",
       "        vertical-align: middle;\n",
       "    }\n",
       "\n",
       "    .dataframe tbody tr th {\n",
       "        vertical-align: top;\n",
       "    }\n",
       "\n",
       "    .dataframe thead th {\n",
       "        text-align: right;\n",
       "    }\n",
       "</style>\n",
       "<table border=\"1\" class=\"dataframe\">\n",
       "  <thead>\n",
       "    <tr style=\"text-align: right;\">\n",
       "      <th></th>\n",
       "      <th>7 AM</th>\n",
       "      <th>8 AM</th>\n",
       "      <th>9 AM</th>\n",
       "      <th>10 AM</th>\n",
       "      <th>11 AM</th>\n",
       "      <th>12 PM</th>\n",
       "      <th>1 PM</th>\n",
       "      <th>2 PM</th>\n",
       "      <th>3 PM</th>\n",
       "      <th>4 PM</th>\n",
       "      <th>5 PM</th>\n",
       "      <th>6 PM</th>\n",
       "      <th>7 PM</th>\n",
       "    </tr>\n",
       "  </thead>\n",
       "  <tbody>\n",
       "    <tr>\n",
       "      <th>Monday</th>\n",
       "      <td>1401</td>\n",
       "      <td>2994</td>\n",
       "      <td>2513</td>\n",
       "      <td>1190</td>\n",
       "      <td>975</td>\n",
       "      <td>1187</td>\n",
       "      <td>1067</td>\n",
       "      <td>906</td>\n",
       "      <td>1121</td>\n",
       "      <td>1883</td>\n",
       "      <td>3168</td>\n",
       "      <td>2597</td>\n",
       "      <td>1572</td>\n",
       "    </tr>\n",
       "    <tr>\n",
       "      <th>Tuesday</th>\n",
       "      <td>1794</td>\n",
       "      <td>4011</td>\n",
       "      <td>3659</td>\n",
       "      <td>1313</td>\n",
       "      <td>971</td>\n",
       "      <td>1084</td>\n",
       "      <td>1094</td>\n",
       "      <td>1099</td>\n",
       "      <td>1118</td>\n",
       "      <td>1989</td>\n",
       "      <td>3776</td>\n",
       "      <td>3441</td>\n",
       "      <td>1823</td>\n",
       "    </tr>\n",
       "    <tr>\n",
       "      <th>Wednesday</th>\n",
       "      <td>1484</td>\n",
       "      <td>3382</td>\n",
       "      <td>2906</td>\n",
       "      <td>1200</td>\n",
       "      <td>866</td>\n",
       "      <td>1065</td>\n",
       "      <td>974</td>\n",
       "      <td>933</td>\n",
       "      <td>1025</td>\n",
       "      <td>1913</td>\n",
       "      <td>3680</td>\n",
       "      <td>3247</td>\n",
       "      <td>1928</td>\n",
       "    </tr>\n",
       "    <tr>\n",
       "      <th>Thursday</th>\n",
       "      <td>1846</td>\n",
       "      <td>4261</td>\n",
       "      <td>3254</td>\n",
       "      <td>1419</td>\n",
       "      <td>989</td>\n",
       "      <td>1234</td>\n",
       "      <td>1186</td>\n",
       "      <td>1144</td>\n",
       "      <td>1262</td>\n",
       "      <td>2316</td>\n",
       "      <td>4321</td>\n",
       "      <td>3912</td>\n",
       "      <td>2193</td>\n",
       "    </tr>\n",
       "    <tr>\n",
       "      <th>Friday</th>\n",
       "      <td>1619</td>\n",
       "      <td>3661</td>\n",
       "      <td>3364</td>\n",
       "      <td>1565</td>\n",
       "      <td>1215</td>\n",
       "      <td>1314</td>\n",
       "      <td>1130</td>\n",
       "      <td>905</td>\n",
       "      <td>1133</td>\n",
       "      <td>1953</td>\n",
       "      <td>2993</td>\n",
       "      <td>2413</td>\n",
       "      <td>1310</td>\n",
       "    </tr>\n",
       "    <tr>\n",
       "      <th>Saturday</th>\n",
       "      <td>175</td>\n",
       "      <td>438</td>\n",
       "      <td>751</td>\n",
       "      <td>996</td>\n",
       "      <td>1172</td>\n",
       "      <td>1161</td>\n",
       "      <td>1285</td>\n",
       "      <td>1358</td>\n",
       "      <td>1253</td>\n",
       "      <td>1126</td>\n",
       "      <td>1139</td>\n",
       "      <td>866</td>\n",
       "      <td>668</td>\n",
       "    </tr>\n",
       "    <tr>\n",
       "      <th>Sunday</th>\n",
       "      <td>131</td>\n",
       "      <td>280</td>\n",
       "      <td>541</td>\n",
       "      <td>868</td>\n",
       "      <td>1033</td>\n",
       "      <td>1113</td>\n",
       "      <td>162</td>\n",
       "      <td>1371</td>\n",
       "      <td>1390</td>\n",
       "      <td>1366</td>\n",
       "      <td>1262</td>\n",
       "      <td>1011</td>\n",
       "      <td>740</td>\n",
       "    </tr>\n",
       "  </tbody>\n",
       "</table>\n",
       "</div>"
      ],
      "text/plain": [
       "           7 AM  8 AM  9 AM  10 AM  11 AM  12 PM  1 PM  2 PM  3 PM  4 PM  \\\n",
       "Monday     1401  2994  2513   1190    975   1187  1067   906  1121  1883   \n",
       "Tuesday    1794  4011  3659   1313    971   1084  1094  1099  1118  1989   \n",
       "Wednesday  1484  3382  2906   1200    866   1065   974   933  1025  1913   \n",
       "Thursday   1846  4261  3254   1419    989   1234  1186  1144  1262  2316   \n",
       "Friday     1619  3661  3364   1565   1215   1314  1130   905  1133  1953   \n",
       "Saturday    175   438   751    996   1172   1161  1285  1358  1253  1126   \n",
       "Sunday      131   280   541    868   1033   1113   162  1371  1390  1366   \n",
       "\n",
       "           5 PM  6 PM  7 PM  \n",
       "Monday     3168  2597  1572  \n",
       "Tuesday    3776  3441  1823  \n",
       "Wednesday  3680  3247  1928  \n",
       "Thursday   4321  3912  2193  \n",
       "Friday     2993  2413  1310  \n",
       "Saturday   1139   866   668  \n",
       "Sunday     1262  1011   740  "
      ]
     },
     "execution_count": 67,
     "metadata": {},
     "output_type": "execute_result"
    }
   ],
   "source": [
    "end_hour_day"
   ]
  },
  {
   "cell_type": "markdown",
   "metadata": {
    "slideshow": {
     "slide_type": "slide"
    }
   },
   "source": [
    "### Demography"
   ]
  },
  {
   "cell_type": "code",
   "execution_count": 68,
   "metadata": {
    "slideshow": {
     "slide_type": "skip"
    }
   },
   "outputs": [
    {
     "data": {
      "text/html": [
       "<div>\n",
       "<style scoped>\n",
       "    .dataframe tbody tr th:only-of-type {\n",
       "        vertical-align: middle;\n",
       "    }\n",
       "\n",
       "    .dataframe tbody tr th {\n",
       "        vertical-align: top;\n",
       "    }\n",
       "\n",
       "    .dataframe thead th {\n",
       "        text-align: right;\n",
       "    }\n",
       "</style>\n",
       "<table border=\"1\" class=\"dataframe\">\n",
       "  <thead>\n",
       "    <tr style=\"text-align: right;\">\n",
       "      <th></th>\n",
       "      <th>duration_sec</th>\n",
       "      <th>user_type</th>\n",
       "      <th>birth_year</th>\n",
       "      <th>gender</th>\n",
       "      <th>bike_share</th>\n",
       "    </tr>\n",
       "  </thead>\n",
       "  <tbody>\n",
       "    <tr>\n",
       "      <th>0</th>\n",
       "      <td>52185</td>\n",
       "      <td>Customer</td>\n",
       "      <td>1984</td>\n",
       "      <td>Male</td>\n",
       "      <td>No</td>\n",
       "    </tr>\n",
       "    <tr>\n",
       "      <th>2</th>\n",
       "      <td>61854</td>\n",
       "      <td>Customer</td>\n",
       "      <td>1972</td>\n",
       "      <td>Male</td>\n",
       "      <td>No</td>\n",
       "    </tr>\n",
       "    <tr>\n",
       "      <th>3</th>\n",
       "      <td>36490</td>\n",
       "      <td>Subscriber</td>\n",
       "      <td>1989</td>\n",
       "      <td>Other</td>\n",
       "      <td>No</td>\n",
       "    </tr>\n",
       "    <tr>\n",
       "      <th>4</th>\n",
       "      <td>1585</td>\n",
       "      <td>Subscriber</td>\n",
       "      <td>1974</td>\n",
       "      <td>Male</td>\n",
       "      <td>Yes</td>\n",
       "    </tr>\n",
       "    <tr>\n",
       "      <th>5</th>\n",
       "      <td>1793</td>\n",
       "      <td>Subscriber</td>\n",
       "      <td>1959</td>\n",
       "      <td>Male</td>\n",
       "      <td>No</td>\n",
       "    </tr>\n",
       "    <tr>\n",
       "      <th>...</th>\n",
       "      <td>...</td>\n",
       "      <td>...</td>\n",
       "      <td>...</td>\n",
       "      <td>...</td>\n",
       "      <td>...</td>\n",
       "    </tr>\n",
       "    <tr>\n",
       "      <th>183407</th>\n",
       "      <td>480</td>\n",
       "      <td>Subscriber</td>\n",
       "      <td>1996</td>\n",
       "      <td>Male</td>\n",
       "      <td>No</td>\n",
       "    </tr>\n",
       "    <tr>\n",
       "      <th>183408</th>\n",
       "      <td>313</td>\n",
       "      <td>Subscriber</td>\n",
       "      <td>1984</td>\n",
       "      <td>Male</td>\n",
       "      <td>No</td>\n",
       "    </tr>\n",
       "    <tr>\n",
       "      <th>183409</th>\n",
       "      <td>141</td>\n",
       "      <td>Subscriber</td>\n",
       "      <td>1990</td>\n",
       "      <td>Male</td>\n",
       "      <td>Yes</td>\n",
       "    </tr>\n",
       "    <tr>\n",
       "      <th>183410</th>\n",
       "      <td>139</td>\n",
       "      <td>Subscriber</td>\n",
       "      <td>1988</td>\n",
       "      <td>Male</td>\n",
       "      <td>No</td>\n",
       "    </tr>\n",
       "    <tr>\n",
       "      <th>183411</th>\n",
       "      <td>271</td>\n",
       "      <td>Subscriber</td>\n",
       "      <td>1989</td>\n",
       "      <td>Male</td>\n",
       "      <td>No</td>\n",
       "    </tr>\n",
       "  </tbody>\n",
       "</table>\n",
       "<p>175147 rows × 5 columns</p>\n",
       "</div>"
      ],
      "text/plain": [
       "        duration_sec   user_type  birth_year gender bike_share\n",
       "0              52185    Customer        1984   Male         No\n",
       "2              61854    Customer        1972   Male         No\n",
       "3              36490  Subscriber        1989  Other         No\n",
       "4               1585  Subscriber        1974   Male        Yes\n",
       "5               1793  Subscriber        1959   Male         No\n",
       "...              ...         ...         ...    ...        ...\n",
       "183407           480  Subscriber        1996   Male         No\n",
       "183408           313  Subscriber        1984   Male         No\n",
       "183409           141  Subscriber        1990   Male        Yes\n",
       "183410           139  Subscriber        1988   Male         No\n",
       "183411           271  Subscriber        1989   Male         No\n",
       "\n",
       "[175147 rows x 5 columns]"
      ]
     },
     "execution_count": 68,
     "metadata": {},
     "output_type": "execute_result"
    }
   ],
   "source": [
    "demo = df1[['duration_sec','user_type','member_birth_year','member_gender','bike_share_for_all_trip']]\n",
    "demo = demo.rename(columns={'member_birth_year':'birth_year', 'member_gender':'gender', 'bike_share_for_all_trip':'bike_share'})\n",
    "demo"
   ]
  },
  {
   "cell_type": "markdown",
   "metadata": {
    "slideshow": {
     "slide_type": "skip"
    }
   },
   "source": [
    "#### Members' birth years"
   ]
  },
  {
   "cell_type": "code",
   "execution_count": 69,
   "metadata": {
    "slideshow": {
     "slide_type": "skip"
    }
   },
   "outputs": [],
   "source": [
    "demo = demo[demo['birth_year'] >= 1926]"
   ]
  },
  {
   "cell_type": "code",
   "execution_count": 70,
   "metadata": {
    "slideshow": {
     "slide_type": "skip"
    }
   },
   "outputs": [],
   "source": [
    "generation = {'User':[(demo['birth_year'] <= 1945).sum(),\n",
    "              ((demo['birth_year'] >= 1946) & (demo['birth_year'] <= 1965)).sum(),\n",
    "              ((demo['birth_year'] >= 1966) & (demo['birth_year'] <= 1980)).sum(),\n",
    "              ((demo['birth_year'] >= 1981) & (demo['birth_year'] <= 1995)).sum(),\n",
    "              (demo['birth_year'] >= 1996).sum(),\n",
    "             (demo['birth_year']>=1926).sum()]}\n",
    "gen_axis = ['Silent', 'Baby Boomer', 'Gen X', 'Gen Y', 'Gen Z', 'Total']\n",
    "generation = pd.DataFrame(generation, index=gen_axis)"
   ]
  },
  {
   "cell_type": "code",
   "execution_count": 147,
   "metadata": {
    "slideshow": {
     "slide_type": "slide"
    }
   },
   "outputs": [
    {
     "data": {
      "text/plain": [
       "<matplotlib.axes._subplots.AxesSubplot at 0x1d787f40>"
      ]
     },
     "execution_count": 147,
     "metadata": {},
     "output_type": "execute_result"
    },
    {
     "data": {
      "image/png": "[encoded data removed]",
      "text/plain": [
       "<Figure size 360x360 with 1 Axes>"
      ]
     },
     "metadata": {
      "needs_background": "light"
     },
     "output_type": "display_data"
    }
   ],
   "source": [
    "generation.plot(kind='bar', figsize=(5,5), color=['#652a6b'])"
   ]
  },
  {
   "cell_type": "markdown",
   "metadata": {
    "slideshow": {
     "slide_type": "subslide"
    }
   },
   "source": [
    "Although the Silent generation only makes up a very small part of the total users (only 0.001%), it would be cool for Ford Go Bike to use this data to show the diversity in user age span, or even run a marketing campaign based on real customers' testimonials to show how simple and smooth the product is that even your grandma and grandpa would ride them.\n",
    "\n",
    "Baby Boomers makes up of 6% of the total users pool with 10,254 users. Following is Gen Z with 15,569 users which is 9% of the users pool. Gen X makes up 1/5th of users pool with 15,569 users.\n",
    "\n",
    "The majority of users are Gen Y with 112,892 which is 65% of the pool.\n",
    "\n",
    "Ford may want to run more marketing campaigns targeting Bababy Boomers, Gen Z and Gen X to attract more users from this age group."
   ]
  },
  {
   "cell_type": "markdown",
   "metadata": {
    "slideshow": {
     "slide_type": "subslide"
    }
   },
   "source": [
    "Although the Silent generation only makes up a very small part of the total users (only 0.001%), it would be cool for Ford Go Bike to use this data to show the diversity in user age span, or even run a marketing campaign based on real customers' testimonials to show how simple and smooth the product is that even your grandma and grandpa would ride them.\n",
    "\n",
    "Baby Boomers makes up of 6% of the total users pool with 10,254 users. Following is Gen Z with 15,569 users which is 9% of the users pool. Gen X makes up 1/5th of users pool with 15,569 users.\n",
    "\n",
    "The majority of users are Gen Y with 112,892 which is 65% of the pool.\n",
    "\n",
    "Ford may want to run more marketing campaigns targeting Bababy Boomers, Gen Z and Gen X to attract more users from this age group."
   ]
  },
  {
   "cell_type": "code",
   "execution_count": 72,
   "metadata": {
    "slideshow": {
     "slide_type": "subslide"
    }
   },
   "outputs": [
    {
     "data": {
      "text/html": [
       "<div>\n",
       "<style scoped>\n",
       "    .dataframe tbody tr th:only-of-type {\n",
       "        vertical-align: middle;\n",
       "    }\n",
       "\n",
       "    .dataframe tbody tr th {\n",
       "        vertical-align: top;\n",
       "    }\n",
       "\n",
       "    .dataframe thead th {\n",
       "        text-align: right;\n",
       "    }\n",
       "</style>\n",
       "<table border=\"1\" class=\"dataframe\">\n",
       "  <thead>\n",
       "    <tr style=\"text-align: right;\">\n",
       "      <th></th>\n",
       "      <th>User</th>\n",
       "    </tr>\n",
       "  </thead>\n",
       "  <tbody>\n",
       "    <tr>\n",
       "      <th>Silent</th>\n",
       "      <td>295</td>\n",
       "    </tr>\n",
       "    <tr>\n",
       "      <th>Baby Boomer</th>\n",
       "      <td>10254</td>\n",
       "    </tr>\n",
       "    <tr>\n",
       "      <th>Gen X</th>\n",
       "      <td>35062</td>\n",
       "    </tr>\n",
       "    <tr>\n",
       "      <th>Gen Y</th>\n",
       "      <td>113892</td>\n",
       "    </tr>\n",
       "    <tr>\n",
       "      <th>Gen Z</th>\n",
       "      <td>15569</td>\n",
       "    </tr>\n",
       "    <tr>\n",
       "      <th>Total</th>\n",
       "      <td>175072</td>\n",
       "    </tr>\n",
       "  </tbody>\n",
       "</table>\n",
       "</div>"
      ],
      "text/plain": [
       "               User\n",
       "Silent          295\n",
       "Baby Boomer   10254\n",
       "Gen X         35062\n",
       "Gen Y        113892\n",
       "Gen Z         15569\n",
       "Total        175072"
      ]
     },
     "execution_count": 72,
     "metadata": {},
     "output_type": "execute_result"
    }
   ],
   "source": [
    "generation"
   ]
  },
  {
   "cell_type": "markdown",
   "metadata": {
    "slideshow": {
     "slide_type": "skip"
    }
   },
   "source": [
    "#### User demography heatmap"
   ]
  },
  {
   "cell_type": "code",
   "execution_count": 114,
   "metadata": {
    "slideshow": {
     "slide_type": "skip"
    }
   },
   "outputs": [],
   "source": [
    "Female = pd.DataFrame([demo.query('gender == \"Female\" & birth_year >= 1926').birth_year.count(),\n",
    "                       demo.query('gender == \"Female\" & birth_year >= 1946 & birth_year <= 1965').birth_year.count(),\n",
    "                        demo.query('gender == \"Female\" & birth_year >= 1966 & birth_year <= 1980').birth_year.count(),\n",
    "                        demo.query('gender == \"Female\" & birth_year >= 1981 & birth_year <= 1995').birth_year.count(),\n",
    "                        demo.query('gender == \"Female\" & birth_year >= 1996').birth_year.count()])\n",
    "Female = Female.rename(columns={0:\"Female\"})\n",
    "\n",
    "\n",
    "Male = pd.DataFrame([demo.query('gender == \"Male\" & birth_year >= 1926').birth_year.count(),\n",
    "                     demo.query('gender == \"Male\" & birth_year >= 1946 & birth_year <= 1965').birth_year.count(),\n",
    "                        demo.query('gender == \"Male\" & birth_year >= 1966 & birth_year <= 1980').birth_year.count(),\n",
    "                        demo.query('gender == \"Male\" & birth_year >= 1981 & birth_year <= 1995').birth_year.count(),\n",
    "                        demo.query('gender == \"Male\" & birth_year >= 1996').birth_year.count()])\n",
    "Male = Male.rename(columns={0:\"Male\"})\n",
    "\n",
    "\n",
    "Other = pd.DataFrame([demo.query('gender == \"Other\" & birth_year >= 1926').birth_year.count(),\n",
    "                      demo.query('gender == \"Other\" & birth_year >= 1946 & birth_year <= 1965').birth_year.count(),\n",
    "                        demo.query('gender == \"Other\" & birth_year >= 1966 & birth_year <= 1980').birth_year.count(),\n",
    "                        demo.query('gender == \"Other\" & birth_year >= 1981 & birth_year <= 1995').birth_year.count(),\n",
    "                        demo.query('gender == \"Other\" & birth_year >= 1996').birth_year.count()])\n",
    "Other = Other.rename(columns={0:\"Other\"})\n",
    "\n",
    "All_genders = pd.DataFrame([demo.query('gender == [\"Male\",\"Other\"] & birth_year >= 1926').birth_year.count(),\n",
    "                      demo.query('gender == [\"Male\",\"Other\"] & birth_year >= 1946 & birth_year <= 1965').birth_year.count(),\n",
    "                        demo.query('gender == [\"Male\",\"Other\"] & birth_year >= 1966 & birth_year <= 1980').birth_year.count(),\n",
    "                        demo.query('gender == [\"Male\",\"Other\"] & birth_year >= 1981 & birth_year <= 1995').birth_year.count(),\n",
    "                        demo.query('gender == [\"Male\",\"Other\"] & birth_year >= 1996').birth_year.count()])\n",
    "All_genders = All_genders.rename(columns={0:\"All genders\"})\n",
    "\n",
    "Subscriber = pd.DataFrame([demo.query('user_type == \"Subscriber\" & birth_year >= 1926').birth_year.count(),\n",
    "                           demo.query('user_type == \"Subscriber\" & birth_year >= 1946 & birth_year <= 1965').birth_year.count(),\n",
    "                        demo.query('user_type == \"Subscriber\" & birth_year >= 1966 & birth_year <= 1980').birth_year.count(),\n",
    "                        demo.query('user_type == \"Subscriber\" & birth_year >= 1981 & birth_year <= 1995').birth_year.count(),\n",
    "                        demo.query('user_type == \"Subscriber\" & birth_year >= 1996').birth_year.count()])\n",
    "Subscriber = Subscriber.rename(columns={0:\"Subscriber\"})\n",
    "\n",
    "\n",
    "Customer = pd.DataFrame([demo.query('user_type == \"Customer\" & birth_year >= 1926').birth_year.count(),\n",
    "                         demo.query('user_type == \"Customer\" & birth_year >= 1946 & birth_year <= 1965').birth_year.count(),\n",
    "                        demo.query('user_type == \"Customer\" & birth_year >= 1966 & birth_year <= 1980').birth_year.count(),\n",
    "                        demo.query('user_type == \"Customer\" & birth_year >= 1981 & birth_year <= 1995').birth_year.count(),\n",
    "                        demo.query('user_type == \"Customer\" & birth_year >= 1996').birth_year.count()])\n",
    "Customer = Customer.rename(columns={0:\"Customer\"})\n",
    "\n",
    "All_usertypes = pd.DataFrame([demo.query('user_type == [\"Subscriber\", \"Customer\"] & birth_year >= 1926').birth_year.count(),\n",
    "                         demo.query('user_type == [\"Subscriber\", \"Customer\"] & birth_year >= 1946 & birth_year <= 1965').birth_year.count(),\n",
    "                        demo.query('user_type == [\"Subscriber\", \"Customer\"]& birth_year >= 1966 & birth_year <= 1980').birth_year.count(),\n",
    "                        demo.query('user_type == [\"Subscriber\", \"Customer\"] & birth_year >= 1981 & birth_year <= 1995').birth_year.count(),\n",
    "                        demo.query('user_type == [\"Subscriber\", \"Customer\"] & birth_year >= 1996').birth_year.count()])\n",
    "All_usertypes = All_usertypes.rename(columns={0:\"All user types\"})\n",
    "\n",
    "\n",
    "Shared = pd.DataFrame([demo.query('bike_share == \"Yes\" & birth_year >= 1926').birth_year.count(),\n",
    "                       demo.query('bike_share == \"Yes\" & birth_year >= 1946 & birth_year <= 1965').birth_year.count(),\n",
    "                        demo.query('bike_share == \"Yes\" & birth_year >= 1966 & birth_year <= 1980').birth_year.count(),\n",
    "                        demo.query('bike_share == \"Yes\" & birth_year >= 1981 & birth_year <= 1995').birth_year.count(),\n",
    "                        demo.query('bike_share == \"Yes\" & birth_year >= 1996').birth_year.count()])\n",
    "Shared = Shared.rename(columns={0:\"Shared\"})\n",
    "\n",
    "\n",
    "Not_shared = pd.DataFrame([demo.query('bike_share == \"No\" & birth_year >= 1926').birth_year.count(),\n",
    "                           demo.query('bike_share == \"No\" & birth_year >= 1946 & birth_year <= 1965').birth_year.count(),\n",
    "                        demo.query('bike_share == \"No\" & birth_year >= 1966 & birth_year <= 1980').birth_year.count(),\n",
    "                        demo.query('bike_share == \"No\" & birth_year >= 1981 & birth_year <= 1995').birth_year.count(),\n",
    "                        demo.query('bike_share == \"No\" & birth_year >= 1996').birth_year.count()])\n",
    "Not_shared = Not_shared.rename(columns={0:\"Not shared\"})\n",
    "\n",
    "All_bikes = pd.DataFrame([demo.query('bike_share == [\"Yes\",\"No\"] & birth_year >= 1926').birth_year.count(),\n",
    "                           demo.query('bike_share == [\"Yes\",\"No\"] & birth_year >= 1946 & birth_year <= 1965').birth_year.count(),\n",
    "                        demo.query('bike_share == [\"Yes\",\"No\"] & birth_year >= 1966 & birth_year <= 1980').birth_year.count(),\n",
    "                        demo.query('bike_share == [\"Yes\",\"No\"] & birth_year >= 1981 & birth_year <= 1995').birth_year.count(),\n",
    "                        demo.query('bike_share == [\"Yes\",\"No\"] & birth_year >= 1996').birth_year.count()])\n",
    "All_bikes = All_bikes.rename(columns={0:\"All bikes\"})"
   ]
  },
  {
   "cell_type": "code",
   "execution_count": 115,
   "metadata": {
    "slideshow": {
     "slide_type": "skip"
    }
   },
   "outputs": [],
   "source": [
    "demography = Male.join(Female, how='outer').join(Other, how='outer').join(All_genders, how='outer').join(Subscriber, how='outer').join(Customer, how='outer').join(All_usertypes, how='outer').join(Not_shared, how='outer').join(Shared, how='outer').join(All_bikes, how='outer')\n",
    "demography['generation'] = ['All generations','Baby Boomer', 'Gen X', 'Gen Y', 'Gen Z']\n",
    "demography = demography.set_index(demography['generation'])\n",
    "demography = demography.drop(columns='generation')"
   ]
  },
  {
   "cell_type": "code",
   "execution_count": 116,
   "metadata": {
    "slideshow": {
     "slide_type": "slide"
    }
   },
   "outputs": [
    {
     "data": {
      "text/plain": [
       "<matplotlib.axes._subplots.AxesSubplot at 0x18130ec8>"
      ]
     },
     "execution_count": 116,
     "metadata": {},
     "output_type": "execute_result"
    },
    {
     "data": {
      "image/png": "[encoded data removed]",
      "text/plain": [
       "<Figure size 864x432 with 2 Axes>"
      ]
     },
     "metadata": {
      "needs_background": "light"
     },
     "output_type": "display_data"
    }
   ],
   "source": [
    "plt.figure(figsize=(12,6))\n",
    "plt.title(\"User demography heatmap\", fontsize=20)\n",
    "sb.heatmap(demography, cmap='flare', annot=True, cbar_kws={'label': 'Member'})"
   ]
  },
  {
   "cell_type": "markdown",
   "metadata": {
    "slideshow": {
     "slide_type": "subslide"
    }
   },
   "source": [
    "The total number of male users of all age groups (including Silent Generation) is 13,0358 which is almost 3.5 times higher than female users, and is 36 times higher than other gender users. \n",
    "\n",
    "Number of total subscribers are 158,162 which is 9.5 times higher than customers at 16,615. This is a good sign because subscriber has higher life time value for the service than the customer as the subscriber usually use this service on a day basis. Similar to that, most of the bikes are not shared which means higher value for Ford.\n",
    "\n",
    "Gen Y Subscriber is the largest group in the heatmap with 102,911 users, 104,493 users in Gen Y don't share a bike and 83435 of them are males. \n",
    "\n",
    "Come second across all categories are Gen X users with 27,250 male users, 6,843 female users, 869 other users, a total account of 31,930 subscribers, 3,132 cutomers, 31,832 not shred bike and 3230.\n",
    "\n",
    "The third most popular group is Gen Z. One theory why Gen Z is not the popular users yet is that not many Gen Z are professionals who work in downtown San Francisco. However, Gen Z users may be blooming in couple years. One way to examinize this is to look at the growth of Gen Z users over the year."
   ]
  },
  {
   "cell_type": "code",
   "execution_count": 113,
   "metadata": {
    "slideshow": {
     "slide_type": "subslide"
    }
   },
   "outputs": [
    {
     "data": {
      "text/html": [
       "<div>\n",
       "<style scoped>\n",
       "    .dataframe tbody tr th:only-of-type {\n",
       "        vertical-align: middle;\n",
       "    }\n",
       "\n",
       "    .dataframe tbody tr th {\n",
       "        vertical-align: top;\n",
       "    }\n",
       "\n",
       "    .dataframe thead th {\n",
       "        text-align: right;\n",
       "    }\n",
       "</style>\n",
       "<table border=\"1\" class=\"dataframe\">\n",
       "  <thead>\n",
       "    <tr style=\"text-align: right;\">\n",
       "      <th></th>\n",
       "      <th>Male</th>\n",
       "      <th>Female</th>\n",
       "      <th>Other</th>\n",
       "      <th>All genders</th>\n",
       "      <th>Subscriber</th>\n",
       "      <th>Customer</th>\n",
       "      <th>All user types</th>\n",
       "      <th>Not shared</th>\n",
       "      <th>Shared</th>\n",
       "      <th>All bikes</th>\n",
       "    </tr>\n",
       "    <tr>\n",
       "      <th>generation</th>\n",
       "      <th></th>\n",
       "      <th></th>\n",
       "      <th></th>\n",
       "      <th></th>\n",
       "      <th></th>\n",
       "      <th></th>\n",
       "      <th></th>\n",
       "      <th></th>\n",
       "      <th></th>\n",
       "      <th></th>\n",
       "    </tr>\n",
       "  </thead>\n",
       "  <tbody>\n",
       "    <tr>\n",
       "      <th>All generations</th>\n",
       "      <td>130358</td>\n",
       "      <td>40795</td>\n",
       "      <td>3624</td>\n",
       "      <td>133982</td>\n",
       "      <td>158162</td>\n",
       "      <td>16615</td>\n",
       "      <td>174777</td>\n",
       "      <td>157560</td>\n",
       "      <td>17217</td>\n",
       "      <td>174777</td>\n",
       "    </tr>\n",
       "    <tr>\n",
       "      <th>Baby Boomer</th>\n",
       "      <td>8090</td>\n",
       "      <td>1892</td>\n",
       "      <td>272</td>\n",
       "      <td>8362</td>\n",
       "      <td>9480</td>\n",
       "      <td>774</td>\n",
       "      <td>10254</td>\n",
       "      <td>8962</td>\n",
       "      <td>1292</td>\n",
       "      <td>10254</td>\n",
       "    </tr>\n",
       "    <tr>\n",
       "      <th>Gen X</th>\n",
       "      <td>27350</td>\n",
       "      <td>6843</td>\n",
       "      <td>869</td>\n",
       "      <td>28219</td>\n",
       "      <td>31930</td>\n",
       "      <td>3132</td>\n",
       "      <td>35062</td>\n",
       "      <td>31832</td>\n",
       "      <td>3230</td>\n",
       "      <td>35062</td>\n",
       "    </tr>\n",
       "    <tr>\n",
       "      <th>Gen Y</th>\n",
       "      <td>83435</td>\n",
       "      <td>28218</td>\n",
       "      <td>2239</td>\n",
       "      <td>85674</td>\n",
       "      <td>102911</td>\n",
       "      <td>10981</td>\n",
       "      <td>113892</td>\n",
       "      <td>104493</td>\n",
       "      <td>9399</td>\n",
       "      <td>113892</td>\n",
       "    </tr>\n",
       "    <tr>\n",
       "      <th>Gen Z</th>\n",
       "      <td>11483</td>\n",
       "      <td>3842</td>\n",
       "      <td>244</td>\n",
       "      <td>11727</td>\n",
       "      <td>13841</td>\n",
       "      <td>1728</td>\n",
       "      <td>15569</td>\n",
       "      <td>12273</td>\n",
       "      <td>3296</td>\n",
       "      <td>15569</td>\n",
       "    </tr>\n",
       "  </tbody>\n",
       "</table>\n",
       "</div>"
      ],
      "text/plain": [
       "                   Male  Female  Other  All genders  Subscriber  Customer  \\\n",
       "generation                                                                  \n",
       "All generations  130358   40795   3624       133982      158162     16615   \n",
       "Baby Boomer        8090    1892    272         8362        9480       774   \n",
       "Gen X             27350    6843    869        28219       31930      3132   \n",
       "Gen Y             83435   28218   2239        85674      102911     10981   \n",
       "Gen Z             11483    3842    244        11727       13841      1728   \n",
       "\n",
       "                 All user types  Not shared  Shared  All bikes  \n",
       "generation                                                      \n",
       "All generations          174777      157560   17217     174777  \n",
       "Baby Boomer               10254        8962    1292      10254  \n",
       "Gen X                     35062       31832    3230      35062  \n",
       "Gen Y                    113892      104493    9399     113892  \n",
       "Gen Z                     15569       12273    3296      15569  "
      ]
     },
     "execution_count": 113,
     "metadata": {},
     "output_type": "execute_result"
    }
   ],
   "source": [
    "demography"
   ]
  },
  {
   "cell_type": "markdown",
   "metadata": {
    "slideshow": {
     "slide_type": "skip"
    }
   },
   "source": [
    "#### Duration span by birth year"
   ]
  },
  {
   "cell_type": "code",
   "execution_count": 137,
   "metadata": {
    "slideshow": {
     "slide_type": "slide"
    }
   },
   "outputs": [
    {
     "data": {
      "text/plain": [
       "<matplotlib.axes._subplots.AxesSubplot at 0x1af38e08>"
      ]
     },
     "execution_count": 137,
     "metadata": {},
     "output_type": "execute_result"
    },
    {
     "data": {
      "image/png": "[encoded data removed]",
      "text/plain": [
       "<Figure size 576x360 with 1 Axes>"
      ]
     },
     "metadata": {
      "needs_background": "light"
     },
     "output_type": "display_data"
    }
   ],
   "source": [
    "demo.plot.scatter(x='birth_year', y='duration_sec', figsize=(8,5), color=['#69359c'], title=\"Duration span by birth year\")"
   ]
  },
  {
   "cell_type": "markdown",
   "metadata": {
    "slideshow": {
     "slide_type": "subslide"
    }
   },
   "source": [
    "There is a weak postive correlation of the duration span and the birth year. The younger a user is, the slightly longer that user's trip dureation is."
   ]
  },
  {
   "cell_type": "markdown",
   "metadata": {
    "slideshow": {
     "slide_type": "slide"
    }
   },
   "source": [
    "### Location"
   ]
  },
  {
   "cell_type": "markdown",
   "metadata": {
    "slideshow": {
     "slide_type": "skip"
    }
   },
   "source": [
    "#### Stations have have the total visits of more than 5000"
   ]
  },
  {
   "cell_type": "code",
   "execution_count": 83,
   "metadata": {
    "slideshow": {
     "slide_type": "skip"
    }
   },
   "outputs": [],
   "source": [
    "most_visited = station[station['total'] > 5000]"
   ]
  },
  {
   "cell_type": "code",
   "execution_count": 148,
   "metadata": {
    "slideshow": {
     "slide_type": "slide"
    }
   },
   "outputs": [
    {
     "data": {
      "text/plain": [
       "<matplotlib.axes._subplots.AxesSubplot at 0x1d7cd880>"
      ]
     },
     "execution_count": 148,
     "metadata": {},
     "output_type": "execute_result"
    },
    {
     "data": {
      "image/png": "[encoded data removed]",
      "text/plain": [
       "<Figure size 504x360 with 1 Axes>"
      ]
     },
     "metadata": {
      "needs_background": "light"
     },
     "output_type": "display_data"
    }
   ],
   "source": [
    "most_visited[['start','end']].plot(kind='bar', stacked=True, figsize=(7,5), color=['#652a6b','#e46e5e'], title=\"Stations have have the total visits of more than 5000\")"
   ]
  },
  {
   "cell_type": "markdown",
   "metadata": {
    "slideshow": {
     "slide_type": "subslide"
    }
   },
   "source": [
    "These are the 7 most profitable stations of Ford Go Bike with over 5000 visits.\n",
    "\n",
    "San Francisco Caltrain Station 2 (Townsned St at 4th St) is the most popular destination with 8401 visits.\n",
    "Come second is Market St at 10th St with 7877 visits. \n",
    "\n",
    "Third on the most visited list is Montgomery St BART Station (Market St at 2nd St) with 6542 visits, and is followed by San Francisco Ferry Building (Harry Bridges Plaza) with 6078.\n",
    "\n",
    "\n",
    "Berry St at 4th St, Powell St BART Station (Market St at 4th St), and San Francisco Caltrain (Townsend St at 4th St) come in 5th, 6th and 7th with 5924, 5757 and 5650 visits respectively.\n",
    "\n",
    "Ford may want to collect more data on the wait time to get a bike at these top 7 most visited stations to see if there are longer wait times for users. If there're, Ford may want to add more bikes to these stations."
   ]
  },
  {
   "cell_type": "code",
   "execution_count": 85,
   "metadata": {
    "slideshow": {
     "slide_type": "subslide"
    }
   },
   "outputs": [
    {
     "data": {
      "text/html": [
       "<div>\n",
       "<style scoped>\n",
       "    .dataframe tbody tr th:only-of-type {\n",
       "        vertical-align: middle;\n",
       "    }\n",
       "\n",
       "    .dataframe tbody tr th {\n",
       "        vertical-align: top;\n",
       "    }\n",
       "\n",
       "    .dataframe thead th {\n",
       "        text-align: right;\n",
       "    }\n",
       "</style>\n",
       "<table border=\"1\" class=\"dataframe\">\n",
       "  <thead>\n",
       "    <tr style=\"text-align: right;\">\n",
       "      <th></th>\n",
       "      <th>start</th>\n",
       "      <th>end</th>\n",
       "      <th>total</th>\n",
       "    </tr>\n",
       "  </thead>\n",
       "  <tbody>\n",
       "    <tr>\n",
       "      <th>San Francisco Caltrain Station 2  (Townsend St at 4th St)</th>\n",
       "      <td>3544</td>\n",
       "      <td>4857</td>\n",
       "      <td>8401</td>\n",
       "    </tr>\n",
       "    <tr>\n",
       "      <th>Market St at 10th St</th>\n",
       "      <td>3904</td>\n",
       "      <td>3973</td>\n",
       "      <td>7877</td>\n",
       "    </tr>\n",
       "    <tr>\n",
       "      <th>Montgomery St BART Station (Market St at 2nd St)</th>\n",
       "      <td>2895</td>\n",
       "      <td>3647</td>\n",
       "      <td>6542</td>\n",
       "    </tr>\n",
       "    <tr>\n",
       "      <th>San Francisco Ferry Building (Harry Bridges Plaza)</th>\n",
       "      <td>2710</td>\n",
       "      <td>3368</td>\n",
       "      <td>6078</td>\n",
       "    </tr>\n",
       "    <tr>\n",
       "      <th>Berry St at 4th St</th>\n",
       "      <td>3052</td>\n",
       "      <td>2872</td>\n",
       "      <td>5924</td>\n",
       "    </tr>\n",
       "    <tr>\n",
       "      <th>Powell St BART Station (Market St at 4th St)</th>\n",
       "      <td>2760</td>\n",
       "      <td>2997</td>\n",
       "      <td>5757</td>\n",
       "    </tr>\n",
       "    <tr>\n",
       "      <th>San Francisco Caltrain (Townsend St at 4th St)</th>\n",
       "      <td>2703</td>\n",
       "      <td>2947</td>\n",
       "      <td>5650</td>\n",
       "    </tr>\n",
       "  </tbody>\n",
       "</table>\n",
       "</div>"
      ],
      "text/plain": [
       "                                                    start   end  total\n",
       "San Francisco Caltrain Station 2  (Townsend St ...   3544  4857   8401\n",
       "Market St at 10th St                                 3904  3973   7877\n",
       "Montgomery St BART Station (Market St at 2nd St)     2895  3647   6542\n",
       "San Francisco Ferry Building (Harry Bridges Plaza)   2710  3368   6078\n",
       "Berry St at 4th St                                   3052  2872   5924\n",
       "Powell St BART Station (Market St at 4th St)         2760  2997   5757\n",
       "San Francisco Caltrain (Townsend St at 4th St)       2703  2947   5650"
      ]
     },
     "execution_count": 85,
     "metadata": {},
     "output_type": "execute_result"
    }
   ],
   "source": [
    "most_visited"
   ]
  },
  {
   "cell_type": "markdown",
   "metadata": {
    "slideshow": {
     "slide_type": "skip"
    }
   },
   "source": [
    "#### Stations have have the total visits of less than 50"
   ]
  },
  {
   "cell_type": "code",
   "execution_count": 86,
   "metadata": {
    "slideshow": {
     "slide_type": "skip"
    }
   },
   "outputs": [],
   "source": [
    "least_visited = station[station['total'] < 50]"
   ]
  },
  {
   "cell_type": "code",
   "execution_count": 149,
   "metadata": {
    "slideshow": {
     "slide_type": "slide"
    }
   },
   "outputs": [
    {
     "data": {
      "text/plain": [
       "<matplotlib.axes._subplots.AxesSubplot at 0x1d80d310>"
      ]
     },
     "execution_count": 149,
     "metadata": {},
     "output_type": "execute_result"
    },
    {
     "data": {
      "image/png": "[encoded data removed]",
      "text/plain": [
       "<Figure size 864x360 with 1 Axes>"
      ]
     },
     "metadata": {
      "needs_background": "light"
     },
     "output_type": "display_data"
    }
   ],
   "source": [
    "least_visited[['start','end']].plot(kind='bar', stacked=True, figsize=(12,5), color=['#652a6b','#e46e5e'], title=\"Stations have have the total visits of less than 50\")"
   ]
  },
  {
   "cell_type": "markdown",
   "metadata": {
    "slideshow": {
     "slide_type": "subslide"
    }
   },
   "source": [
    "San Pedro St at Hedding St, Williams Ave at Apollo St and Foothill Blvd at 42nd Ave only have 49, 45 and 43 total visits respectively.\n",
    "\n",
    "23rd Ave at Foothill Blvd, Backesto Park (Jackson St at 13th St), Farnam St at Fruitvale Ave, and 26th Ave at International Blvd all share the total visits of 38.\n",
    "\n",
    "The rest of the stations in the list have less than 30 visits.\n",
    "\n",
    "Ford may want to reconsider whether to continue operate the 14 stations above than have less than 50 visits a month like this. Considering the financially aspect, these stations are potentially operating at a loss. Second, considering customer service, not many customers would be swayed away if these 14 stations were to closed down. Lastly, considering the marketing aspect, these stations do not help with brand awareness or engagement as they surely do not attract enough users."
   ]
  },
  {
   "cell_type": "code",
   "execution_count": 88,
   "metadata": {
    "slideshow": {
     "slide_type": "subslide"
    }
   },
   "outputs": [
    {
     "data": {
      "text/html": [
       "<div>\n",
       "<style scoped>\n",
       "    .dataframe tbody tr th:only-of-type {\n",
       "        vertical-align: middle;\n",
       "    }\n",
       "\n",
       "    .dataframe tbody tr th {\n",
       "        vertical-align: top;\n",
       "    }\n",
       "\n",
       "    .dataframe thead th {\n",
       "        text-align: right;\n",
       "    }\n",
       "</style>\n",
       "<table border=\"1\" class=\"dataframe\">\n",
       "  <thead>\n",
       "    <tr style=\"text-align: right;\">\n",
       "      <th></th>\n",
       "      <th>start</th>\n",
       "      <th>end</th>\n",
       "      <th>total</th>\n",
       "    </tr>\n",
       "  </thead>\n",
       "  <tbody>\n",
       "    <tr>\n",
       "      <th>San Pedro St at Hedding St</th>\n",
       "      <td>19</td>\n",
       "      <td>30</td>\n",
       "      <td>49</td>\n",
       "    </tr>\n",
       "    <tr>\n",
       "      <th>Williams Ave at Apollo St</th>\n",
       "      <td>25</td>\n",
       "      <td>20</td>\n",
       "      <td>45</td>\n",
       "    </tr>\n",
       "    <tr>\n",
       "      <th>Foothill Blvd at 42nd Ave</th>\n",
       "      <td>23</td>\n",
       "      <td>20</td>\n",
       "      <td>43</td>\n",
       "    </tr>\n",
       "    <tr>\n",
       "      <th>Backesto Park (Jackson St at 13th St)</th>\n",
       "      <td>17</td>\n",
       "      <td>21</td>\n",
       "      <td>38</td>\n",
       "    </tr>\n",
       "    <tr>\n",
       "      <th>Farnam St at Fruitvale Ave</th>\n",
       "      <td>18</td>\n",
       "      <td>20</td>\n",
       "      <td>38</td>\n",
       "    </tr>\n",
       "    <tr>\n",
       "      <th>23rd Ave at Foothill Blvd</th>\n",
       "      <td>18</td>\n",
       "      <td>20</td>\n",
       "      <td>38</td>\n",
       "    </tr>\n",
       "    <tr>\n",
       "      <th>26th Ave at International Blvd</th>\n",
       "      <td>19</td>\n",
       "      <td>19</td>\n",
       "      <td>38</td>\n",
       "    </tr>\n",
       "    <tr>\n",
       "      <th>Leavenworth St at Broadway</th>\n",
       "      <td>17</td>\n",
       "      <td>12</td>\n",
       "      <td>29</td>\n",
       "    </tr>\n",
       "    <tr>\n",
       "      <th>Taylor St at 9th St</th>\n",
       "      <td>13</td>\n",
       "      <td>11</td>\n",
       "      <td>24</td>\n",
       "    </tr>\n",
       "    <tr>\n",
       "      <th>Parker Ave at McAllister St</th>\n",
       "      <td>7</td>\n",
       "      <td>9</td>\n",
       "      <td>16</td>\n",
       "    </tr>\n",
       "    <tr>\n",
       "      <th>Willow St at Vine St</th>\n",
       "      <td>9</td>\n",
       "      <td>5</td>\n",
       "      <td>14</td>\n",
       "    </tr>\n",
       "    <tr>\n",
       "      <th>Palm St at Willow St</th>\n",
       "      <td>4</td>\n",
       "      <td>7</td>\n",
       "      <td>11</td>\n",
       "    </tr>\n",
       "    <tr>\n",
       "      <th>21st Ave at International Blvd</th>\n",
       "      <td>4</td>\n",
       "      <td>6</td>\n",
       "      <td>10</td>\n",
       "    </tr>\n",
       "    <tr>\n",
       "      <th>16th St Depot</th>\n",
       "      <td>2</td>\n",
       "      <td>6</td>\n",
       "      <td>8</td>\n",
       "    </tr>\n",
       "  </tbody>\n",
       "</table>\n",
       "</div>"
      ],
      "text/plain": [
       "                                       start  end  total\n",
       "San Pedro St at Hedding St                19   30     49\n",
       "Williams Ave at Apollo St                 25   20     45\n",
       "Foothill Blvd at 42nd Ave                 23   20     43\n",
       "Backesto Park (Jackson St at 13th St)     17   21     38\n",
       "Farnam St at Fruitvale Ave                18   20     38\n",
       "23rd Ave at Foothill Blvd                 18   20     38\n",
       "26th Ave at International Blvd            19   19     38\n",
       "Leavenworth St at Broadway                17   12     29\n",
       "Taylor St at 9th St                       13   11     24\n",
       "Parker Ave at McAllister St                7    9     16\n",
       "Willow St at Vine St                       9    5     14\n",
       "Palm St at Willow St                       4    7     11\n",
       "21st Ave at International Blvd             4    6     10\n",
       "16th St Depot                              2    6      8"
      ]
     },
     "execution_count": 88,
     "metadata": {},
     "output_type": "execute_result"
    }
   ],
   "source": [
    "least_visited"
   ]
  },
  {
   "cell_type": "markdown",
   "metadata": {
    "slideshow": {
     "slide_type": "skip"
    }
   },
   "source": [
    "#### Most pupular route heatmap"
   ]
  },
  {
   "cell_type": "code",
   "execution_count": 89,
   "metadata": {
    "slideshow": {
     "slide_type": "skip"
    }
   },
   "outputs": [
    {
     "data": {
      "text/html": [
       "<div>\n",
       "<style scoped>\n",
       "    .dataframe tbody tr th:only-of-type {\n",
       "        vertical-align: middle;\n",
       "    }\n",
       "\n",
       "    .dataframe tbody tr th {\n",
       "        vertical-align: top;\n",
       "    }\n",
       "\n",
       "    .dataframe thead th {\n",
       "        text-align: right;\n",
       "    }\n",
       "</style>\n",
       "<table border=\"1\" class=\"dataframe\">\n",
       "  <thead>\n",
       "    <tr style=\"text-align: right;\">\n",
       "      <th></th>\n",
       "      <th>start_id</th>\n",
       "      <th>end_id</th>\n",
       "    </tr>\n",
       "  </thead>\n",
       "  <tbody>\n",
       "    <tr>\n",
       "      <th>58</th>\n",
       "      <td>3904</td>\n",
       "      <td>3973</td>\n",
       "    </tr>\n",
       "    <tr>\n",
       "      <th>67</th>\n",
       "      <td>3544</td>\n",
       "      <td>4857</td>\n",
       "    </tr>\n",
       "    <tr>\n",
       "      <th>81</th>\n",
       "      <td>3052</td>\n",
       "      <td>2872</td>\n",
       "    </tr>\n",
       "    <tr>\n",
       "      <th>21</th>\n",
       "      <td>2895</td>\n",
       "      <td>3647</td>\n",
       "    </tr>\n",
       "    <tr>\n",
       "      <th>3</th>\n",
       "      <td>2760</td>\n",
       "      <td>2997</td>\n",
       "    </tr>\n",
       "    <tr>\n",
       "      <th>15</th>\n",
       "      <td>2710</td>\n",
       "      <td>3368</td>\n",
       "    </tr>\n",
       "    <tr>\n",
       "      <th>30</th>\n",
       "      <td>2703</td>\n",
       "      <td>2947</td>\n",
       "    </tr>\n",
       "    <tr>\n",
       "      <th>5</th>\n",
       "      <td>2327</td>\n",
       "      <td>2353</td>\n",
       "    </tr>\n",
       "    <tr>\n",
       "      <th>22</th>\n",
       "      <td>2293</td>\n",
       "      <td>2034</td>\n",
       "    </tr>\n",
       "    <tr>\n",
       "      <th>16</th>\n",
       "      <td>2283</td>\n",
       "      <td>2338</td>\n",
       "    </tr>\n",
       "  </tbody>\n",
       "</table>\n",
       "</div>"
      ],
      "text/plain": [
       "    start_id  end_id\n",
       "58      3904    3973\n",
       "67      3544    4857\n",
       "81      3052    2872\n",
       "21      2895    3647\n",
       "3       2760    2997\n",
       "15      2710    3368\n",
       "30      2703    2947\n",
       "5       2327    2353\n",
       "22      2293    2034\n",
       "16      2283    2338"
      ]
     },
     "execution_count": 89,
     "metadata": {},
     "output_type": "execute_result"
    }
   ],
   "source": [
    "start_id = pd.DataFrame(df2['start_station_id'].value_counts())\n",
    "end_id = pd.DataFrame(df2['end_station_id'].value_counts())\n",
    "\n",
    "# combine thew two datasets start_station and end_station by index\n",
    "station_id = pd.concat([start_id, end_id], axis=1)\n",
    "# change column names to start and end\n",
    "station_id = station_id.rename(columns={'start_station_id':'start_id', 'end_station_id':'end_id'})\n",
    "station_id.head(10)"
   ]
  },
  {
   "cell_type": "code",
   "execution_count": 90,
   "metadata": {
    "slideshow": {
     "slide_type": "skip"
    }
   },
   "outputs": [],
   "source": [
    "route = {'3':[((df1['start_station_id']=='3') & (df1['end_station_id']=='81')).sum(),\n",
    "                  ((df1['start_station_id']=='3') & (df1['end_station_id']=='67')).sum(),\n",
    "                  ((df1['start_station_id']=='3') & (df1['end_station_id']=='58')).sum(),\n",
    "                  ((df1['start_station_id']=='3') & (df1['end_station_id']=='30')).sum(),\n",
    "                  ((df1['start_station_id']=='3') & (df1['end_station_id']=='22')).sum(),\n",
    "                  ((df1['start_station_id']=='3') & (df1['end_station_id']=='21')).sum(),\n",
    "                  ((df1['start_station_id']=='3') & (df1['end_station_id']=='16')).sum(),\n",
    "                  ((df1['start_station_id']=='3') & (df1['end_station_id']=='15')).sum(),\n",
    "                  ((df1['start_station_id']=='3') & (df1['end_station_id']=='5')).sum(),\n",
    "                  ((df1['start_station_id']=='3') & (df1['end_station_id']=='3')).sum()],\n",
    "             '5':[((df1['start_station_id']=='5') & (df1['end_station_id']=='81')).sum(),\n",
    "                  ((df1['start_station_id']=='5') & (df1['end_station_id']=='67')).sum(),\n",
    "                  ((df1['start_station_id']=='5') & (df1['end_station_id']=='58')).sum(),\n",
    "                  ((df1['start_station_id']=='5') & (df1['end_station_id']=='30')).sum(),\n",
    "                  ((df1['start_station_id']=='5') & (df1['end_station_id']=='22')).sum(),\n",
    "                  ((df1['start_station_id']=='5') & (df1['end_station_id']=='21')).sum(),\n",
    "                  ((df1['start_station_id']=='5') & (df1['end_station_id']=='16')).sum(),\n",
    "                  ((df1['start_station_id']=='5') & (df1['end_station_id']=='15')).sum(),\n",
    "                  ((df1['start_station_id']=='5') & (df1['end_station_id']=='5')).sum(),\n",
    "                  ((df1['start_station_id']=='5') & (df1['end_station_id']=='3')).sum()],\n",
    "             '15':[((df1['start_station_id']=='15') & (df1['end_station_id']=='81')).sum(),\n",
    "                  ((df1['start_station_id']=='15') & (df1['end_station_id']=='67')).sum(),\n",
    "                  ((df1['start_station_id']=='15') & (df1['end_station_id']=='58')).sum(),\n",
    "                  ((df1['start_station_id']=='15') & (df1['end_station_id']=='30')).sum(),\n",
    "                  ((df1['start_station_id']=='15') & (df1['end_station_id']=='22')).sum(),\n",
    "                  ((df1['start_station_id']=='15') & (df1['end_station_id']=='21')).sum(),\n",
    "                  ((df1['start_station_id']=='15') & (df1['end_station_id']=='16')).sum(),\n",
    "                  ((df1['start_station_id']=='15') & (df1['end_station_id']=='15')).sum(),\n",
    "                  ((df1['start_station_id']=='15') & (df1['end_station_id']=='5')).sum(),\n",
    "                  ((df1['start_station_id']=='15') & (df1['end_station_id']=='3')).sum()],\n",
    "             '16':[((df1['start_station_id']=='16') & (df1['end_station_id']=='81')).sum(),\n",
    "                  ((df1['start_station_id']=='16') & (df1['end_station_id']=='67')).sum(),\n",
    "                  ((df1['start_station_id']=='16') & (df1['end_station_id']=='58')).sum(),\n",
    "                  ((df1['start_station_id']=='16') & (df1['end_station_id']=='30')).sum(),\n",
    "                  ((df1['start_station_id']=='16') & (df1['end_station_id']=='22')).sum(),\n",
    "                  ((df1['start_station_id']=='16') & (df1['end_station_id']=='21')).sum(),\n",
    "                  ((df1['start_station_id']=='16') & (df1['end_station_id']=='16')).sum(),\n",
    "                  ((df1['start_station_id']=='16') & (df1['end_station_id']=='15')).sum(),\n",
    "                  ((df1['start_station_id']=='16') & (df1['end_station_id']=='5')).sum(),\n",
    "                  ((df1['start_station_id']=='16') & (df1['end_station_id']=='3')).sum()],\n",
    "             '21':[((df1['start_station_id']=='21') & (df1['end_station_id']=='81')).sum(),\n",
    "                  ((df1['start_station_id']=='21') & (df1['end_station_id']=='67')).sum(),\n",
    "                  ((df1['start_station_id']=='21') & (df1['end_station_id']=='58')).sum(),\n",
    "                  ((df1['start_station_id']=='21') & (df1['end_station_id']=='30')).sum(),\n",
    "                  ((df1['start_station_id']=='21') & (df1['end_station_id']=='22')).sum(),\n",
    "                  ((df1['start_station_id']=='21') & (df1['end_station_id']=='21')).sum(),\n",
    "                  ((df1['start_station_id']=='21') & (df1['end_station_id']=='16')).sum(),\n",
    "                  ((df1['start_station_id']=='21') & (df1['end_station_id']=='15')).sum(),\n",
    "                  ((df1['start_station_id']=='21') & (df1['end_station_id']=='5')).sum(),\n",
    "                  ((df1['start_station_id']=='21') & (df1['end_station_id']=='81')).sum()],\n",
    "             '22':[((df1['start_station_id']=='22') & (df1['end_station_id']=='81')).sum(),\n",
    "                  ((df1['start_station_id']=='22') & (df1['end_station_id']=='67')).sum(),\n",
    "                  ((df1['start_station_id']=='22') & (df1['end_station_id']=='58')).sum(),\n",
    "                  ((df1['start_station_id']=='22') & (df1['end_station_id']=='30')).sum(),\n",
    "                  ((df1['start_station_id']=='22') & (df1['end_station_id']=='22')).sum(),\n",
    "                  ((df1['start_station_id']=='22') & (df1['end_station_id']=='21')).sum(),\n",
    "                  ((df1['start_station_id']=='22') & (df1['end_station_id']=='16')).sum(),\n",
    "                  ((df1['start_station_id']=='22') & (df1['end_station_id']=='15')).sum(),\n",
    "                  ((df1['start_station_id']=='22') & (df1['end_station_id']=='5')).sum(),\n",
    "                  ((df1['start_station_id']=='22') & (df1['end_station_id']=='3')).sum()],\n",
    "             '30':[((df1['start_station_id']=='30') & (df1['end_station_id']=='81')).sum(),\n",
    "                  ((df1['start_station_id']=='30') & (df1['end_station_id']=='67')).sum(),\n",
    "                  ((df1['start_station_id']=='30') & (df1['end_station_id']=='58')).sum(),\n",
    "                  ((df1['start_station_id']=='30') & (df1['end_station_id']=='30')).sum(),\n",
    "                  ((df1['start_station_id']=='30') & (df1['end_station_id']=='22')).sum(),\n",
    "                  ((df1['start_station_id']=='30') & (df1['end_station_id']=='21')).sum(),\n",
    "                  ((df1['start_station_id']=='30') & (df1['end_station_id']=='16')).sum(),\n",
    "                  ((df1['start_station_id']=='30') & (df1['end_station_id']=='15')).sum(),\n",
    "                  ((df1['start_station_id']=='30') & (df1['end_station_id']=='5')).sum(),\n",
    "                  ((df1['start_station_id']=='30') & (df1['end_station_id']=='3')).sum()],\n",
    "             '58':[((df1['start_station_id']=='58') & (df1['end_station_id']=='81')).sum(),\n",
    "                  ((df1['start_station_id']=='58') & (df1['end_station_id']=='67')).sum(),\n",
    "                  ((df1['start_station_id']=='58') & (df1['end_station_id']=='58')).sum(),\n",
    "                  ((df1['start_station_id']=='58') & (df1['end_station_id']=='30')).sum(),\n",
    "                  ((df1['start_station_id']=='58') & (df1['end_station_id']=='22')).sum(),\n",
    "                  ((df1['start_station_id']=='58') & (df1['end_station_id']=='21')).sum(),\n",
    "                  ((df1['start_station_id']=='58') & (df1['end_station_id']=='16')).sum(),\n",
    "                  ((df1['start_station_id']=='58') & (df1['end_station_id']=='15')).sum(),\n",
    "                  ((df1['start_station_id']=='58') & (df1['end_station_id']=='5')).sum(),\n",
    "                  ((df1['start_station_id']=='58') & (df1['end_station_id']=='3')).sum()],\n",
    "             '67':[((df1['start_station_id']=='67') & (df1['end_station_id']=='81')).sum(),\n",
    "                  ((df1['start_station_id']=='67') & (df1['end_station_id']=='67')).sum(),\n",
    "                  ((df1['start_station_id']=='67') & (df1['end_station_id']=='58')).sum(),\n",
    "                  ((df1['start_station_id']=='67') & (df1['end_station_id']=='30')).sum(),\n",
    "                  ((df1['start_station_id']=='67') & (df1['end_station_id']=='22')).sum(),\n",
    "                  ((df1['start_station_id']=='67') & (df1['end_station_id']=='21')).sum(),\n",
    "                  ((df1['start_station_id']=='67') & (df1['end_station_id']=='16')).sum(),\n",
    "                  ((df1['start_station_id']=='67') & (df1['end_station_id']=='15')).sum(),\n",
    "                  ((df1['start_station_id']=='67') & (df1['end_station_id']=='5')).sum(),\n",
    "                  ((df1['start_station_id']=='67') & (df1['end_station_id']=='3')).sum()],\n",
    "             '81':[((df1['start_station_id']=='81') & (df1['end_station_id']=='81')).sum(),\n",
    "                  ((df1['start_station_id']=='81') & (df1['end_station_id']=='67')).sum(),\n",
    "                  ((df1['start_station_id']=='81') & (df1['end_station_id']=='58')).sum(),\n",
    "                  ((df1['start_station_id']=='81') & (df1['end_station_id']=='30')).sum(),\n",
    "                  ((df1['start_station_id']=='81') & (df1['end_station_id']=='22')).sum(),\n",
    "                  ((df1['start_station_id']=='81') & (df1['end_station_id']=='21')).sum(),\n",
    "                  ((df1['start_station_id']=='81') & (df1['end_station_id']=='16')).sum(),\n",
    "                  ((df1['start_station_id']=='81') & (df1['end_station_id']=='15')).sum(),\n",
    "                  ((df1['start_station_id']=='81') & (df1['end_station_id']=='5')).sum(),\n",
    "                  ((df1['start_station_id']=='81') & (df1['end_station_id']=='3')).sum()]}"
   ]
  },
  {
   "cell_type": "code",
   "execution_count": 91,
   "metadata": {
    "slideshow": {
     "slide_type": "skip"
    }
   },
   "outputs": [],
   "source": [
    "id_index = ['81','67','58','30','22','21','16','15','5','3']\n",
    "route = pd.DataFrame(route)\n",
    "route.index = id_index"
   ]
  },
  {
   "cell_type": "code",
   "execution_count": 111,
   "metadata": {
    "slideshow": {
     "slide_type": "slide"
    }
   },
   "outputs": [
    {
     "data": {
      "text/plain": [
       "<matplotlib.axes._subplots.AxesSubplot at 0x10bfa30>"
      ]
     },
     "execution_count": 111,
     "metadata": {},
     "output_type": "execute_result"
    },
    {
     "data": {
      "image/png": "[encoded data removed]",
      "text/plain": [
       "<Figure size 864x576 with 2 Axes>"
      ]
     },
     "metadata": {
      "needs_background": "light"
     },
     "output_type": "display_data"
    }
   ],
   "source": [
    "plt.figure(figsize=(12,8))\n",
    "plt.title(\"Most popular routes\", fontsize=20)\n",
    "sb.heatmap(route, vmin=0, vmax=350, cmap='flare', annot=True, annot_kws={'size':10}, cbar_kws={'label': 'Trip'})"
   ]
  },
  {
   "cell_type": "markdown",
   "metadata": {
    "slideshow": {
     "slide_type": "subslide"
    }
   },
   "source": [
    "The most popular route is from station 81 - Berry St at 4th St- to station 15 - San Francisco Ferry Building- in Feb 2019 with 337 trips.\n",
    "\n",
    "The second popular route starts at station 58 - Market St at 10th St - and ends at station 21 - Montgomery St BART Station.\n",
    "\n",
    "The third popular route is also starts at station 58, but ends at station 3 which is Powell St BART Station.\n",
    "\n",
    "The fourth popular route again starts at station 58, but ends at station 67 which is San Francisco Caltrain Station 2"
   ]
  },
  {
   "cell_type": "code",
   "execution_count": 93,
   "metadata": {
    "slideshow": {
     "slide_type": "subslide"
    }
   },
   "outputs": [
    {
     "data": {
      "text/html": [
       "<div>\n",
       "<style scoped>\n",
       "    .dataframe tbody tr th:only-of-type {\n",
       "        vertical-align: middle;\n",
       "    }\n",
       "\n",
       "    .dataframe tbody tr th {\n",
       "        vertical-align: top;\n",
       "    }\n",
       "\n",
       "    .dataframe thead th {\n",
       "        text-align: right;\n",
       "    }\n",
       "</style>\n",
       "<table border=\"1\" class=\"dataframe\">\n",
       "  <thead>\n",
       "    <tr style=\"text-align: right;\">\n",
       "      <th></th>\n",
       "      <th>3</th>\n",
       "      <th>5</th>\n",
       "      <th>15</th>\n",
       "      <th>16</th>\n",
       "      <th>21</th>\n",
       "      <th>22</th>\n",
       "      <th>30</th>\n",
       "      <th>58</th>\n",
       "      <th>67</th>\n",
       "      <th>81</th>\n",
       "    </tr>\n",
       "  </thead>\n",
       "  <tbody>\n",
       "    <tr>\n",
       "      <th>81</th>\n",
       "      <td>83</td>\n",
       "      <td>32</td>\n",
       "      <td>166</td>\n",
       "      <td>181</td>\n",
       "      <td>77</td>\n",
       "      <td>135</td>\n",
       "      <td>5</td>\n",
       "      <td>24</td>\n",
       "      <td>11</td>\n",
       "      <td>50</td>\n",
       "    </tr>\n",
       "    <tr>\n",
       "      <th>67</th>\n",
       "      <td>99</td>\n",
       "      <td>86</td>\n",
       "      <td>65</td>\n",
       "      <td>76</td>\n",
       "      <td>105</td>\n",
       "      <td>81</td>\n",
       "      <td>6</td>\n",
       "      <td>232</td>\n",
       "      <td>7</td>\n",
       "      <td>10</td>\n",
       "    </tr>\n",
       "    <tr>\n",
       "      <th>58</th>\n",
       "      <td>157</td>\n",
       "      <td>158</td>\n",
       "      <td>17</td>\n",
       "      <td>34</td>\n",
       "      <td>178</td>\n",
       "      <td>13</td>\n",
       "      <td>64</td>\n",
       "      <td>59</td>\n",
       "      <td>143</td>\n",
       "      <td>22</td>\n",
       "    </tr>\n",
       "    <tr>\n",
       "      <th>30</th>\n",
       "      <td>124</td>\n",
       "      <td>14</td>\n",
       "      <td>103</td>\n",
       "      <td>166</td>\n",
       "      <td>170</td>\n",
       "      <td>175</td>\n",
       "      <td>14</td>\n",
       "      <td>17</td>\n",
       "      <td>4</td>\n",
       "      <td>10</td>\n",
       "    </tr>\n",
       "    <tr>\n",
       "      <th>22</th>\n",
       "      <td>30</td>\n",
       "      <td>10</td>\n",
       "      <td>28</td>\n",
       "      <td>17</td>\n",
       "      <td>19</td>\n",
       "      <td>15</td>\n",
       "      <td>115</td>\n",
       "      <td>12</td>\n",
       "      <td>96</td>\n",
       "      <td>168</td>\n",
       "    </tr>\n",
       "    <tr>\n",
       "      <th>21</th>\n",
       "      <td>42</td>\n",
       "      <td>35</td>\n",
       "      <td>68</td>\n",
       "      <td>16</td>\n",
       "      <td>21</td>\n",
       "      <td>25</td>\n",
       "      <td>131</td>\n",
       "      <td>243</td>\n",
       "      <td>130</td>\n",
       "      <td>96</td>\n",
       "    </tr>\n",
       "    <tr>\n",
       "      <th>16</th>\n",
       "      <td>45</td>\n",
       "      <td>10</td>\n",
       "      <td>11</td>\n",
       "      <td>16</td>\n",
       "      <td>41</td>\n",
       "      <td>21</td>\n",
       "      <td>64</td>\n",
       "      <td>51</td>\n",
       "      <td>108</td>\n",
       "      <td>144</td>\n",
       "    </tr>\n",
       "    <tr>\n",
       "      <th>15</th>\n",
       "      <td>34</td>\n",
       "      <td>26</td>\n",
       "      <td>54</td>\n",
       "      <td>9</td>\n",
       "      <td>95</td>\n",
       "      <td>24</td>\n",
       "      <td>121</td>\n",
       "      <td>40</td>\n",
       "      <td>100</td>\n",
       "      <td>327</td>\n",
       "    </tr>\n",
       "    <tr>\n",
       "      <th>5</th>\n",
       "      <td>29</td>\n",
       "      <td>47</td>\n",
       "      <td>25</td>\n",
       "      <td>9</td>\n",
       "      <td>37</td>\n",
       "      <td>18</td>\n",
       "      <td>51</td>\n",
       "      <td>116</td>\n",
       "      <td>59</td>\n",
       "      <td>84</td>\n",
       "    </tr>\n",
       "    <tr>\n",
       "      <th>3</th>\n",
       "      <td>49</td>\n",
       "      <td>27</td>\n",
       "      <td>37</td>\n",
       "      <td>38</td>\n",
       "      <td>77</td>\n",
       "      <td>31</td>\n",
       "      <td>48</td>\n",
       "      <td>230</td>\n",
       "      <td>64</td>\n",
       "      <td>54</td>\n",
       "    </tr>\n",
       "  </tbody>\n",
       "</table>\n",
       "</div>"
      ],
      "text/plain": [
       "      3    5   15   16   21   22   30   58   67   81\n",
       "81   83   32  166  181   77  135    5   24   11   50\n",
       "67   99   86   65   76  105   81    6  232    7   10\n",
       "58  157  158   17   34  178   13   64   59  143   22\n",
       "30  124   14  103  166  170  175   14   17    4   10\n",
       "22   30   10   28   17   19   15  115   12   96  168\n",
       "21   42   35   68   16   21   25  131  243  130   96\n",
       "16   45   10   11   16   41   21   64   51  108  144\n",
       "15   34   26   54    9   95   24  121   40  100  327\n",
       "5    29   47   25    9   37   18   51  116   59   84\n",
       "3    49   27   37   38   77   31   48  230   64   54"
      ]
     },
     "execution_count": 93,
     "metadata": {},
     "output_type": "execute_result"
    }
   ],
   "source": [
    "route"
   ]
  },
  {
   "cell_type": "markdown",
   "metadata": {
    "slideshow": {
     "slide_type": "skip"
    }
   },
   "source": [
    "#### Average route duration heat map"
   ]
  },
  {
   "cell_type": "code",
   "execution_count": 94,
   "metadata": {
    "slideshow": {
     "slide_type": "skip"
    }
   },
   "outputs": [],
   "source": [
    "route_time = {'3':[df1.query('start_station_id == \"3\" & end_station_id == \"81\"').duration_sec.mean(),\n",
    "                    df1.query('start_station_id == \"3\" & end_station_id == \"67\"').duration_sec.mean(),\n",
    "                    df1.query('start_station_id == \"3\" & end_station_id == \"58\"').duration_sec.mean(),\n",
    "                    df1.query('start_station_id == \"3\" & end_station_id == \"30\"').duration_sec.mean(),\n",
    "                    df1.query('start_station_id == \"3\" & end_station_id == \"22\"').duration_sec.mean(),\n",
    "                    df1.query('start_station_id == \"3\" & end_station_id == \"21\"').duration_sec.mean(),\n",
    "                    df1.query('start_station_id == \"3\" & end_station_id == \"16\"').duration_sec.mean(),\n",
    "                    df1.query('start_station_id == \"3\" & end_station_id == \"15\"').duration_sec.mean(),\n",
    "                    df1.query('start_station_id == \"3\" & end_station_id == \"5\"').duration_sec.mean(),\n",
    "                    df1.query('start_station_id == \"3\" & end_station_id == \"3\"').duration_sec.mean()],\n",
    "              '5':[df1.query('start_station_id == \"5\" & end_station_id == \"81\"').duration_sec.mean(),\n",
    "                    df1.query('start_station_id == \"5\" & end_station_id == \"67\"').duration_sec.mean(),\n",
    "                    df1.query('start_station_id == \"5\" & end_station_id == \"58\"').duration_sec.mean(),\n",
    "                    df1.query('start_station_id == \"5\" & end_station_id == \"30\"').duration_sec.mean(),\n",
    "                    df1.query('start_station_id == \"5\" & end_station_id == \"22\"').duration_sec.mean(),\n",
    "                    df1.query('start_station_id == \"5\" & end_station_id == \"21\"').duration_sec.mean(),\n",
    "                    df1.query('start_station_id == \"5\" & end_station_id == \"16\"').duration_sec.mean(),\n",
    "                    df1.query('start_station_id == \"5\" & end_station_id == \"15\"').duration_sec.mean(),\n",
    "                    df1.query('start_station_id == \"5\" & end_station_id == \"5\"').duration_sec.mean(),\n",
    "                    df1.query('start_station_id == \"5\" & end_station_id == \"3\"').duration_sec.mean()],\n",
    "              '15':[df1.query('start_station_id == \"15\" & end_station_id == \"81\"').duration_sec.mean(),\n",
    "                    df1.query('start_station_id == \"15\" & end_station_id == \"67\"').duration_sec.mean(),\n",
    "                    df1.query('start_station_id == \"15\" & end_station_id == \"58\"').duration_sec.mean(),\n",
    "                    df1.query('start_station_id == \"15\" & end_station_id == \"30\"').duration_sec.mean(),\n",
    "                    df1.query('start_station_id == \"15\" & end_station_id == \"22\"').duration_sec.mean(),\n",
    "                    df1.query('start_station_id == \"15\" & end_station_id == \"21\"').duration_sec.mean(),\n",
    "                    df1.query('start_station_id == \"15\" & end_station_id == \"16\"').duration_sec.mean(),\n",
    "                    df1.query('start_station_id == \"15\" & end_station_id == \"15\"').duration_sec.mean(),\n",
    "                    df1.query('start_station_id == \"15\" & end_station_id == \"5\"').duration_sec.mean(),\n",
    "                    df1.query('start_station_id == \"15\" & end_station_id == \"3\"').duration_sec.mean()],\n",
    "              '16':[df1.query('start_station_id == \"16\" & end_station_id == \"81\"').duration_sec.mean(),\n",
    "                    df1.query('start_station_id == \"16\" & end_station_id == \"67\"').duration_sec.mean(),\n",
    "                    df1.query('start_station_id == \"16\" & end_station_id == \"58\"').duration_sec.mean(),\n",
    "                    df1.query('start_station_id == \"16\" & end_station_id == \"30\"').duration_sec.mean(),\n",
    "                    df1.query('start_station_id == \"16\" & end_station_id == \"22\"').duration_sec.mean(),\n",
    "                    df1.query('start_station_id == \"16\" & end_station_id == \"21\"').duration_sec.mean(),\n",
    "                    df1.query('start_station_id == \"16\" & end_station_id == \"16\"').duration_sec.mean(),\n",
    "                    df1.query('start_station_id == \"16\" & end_station_id == \"15\"').duration_sec.mean(),\n",
    "                    df1.query('start_station_id == \"16\" & end_station_id == \"5\"').duration_sec.mean(),\n",
    "                    df1.query('start_station_id == \"16\" & end_station_id == \"3\"').duration_sec.mean()],\n",
    "              '21':[df1.query('start_station_id == \"21\" & end_station_id == \"81\"').duration_sec.mean(),\n",
    "                    df1.query('start_station_id == \"21\" & end_station_id == \"67\"').duration_sec.mean(),\n",
    "                    df1.query('start_station_id == \"21\" & end_station_id == \"58\"').duration_sec.mean(),\n",
    "                    df1.query('start_station_id == \"21\" & end_station_id == \"30\"').duration_sec.mean(),\n",
    "                    df1.query('start_station_id == \"21\" & end_station_id == \"22\"').duration_sec.mean(),\n",
    "                    df1.query('start_station_id == \"21\" & end_station_id == \"21\"').duration_sec.mean(),\n",
    "                    df1.query('start_station_id == \"21\" & end_station_id == \"16\"').duration_sec.mean(),\n",
    "                    df1.query('start_station_id == \"21\" & end_station_id == \"15\"').duration_sec.mean(),\n",
    "                    df1.query('start_station_id == \"21\" & end_station_id == \"5\"').duration_sec.mean(),\n",
    "                    df1.query('start_station_id == \"21\" & end_station_id == \"3\"').duration_sec.mean()],\n",
    "              '22':[df1.query('start_station_id == \"22\" & end_station_id == \"81\"').duration_sec.mean(),\n",
    "                    df1.query('start_station_id == \"22\" & end_station_id == \"67\"').duration_sec.mean(),\n",
    "                    df1.query('start_station_id == \"22\" & end_station_id == \"58\"').duration_sec.mean(),\n",
    "                    df1.query('start_station_id == \"22\" & end_station_id == \"30\"').duration_sec.mean(),\n",
    "                    df1.query('start_station_id == \"22\" & end_station_id == \"22\"').duration_sec.mean(),\n",
    "                    df1.query('start_station_id == \"22\" & end_station_id == \"21\"').duration_sec.mean(),\n",
    "                    df1.query('start_station_id == \"22\" & end_station_id == \"16\"').duration_sec.mean(),\n",
    "                    df1.query('start_station_id == \"22\" & end_station_id == \"15\"').duration_sec.mean(),\n",
    "                    df1.query('start_station_id == \"22\" & end_station_id == \"5\"').duration_sec.mean(),\n",
    "                    df1.query('start_station_id == \"22\" & end_station_id == \"3\"').duration_sec.mean()],\n",
    "              '30':[df1.query('start_station_id == \"30\" & end_station_id == \"81\"').duration_sec.mean(),\n",
    "                    df1.query('start_station_id == \"30\" & end_station_id == \"67\"').duration_sec.mean(),\n",
    "                    df1.query('start_station_id == \"30\" & end_station_id == \"58\"').duration_sec.mean(),\n",
    "                    df1.query('start_station_id == \"30\" & end_station_id == \"30\"').duration_sec.mean(),\n",
    "                    df1.query('start_station_id == \"30\" & end_station_id == \"22\"').duration_sec.mean(),\n",
    "                    df1.query('start_station_id == \"30\" & end_station_id == \"21\"').duration_sec.mean(),\n",
    "                    df1.query('start_station_id == \"30\" & end_station_id == \"16\"').duration_sec.mean(),\n",
    "                    df1.query('start_station_id == \"30\" & end_station_id == \"15\"').duration_sec.mean(),\n",
    "                    df1.query('start_station_id == \"30\" & end_station_id == \"5\"').duration_sec.mean(),\n",
    "                    df1.query('start_station_id == \"30\" & end_station_id == \"3\"').duration_sec.mean()],\n",
    "              '58':[df1.query('start_station_id == \"58\" & end_station_id == \"81\"').duration_sec.mean(),\n",
    "                    df1.query('start_station_id == \"58\" & end_station_id == \"67\"').duration_sec.mean(),\n",
    "                    df1.query('start_station_id == \"58\" & end_station_id == \"58\"').duration_sec.mean(),\n",
    "                    df1.query('start_station_id == \"58\" & end_station_id == \"30\"').duration_sec.mean(),\n",
    "                    df1.query('start_station_id == \"58\" & end_station_id == \"22\"').duration_sec.mean(),\n",
    "                    df1.query('start_station_id == \"58\" & end_station_id == \"21\"').duration_sec.mean(),\n",
    "                    df1.query('start_station_id == \"58\" & end_station_id == \"16\"').duration_sec.mean(),\n",
    "                    df1.query('start_station_id == \"58\" & end_station_id == \"15\"').duration_sec.mean(),\n",
    "                    df1.query('start_station_id == \"58\" & end_station_id == \"5\"').duration_sec.mean(),\n",
    "                    df1.query('start_station_id == \"58\" & end_station_id == \"3\"').duration_sec.mean()],\n",
    "              '67':[df1.query('start_station_id == \"67\" & end_station_id == \"81\"').duration_sec.mean(),\n",
    "                    df1.query('start_station_id == \"67\" & end_station_id == \"67\"').duration_sec.mean(),\n",
    "                    df1.query('start_station_id == \"67\" & end_station_id == \"58\"').duration_sec.mean(),\n",
    "                    df1.query('start_station_id == \"67\" & end_station_id == \"30\"').duration_sec.mean(),\n",
    "                    df1.query('start_station_id == \"67\" & end_station_id == \"22\"').duration_sec.mean(),\n",
    "                    df1.query('start_station_id == \"67\" & end_station_id == \"21\"').duration_sec.mean(),\n",
    "                    df1.query('start_station_id == \"67\" & end_station_id == \"16\"').duration_sec.mean(),\n",
    "                    df1.query('start_station_id == \"67\" & end_station_id == \"15\"').duration_sec.mean(),\n",
    "                    df1.query('start_station_id == \"67\" & end_station_id == \"5\"').duration_sec.mean(),\n",
    "                    df1.query('start_station_id == \"67\" & end_station_id == \"3\"').duration_sec.mean()],\n",
    "              '81':[df1.query('start_station_id == \"81\" & end_station_id == \"81\"').duration_sec.mean(),\n",
    "                    df1.query('start_station_id == \"81\" & end_station_id == \"67\"').duration_sec.mean(),\n",
    "                    df1.query('start_station_id == \"81\" & end_station_id == \"58\"').duration_sec.mean(),\n",
    "                    df1.query('start_station_id == \"81\" & end_station_id == \"30\"').duration_sec.mean(),\n",
    "                    df1.query('start_station_id == \"81\" & end_station_id == \"22\"').duration_sec.mean(),\n",
    "                    df1.query('start_station_id == \"81\" & end_station_id == \"21\"').duration_sec.mean(),\n",
    "                    df1.query('start_station_id == \"81\" & end_station_id == \"16\"').duration_sec.mean(),\n",
    "                    df1.query('start_station_id == \"81\" & end_station_id == \"15\"').duration_sec.mean(),\n",
    "                    df1.query('start_station_id == \"81\" & end_station_id == \"5\"').duration_sec.mean(),\n",
    "                    df1.query('start_station_id == \"81\" & end_station_id == \"3\"').duration_sec.mean()]}"
   ]
  },
  {
   "cell_type": "code",
   "execution_count": 95,
   "metadata": {
    "slideshow": {
     "slide_type": "skip"
    }
   },
   "outputs": [],
   "source": [
    "route_time = pd.DataFrame(route_time)\n",
    "route_time.index = id_index"
   ]
  },
  {
   "cell_type": "code",
   "execution_count": 112,
   "metadata": {
    "slideshow": {
     "slide_type": "slide"
    }
   },
   "outputs": [
    {
     "data": {
      "text/plain": [
       "<matplotlib.axes._subplots.AxesSubplot at 0x17b6fbe0>"
      ]
     },
     "execution_count": 112,
     "metadata": {},
     "output_type": "execute_result"
    },
    {
     "data": {
      "image/png": "[encoded data removed]",
      "text/plain": [
       "<Figure size 864x576 with 2 Axes>"
      ]
     },
     "metadata": {
      "needs_background": "light"
     },
     "output_type": "display_data"
    }
   ],
   "source": [
    "plt.figure(figsize=(12,8))\n",
    "plt.title(\"Route average duration span\", fontsize=20)\n",
    "sb.heatmap(route_time, vmin=0, vmax=4000,cmap='flare', annot=True, annot_kws={'size':10}, cbar_kws={'label': 'second'})"
   ]
  },
  {
   "cell_type": "markdown",
   "metadata": {
    "slideshow": {
     "slide_type": "subslide"
    }
   },
   "source": [
    "The route that has longest duration on average is from station 81, Berry St at 4th St, to station 67, San Francisco Caltrain Station 2 with 563.5 seconds.\n",
    "\n",
    "Interestingly, come second is a round trip starts and ends at the same station 16, Steuart St at Market St, with the average time span of 3426 seconds.\n",
    "\n",
    "Third longest duration route is from station 30, San Francisco Caltrain, to station 67, San Francisco Caltrain Station 2, with 3299 seconds."
   ]
  },
  {
   "cell_type": "code",
   "execution_count": 97,
   "metadata": {
    "slideshow": {
     "slide_type": "subslide"
    }
   },
   "outputs": [
    {
     "data": {
      "text/html": [
       "<div>\n",
       "<style scoped>\n",
       "    .dataframe tbody tr th:only-of-type {\n",
       "        vertical-align: middle;\n",
       "    }\n",
       "\n",
       "    .dataframe tbody tr th {\n",
       "        vertical-align: top;\n",
       "    }\n",
       "\n",
       "    .dataframe thead th {\n",
       "        text-align: right;\n",
       "    }\n",
       "</style>\n",
       "<table border=\"1\" class=\"dataframe\">\n",
       "  <thead>\n",
       "    <tr style=\"text-align: right;\">\n",
       "      <th></th>\n",
       "      <th>3</th>\n",
       "      <th>5</th>\n",
       "      <th>15</th>\n",
       "      <th>16</th>\n",
       "      <th>21</th>\n",
       "      <th>22</th>\n",
       "      <th>30</th>\n",
       "      <th>58</th>\n",
       "      <th>67</th>\n",
       "      <th>81</th>\n",
       "    </tr>\n",
       "  </thead>\n",
       "  <tbody>\n",
       "    <tr>\n",
       "      <th>81</th>\n",
       "      <td>578.518072</td>\n",
       "      <td>530.156250</td>\n",
       "      <td>644.162651</td>\n",
       "      <td>621.972376</td>\n",
       "      <td>640.714286</td>\n",
       "      <td>591.214815</td>\n",
       "      <td>109.000000</td>\n",
       "      <td>767.833333</td>\n",
       "      <td>100.181818</td>\n",
       "      <td>1940.720000</td>\n",
       "    </tr>\n",
       "    <tr>\n",
       "      <th>67</th>\n",
       "      <td>568.757576</td>\n",
       "      <td>513.953488</td>\n",
       "      <td>668.723077</td>\n",
       "      <td>621.684211</td>\n",
       "      <td>591.209524</td>\n",
       "      <td>598.790123</td>\n",
       "      <td>3298.833333</td>\n",
       "      <td>621.827586</td>\n",
       "      <td>563.571429</td>\n",
       "      <td>3721.700000</td>\n",
       "    </tr>\n",
       "    <tr>\n",
       "      <th>58</th>\n",
       "      <td>510.974522</td>\n",
       "      <td>674.373418</td>\n",
       "      <td>836.176471</td>\n",
       "      <td>842.794118</td>\n",
       "      <td>643.904494</td>\n",
       "      <td>805.230769</td>\n",
       "      <td>719.500000</td>\n",
       "      <td>903.067797</td>\n",
       "      <td>752.000000</td>\n",
       "      <td>786.818182</td>\n",
       "    </tr>\n",
       "    <tr>\n",
       "      <th>30</th>\n",
       "      <td>527.903226</td>\n",
       "      <td>588.785714</td>\n",
       "      <td>636.902913</td>\n",
       "      <td>608.024096</td>\n",
       "      <td>603.347059</td>\n",
       "      <td>565.377143</td>\n",
       "      <td>300.571429</td>\n",
       "      <td>648.117647</td>\n",
       "      <td>533.500000</td>\n",
       "      <td>181.700000</td>\n",
       "    </tr>\n",
       "    <tr>\n",
       "      <th>22</th>\n",
       "      <td>558.733333</td>\n",
       "      <td>627.000000</td>\n",
       "      <td>319.892857</td>\n",
       "      <td>458.529412</td>\n",
       "      <td>402.894737</td>\n",
       "      <td>1482.466667</td>\n",
       "      <td>631.260870</td>\n",
       "      <td>859.666667</td>\n",
       "      <td>1021.770833</td>\n",
       "      <td>590.101190</td>\n",
       "    </tr>\n",
       "    <tr>\n",
       "      <th>21</th>\n",
       "      <td>677.404762</td>\n",
       "      <td>948.628571</td>\n",
       "      <td>1454.382353</td>\n",
       "      <td>402.562500</td>\n",
       "      <td>852.571429</td>\n",
       "      <td>332.080000</td>\n",
       "      <td>634.923664</td>\n",
       "      <td>563.477366</td>\n",
       "      <td>646.638462</td>\n",
       "      <td>611.656250</td>\n",
       "    </tr>\n",
       "    <tr>\n",
       "      <th>16</th>\n",
       "      <td>412.311111</td>\n",
       "      <td>487.400000</td>\n",
       "      <td>410.272727</td>\n",
       "      <td>3426.000000</td>\n",
       "      <td>306.439024</td>\n",
       "      <td>351.761905</td>\n",
       "      <td>694.578125</td>\n",
       "      <td>757.000000</td>\n",
       "      <td>618.120370</td>\n",
       "      <td>556.083333</td>\n",
       "    </tr>\n",
       "    <tr>\n",
       "      <th>15</th>\n",
       "      <td>807.147059</td>\n",
       "      <td>870.692308</td>\n",
       "      <td>2209.333333</td>\n",
       "      <td>878.333333</td>\n",
       "      <td>278.242105</td>\n",
       "      <td>345.791667</td>\n",
       "      <td>640.429752</td>\n",
       "      <td>1279.125000</td>\n",
       "      <td>799.610000</td>\n",
       "      <td>633.993884</td>\n",
       "    </tr>\n",
       "    <tr>\n",
       "      <th>5</th>\n",
       "      <td>2631.620690</td>\n",
       "      <td>2346.765957</td>\n",
       "      <td>1120.480000</td>\n",
       "      <td>584.555556</td>\n",
       "      <td>810.270270</td>\n",
       "      <td>629.111111</td>\n",
       "      <td>552.000000</td>\n",
       "      <td>400.543103</td>\n",
       "      <td>543.830508</td>\n",
       "      <td>662.071429</td>\n",
       "    </tr>\n",
       "    <tr>\n",
       "      <th>3</th>\n",
       "      <td>1324.938776</td>\n",
       "      <td>531.481481</td>\n",
       "      <td>648.081081</td>\n",
       "      <td>554.421053</td>\n",
       "      <td>291.693878</td>\n",
       "      <td>512.548387</td>\n",
       "      <td>631.312500</td>\n",
       "      <td>423.721739</td>\n",
       "      <td>708.937500</td>\n",
       "      <td>632.000000</td>\n",
       "    </tr>\n",
       "  </tbody>\n",
       "</table>\n",
       "</div>"
      ],
      "text/plain": [
       "              3            5           15           16          21  \\\n",
       "81   578.518072   530.156250   644.162651   621.972376  640.714286   \n",
       "67   568.757576   513.953488   668.723077   621.684211  591.209524   \n",
       "58   510.974522   674.373418   836.176471   842.794118  643.904494   \n",
       "30   527.903226   588.785714   636.902913   608.024096  603.347059   \n",
       "22   558.733333   627.000000   319.892857   458.529412  402.894737   \n",
       "21   677.404762   948.628571  1454.382353   402.562500  852.571429   \n",
       "16   412.311111   487.400000   410.272727  3426.000000  306.439024   \n",
       "15   807.147059   870.692308  2209.333333   878.333333  278.242105   \n",
       "5   2631.620690  2346.765957  1120.480000   584.555556  810.270270   \n",
       "3   1324.938776   531.481481   648.081081   554.421053  291.693878   \n",
       "\n",
       "             22           30           58           67           81  \n",
       "81   591.214815   109.000000   767.833333   100.181818  1940.720000  \n",
       "67   598.790123  3298.833333   621.827586   563.571429  3721.700000  \n",
       "58   805.230769   719.500000   903.067797   752.000000   786.818182  \n",
       "30   565.377143   300.571429   648.117647   533.500000   181.700000  \n",
       "22  1482.466667   631.260870   859.666667  1021.770833   590.101190  \n",
       "21   332.080000   634.923664   563.477366   646.638462   611.656250  \n",
       "16   351.761905   694.578125   757.000000   618.120370   556.083333  \n",
       "15   345.791667   640.429752  1279.125000   799.610000   633.993884  \n",
       "5    629.111111   552.000000   400.543103   543.830508   662.071429  \n",
       "3    512.548387   631.312500   423.721739   708.937500   632.000000  "
      ]
     },
     "execution_count": 97,
     "metadata": {},
     "output_type": "execute_result"
    }
   ],
   "source": [
    "route_time"
   ]
  },
  {
   "cell_type": "markdown",
   "metadata": {
    "slideshow": {
     "slide_type": "slide"
    }
   },
   "source": [
    "## Further possible investigations"
   ]
  },
  {
   "cell_type": "markdown",
   "metadata": {
    "slideshow": {
     "slide_type": "subslide"
    }
   },
   "source": [
    "Although in this project, I chose to break down the data set into three areas - demography, time and location - to explore, there are interesting paths you can go when investigating this data.\n",
    "\n",
    "One path would be looking across three areas I investigated above. Here are some ideas:\n",
    "\n",
    "1) Find the peak times of the most popular stations.\n",
    "\n",
    "2) Look at which user type uses the Ford Go Bike service more each day. Maybe there are more customers riding the bikes in the weekend.\n",
    "\n",
    "3) Look at which stations have the highest Baby Boomers or Gen Z, and make suggestions if Ford should run some local marketing campaigns there."
   ]
  }
 ],
 "metadata": {
  "celltoolbar": "Slideshow",
  "kernelspec": {
   "display_name": "Python 3",
   "language": "python",
   "name": "python3"
  },
  "language_info": {
   "codemirror_mode": {
    "name": "ipython",
    "version": 3
   },
   "file_extension": ".py",
   "mimetype": "text/x-python",
   "name": "python",
   "nbconvert_exporter": "python",
   "pygments_lexer": "ipython3",
   "version": "3.8.3"
  }
 },
 "nbformat": 4,
 "nbformat_minor": 4
}
